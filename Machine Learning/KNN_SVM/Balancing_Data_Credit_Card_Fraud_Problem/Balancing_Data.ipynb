{
  "nbformat": 4,
  "nbformat_minor": 0,
  "metadata": {
    "kernelspec": {
      "display_name": "Python 3",
      "language": "python",
      "name": "python3"
    },
    "language_info": {
      "codemirror_mode": {
        "name": "ipython",
        "version": 3
      },
      "file_extension": ".py",
      "mimetype": "text/x-python",
      "name": "python",
      "nbconvert_exporter": "python",
      "pygments_lexer": "ipython3",
      "version": "3.7.3"
    },
    "colab": {
      "name": "Balancing_Data.ipynb",
      "provenance": []
    }
  },
  "cells": [
    {
      "cell_type": "markdown",
      "metadata": {
        "id": "r8kdtRDBJ8FO"
      },
      "source": [
        "Credit card fraud detection\n",
        "===\n",
        "\n",
        "Real-life classification problems consist of many cases in which the data is not \"beautifully\" balanced. In such cases, one may find the accuracy score of over 90%, but that may not be the happy ending. This is because we often want to focus only on the minority class, as it plays more important role in such problems. In order to tackle this, we need to come up with proper evaluation metrics and resampling techniques. One of the popular problem regarding imbalanced dataset is Credit Card Fraud Detection. Throughout this problem, we can illustrate well what we need to handle such an imbalanced dataset.\n",
        "\n",
        "![Img](https://raw.githubusercontent.com/tranctan96/Credit-Card-Fraud-Detection-Img/master/Credit-card-fraud.jpg)\n",
        "\n",
        "### Understanding the dataset\n",
        "\n",
        "- **Class**: 0 - non-fraud, 1 - fraud\n",
        "- **Amount**: Transaction's amount\n",
        "- **V1,V2...V28**: These are anonymous features, due to confidentiality. Additionally, these are numerical values which are results of PCA transformation.\n",
        "- **Time**: The amount of seconds elapsed between each transaction and the first transaction in the dataset."
      ]
    },
    {
      "cell_type": "markdown",
      "metadata": {
        "id": "37kXPhvgJ8FP"
      },
      "source": [
        "## 1. Data Analysis\n",
        "Let's import libraries first:"
      ]
    },
    {
      "cell_type": "code",
      "metadata": {
        "id": "dnp8gmfjJ8FQ"
      },
      "source": [
        "# Import libraries: pandas, numpy, matplotlib, seaborn\n",
        "# Your code here\n",
        "import pandas as pd\n",
        "import numpy as np\n",
        "import matplotlib.pyplot as plt\n",
        "import seaborn as sns\n",
        "import warnings\n",
        "warnings.filterwarnings('ignore')"
      ],
      "execution_count": null,
      "outputs": []
    },
    {
      "cell_type": "markdown",
      "metadata": {
        "id": "BUhonU_7J8FT"
      },
      "source": [
        "#### Read csv file \"creditcard.csv\" as data and take a look at dataset"
      ]
    },
    {
      "cell_type": "code",
      "metadata": {
        "id": "W5JK_YnFJ8FT",
        "outputId": "33f8c889-fc24-4e5f-f6d9-6bfa5ae0fcf0"
      },
      "source": [
        "data = pd.read_csv('./creditcard.csv')\n",
        "data.head()"
      ],
      "execution_count": null,
      "outputs": [
        {
          "output_type": "execute_result",
          "data": {
            "text/html": [
              "<div>\n",
              "<style scoped>\n",
              "    .dataframe tbody tr th:only-of-type {\n",
              "        vertical-align: middle;\n",
              "    }\n",
              "\n",
              "    .dataframe tbody tr th {\n",
              "        vertical-align: top;\n",
              "    }\n",
              "\n",
              "    .dataframe thead th {\n",
              "        text-align: right;\n",
              "    }\n",
              "</style>\n",
              "<table border=\"1\" class=\"dataframe\">\n",
              "  <thead>\n",
              "    <tr style=\"text-align: right;\">\n",
              "      <th></th>\n",
              "      <th>Time</th>\n",
              "      <th>V1</th>\n",
              "      <th>V2</th>\n",
              "      <th>V3</th>\n",
              "      <th>V4</th>\n",
              "      <th>V5</th>\n",
              "      <th>V6</th>\n",
              "      <th>V7</th>\n",
              "      <th>V8</th>\n",
              "      <th>V9</th>\n",
              "      <th>...</th>\n",
              "      <th>V21</th>\n",
              "      <th>V22</th>\n",
              "      <th>V23</th>\n",
              "      <th>V24</th>\n",
              "      <th>V25</th>\n",
              "      <th>V26</th>\n",
              "      <th>V27</th>\n",
              "      <th>V28</th>\n",
              "      <th>Amount</th>\n",
              "      <th>Class</th>\n",
              "    </tr>\n",
              "  </thead>\n",
              "  <tbody>\n",
              "    <tr>\n",
              "      <th>0</th>\n",
              "      <td>0.0</td>\n",
              "      <td>-1.359807</td>\n",
              "      <td>-0.072781</td>\n",
              "      <td>2.536347</td>\n",
              "      <td>1.378155</td>\n",
              "      <td>-0.338321</td>\n",
              "      <td>0.462388</td>\n",
              "      <td>0.239599</td>\n",
              "      <td>0.098698</td>\n",
              "      <td>0.363787</td>\n",
              "      <td>...</td>\n",
              "      <td>-0.018307</td>\n",
              "      <td>0.277838</td>\n",
              "      <td>-0.110474</td>\n",
              "      <td>0.066928</td>\n",
              "      <td>0.128539</td>\n",
              "      <td>-0.189115</td>\n",
              "      <td>0.133558</td>\n",
              "      <td>-0.021053</td>\n",
              "      <td>149.62</td>\n",
              "      <td>0</td>\n",
              "    </tr>\n",
              "    <tr>\n",
              "      <th>1</th>\n",
              "      <td>0.0</td>\n",
              "      <td>1.191857</td>\n",
              "      <td>0.266151</td>\n",
              "      <td>0.166480</td>\n",
              "      <td>0.448154</td>\n",
              "      <td>0.060018</td>\n",
              "      <td>-0.082361</td>\n",
              "      <td>-0.078803</td>\n",
              "      <td>0.085102</td>\n",
              "      <td>-0.255425</td>\n",
              "      <td>...</td>\n",
              "      <td>-0.225775</td>\n",
              "      <td>-0.638672</td>\n",
              "      <td>0.101288</td>\n",
              "      <td>-0.339846</td>\n",
              "      <td>0.167170</td>\n",
              "      <td>0.125895</td>\n",
              "      <td>-0.008983</td>\n",
              "      <td>0.014724</td>\n",
              "      <td>2.69</td>\n",
              "      <td>0</td>\n",
              "    </tr>\n",
              "    <tr>\n",
              "      <th>2</th>\n",
              "      <td>1.0</td>\n",
              "      <td>-1.358354</td>\n",
              "      <td>-1.340163</td>\n",
              "      <td>1.773209</td>\n",
              "      <td>0.379780</td>\n",
              "      <td>-0.503198</td>\n",
              "      <td>1.800499</td>\n",
              "      <td>0.791461</td>\n",
              "      <td>0.247676</td>\n",
              "      <td>-1.514654</td>\n",
              "      <td>...</td>\n",
              "      <td>0.247998</td>\n",
              "      <td>0.771679</td>\n",
              "      <td>0.909412</td>\n",
              "      <td>-0.689281</td>\n",
              "      <td>-0.327642</td>\n",
              "      <td>-0.139097</td>\n",
              "      <td>-0.055353</td>\n",
              "      <td>-0.059752</td>\n",
              "      <td>378.66</td>\n",
              "      <td>0</td>\n",
              "    </tr>\n",
              "    <tr>\n",
              "      <th>3</th>\n",
              "      <td>1.0</td>\n",
              "      <td>-0.966272</td>\n",
              "      <td>-0.185226</td>\n",
              "      <td>1.792993</td>\n",
              "      <td>-0.863291</td>\n",
              "      <td>-0.010309</td>\n",
              "      <td>1.247203</td>\n",
              "      <td>0.237609</td>\n",
              "      <td>0.377436</td>\n",
              "      <td>-1.387024</td>\n",
              "      <td>...</td>\n",
              "      <td>-0.108300</td>\n",
              "      <td>0.005274</td>\n",
              "      <td>-0.190321</td>\n",
              "      <td>-1.175575</td>\n",
              "      <td>0.647376</td>\n",
              "      <td>-0.221929</td>\n",
              "      <td>0.062723</td>\n",
              "      <td>0.061458</td>\n",
              "      <td>123.50</td>\n",
              "      <td>0</td>\n",
              "    </tr>\n",
              "    <tr>\n",
              "      <th>4</th>\n",
              "      <td>2.0</td>\n",
              "      <td>-1.158233</td>\n",
              "      <td>0.877737</td>\n",
              "      <td>1.548718</td>\n",
              "      <td>0.403034</td>\n",
              "      <td>-0.407193</td>\n",
              "      <td>0.095921</td>\n",
              "      <td>0.592941</td>\n",
              "      <td>-0.270533</td>\n",
              "      <td>0.817739</td>\n",
              "      <td>...</td>\n",
              "      <td>-0.009431</td>\n",
              "      <td>0.798278</td>\n",
              "      <td>-0.137458</td>\n",
              "      <td>0.141267</td>\n",
              "      <td>-0.206010</td>\n",
              "      <td>0.502292</td>\n",
              "      <td>0.219422</td>\n",
              "      <td>0.215153</td>\n",
              "      <td>69.99</td>\n",
              "      <td>0</td>\n",
              "    </tr>\n",
              "  </tbody>\n",
              "</table>\n",
              "<p>5 rows × 31 columns</p>\n",
              "</div>"
            ],
            "text/plain": [
              "   Time        V1        V2        V3        V4        V5        V6        V7  \\\n",
              "0   0.0 -1.359807 -0.072781  2.536347  1.378155 -0.338321  0.462388  0.239599   \n",
              "1   0.0  1.191857  0.266151  0.166480  0.448154  0.060018 -0.082361 -0.078803   \n",
              "2   1.0 -1.358354 -1.340163  1.773209  0.379780 -0.503198  1.800499  0.791461   \n",
              "3   1.0 -0.966272 -0.185226  1.792993 -0.863291 -0.010309  1.247203  0.237609   \n",
              "4   2.0 -1.158233  0.877737  1.548718  0.403034 -0.407193  0.095921  0.592941   \n",
              "\n",
              "         V8        V9  ...       V21       V22       V23       V24       V25  \\\n",
              "0  0.098698  0.363787  ... -0.018307  0.277838 -0.110474  0.066928  0.128539   \n",
              "1  0.085102 -0.255425  ... -0.225775 -0.638672  0.101288 -0.339846  0.167170   \n",
              "2  0.247676 -1.514654  ...  0.247998  0.771679  0.909412 -0.689281 -0.327642   \n",
              "3  0.377436 -1.387024  ... -0.108300  0.005274 -0.190321 -1.175575  0.647376   \n",
              "4 -0.270533  0.817739  ... -0.009431  0.798278 -0.137458  0.141267 -0.206010   \n",
              "\n",
              "        V26       V27       V28  Amount  Class  \n",
              "0 -0.189115  0.133558 -0.021053  149.62      0  \n",
              "1  0.125895 -0.008983  0.014724    2.69      0  \n",
              "2 -0.139097 -0.055353 -0.059752  378.66      0  \n",
              "3 -0.221929  0.062723  0.061458  123.50      0  \n",
              "4  0.502292  0.219422  0.215153   69.99      0  \n",
              "\n",
              "[5 rows x 31 columns]"
            ]
          },
          "metadata": {
            "tags": []
          },
          "execution_count": 2
        }
      ]
    },
    {
      "cell_type": "markdown",
      "metadata": {
        "id": "LPAflmqpJ8FW"
      },
      "source": [
        "#### Get brief information about dataset, how many observations, columns, columns' type"
      ]
    },
    {
      "cell_type": "code",
      "metadata": {
        "id": "QIKA-mhrJ8FX",
        "outputId": "b40db217-7409-4579-da1d-a4bc24b51666"
      },
      "source": [
        "# Your code here\n",
        "data.info()"
      ],
      "execution_count": null,
      "outputs": [
        {
          "output_type": "stream",
          "text": [
            "<class 'pandas.core.frame.DataFrame'>\n",
            "RangeIndex: 284807 entries, 0 to 284806\n",
            "Data columns (total 31 columns):\n",
            "Time      284807 non-null float64\n",
            "V1        284807 non-null float64\n",
            "V2        284807 non-null float64\n",
            "V3        284807 non-null float64\n",
            "V4        284807 non-null float64\n",
            "V5        284807 non-null float64\n",
            "V6        284807 non-null float64\n",
            "V7        284807 non-null float64\n",
            "V8        284807 non-null float64\n",
            "V9        284807 non-null float64\n",
            "V10       284807 non-null float64\n",
            "V11       284807 non-null float64\n",
            "V12       284807 non-null float64\n",
            "V13       284807 non-null float64\n",
            "V14       284807 non-null float64\n",
            "V15       284807 non-null float64\n",
            "V16       284807 non-null float64\n",
            "V17       284807 non-null float64\n",
            "V18       284807 non-null float64\n",
            "V19       284807 non-null float64\n",
            "V20       284807 non-null float64\n",
            "V21       284807 non-null float64\n",
            "V22       284807 non-null float64\n",
            "V23       284807 non-null float64\n",
            "V24       284807 non-null float64\n",
            "V25       284807 non-null float64\n",
            "V26       284807 non-null float64\n",
            "V27       284807 non-null float64\n",
            "V28       284807 non-null float64\n",
            "Amount    284807 non-null float64\n",
            "Class     284807 non-null int64\n",
            "dtypes: float64(30), int64(1)\n",
            "memory usage: 67.4 MB\n"
          ],
          "name": "stdout"
        }
      ]
    },
    {
      "cell_type": "code",
      "metadata": {
        "id": "aUb9jsyBJ8FZ",
        "outputId": "d10aa5c3-fea9-41a2-dc7a-f693124e3e25"
      },
      "source": [
        "# Another way to check for null\n",
        "# hint: isnull()\n",
        "# Your code here\n",
        "data.isnull().values.any()"
      ],
      "execution_count": null,
      "outputs": [
        {
          "output_type": "execute_result",
          "data": {
            "text/plain": [
              "False"
            ]
          },
          "metadata": {
            "tags": []
          },
          "execution_count": 4
        }
      ]
    },
    {
      "cell_type": "code",
      "metadata": {
        "id": "wcWgVrgSJ8Fc",
        "outputId": "c528a5fc-7daf-4f98-a97f-ffeda26d4a90"
      },
      "source": [
        "# Statistical view of dataset\n",
        "# Your code here\n",
        "data.describe().T"
      ],
      "execution_count": null,
      "outputs": [
        {
          "output_type": "execute_result",
          "data": {
            "text/html": [
              "<div>\n",
              "<style scoped>\n",
              "    .dataframe tbody tr th:only-of-type {\n",
              "        vertical-align: middle;\n",
              "    }\n",
              "\n",
              "    .dataframe tbody tr th {\n",
              "        vertical-align: top;\n",
              "    }\n",
              "\n",
              "    .dataframe thead th {\n",
              "        text-align: right;\n",
              "    }\n",
              "</style>\n",
              "<table border=\"1\" class=\"dataframe\">\n",
              "  <thead>\n",
              "    <tr style=\"text-align: right;\">\n",
              "      <th></th>\n",
              "      <th>count</th>\n",
              "      <th>mean</th>\n",
              "      <th>std</th>\n",
              "      <th>min</th>\n",
              "      <th>25%</th>\n",
              "      <th>50%</th>\n",
              "      <th>75%</th>\n",
              "      <th>max</th>\n",
              "    </tr>\n",
              "  </thead>\n",
              "  <tbody>\n",
              "    <tr>\n",
              "      <th>Time</th>\n",
              "      <td>284807.0</td>\n",
              "      <td>9.481386e+04</td>\n",
              "      <td>47488.145955</td>\n",
              "      <td>0.000000</td>\n",
              "      <td>54201.500000</td>\n",
              "      <td>84692.000000</td>\n",
              "      <td>139320.500000</td>\n",
              "      <td>172792.000000</td>\n",
              "    </tr>\n",
              "    <tr>\n",
              "      <th>V1</th>\n",
              "      <td>284807.0</td>\n",
              "      <td>3.919560e-15</td>\n",
              "      <td>1.958696</td>\n",
              "      <td>-56.407510</td>\n",
              "      <td>-0.920373</td>\n",
              "      <td>0.018109</td>\n",
              "      <td>1.315642</td>\n",
              "      <td>2.454930</td>\n",
              "    </tr>\n",
              "    <tr>\n",
              "      <th>V2</th>\n",
              "      <td>284807.0</td>\n",
              "      <td>5.688174e-16</td>\n",
              "      <td>1.651309</td>\n",
              "      <td>-72.715728</td>\n",
              "      <td>-0.598550</td>\n",
              "      <td>0.065486</td>\n",
              "      <td>0.803724</td>\n",
              "      <td>22.057729</td>\n",
              "    </tr>\n",
              "    <tr>\n",
              "      <th>V3</th>\n",
              "      <td>284807.0</td>\n",
              "      <td>-8.769071e-15</td>\n",
              "      <td>1.516255</td>\n",
              "      <td>-48.325589</td>\n",
              "      <td>-0.890365</td>\n",
              "      <td>0.179846</td>\n",
              "      <td>1.027196</td>\n",
              "      <td>9.382558</td>\n",
              "    </tr>\n",
              "    <tr>\n",
              "      <th>V4</th>\n",
              "      <td>284807.0</td>\n",
              "      <td>2.782312e-15</td>\n",
              "      <td>1.415869</td>\n",
              "      <td>-5.683171</td>\n",
              "      <td>-0.848640</td>\n",
              "      <td>-0.019847</td>\n",
              "      <td>0.743341</td>\n",
              "      <td>16.875344</td>\n",
              "    </tr>\n",
              "    <tr>\n",
              "      <th>V5</th>\n",
              "      <td>284807.0</td>\n",
              "      <td>-1.552563e-15</td>\n",
              "      <td>1.380247</td>\n",
              "      <td>-113.743307</td>\n",
              "      <td>-0.691597</td>\n",
              "      <td>-0.054336</td>\n",
              "      <td>0.611926</td>\n",
              "      <td>34.801666</td>\n",
              "    </tr>\n",
              "    <tr>\n",
              "      <th>V6</th>\n",
              "      <td>284807.0</td>\n",
              "      <td>2.010663e-15</td>\n",
              "      <td>1.332271</td>\n",
              "      <td>-26.160506</td>\n",
              "      <td>-0.768296</td>\n",
              "      <td>-0.274187</td>\n",
              "      <td>0.398565</td>\n",
              "      <td>73.301626</td>\n",
              "    </tr>\n",
              "    <tr>\n",
              "      <th>V7</th>\n",
              "      <td>284807.0</td>\n",
              "      <td>-1.694249e-15</td>\n",
              "      <td>1.237094</td>\n",
              "      <td>-43.557242</td>\n",
              "      <td>-0.554076</td>\n",
              "      <td>0.040103</td>\n",
              "      <td>0.570436</td>\n",
              "      <td>120.589494</td>\n",
              "    </tr>\n",
              "    <tr>\n",
              "      <th>V8</th>\n",
              "      <td>284807.0</td>\n",
              "      <td>-1.927028e-16</td>\n",
              "      <td>1.194353</td>\n",
              "      <td>-73.216718</td>\n",
              "      <td>-0.208630</td>\n",
              "      <td>0.022358</td>\n",
              "      <td>0.327346</td>\n",
              "      <td>20.007208</td>\n",
              "    </tr>\n",
              "    <tr>\n",
              "      <th>V9</th>\n",
              "      <td>284807.0</td>\n",
              "      <td>-3.137024e-15</td>\n",
              "      <td>1.098632</td>\n",
              "      <td>-13.434066</td>\n",
              "      <td>-0.643098</td>\n",
              "      <td>-0.051429</td>\n",
              "      <td>0.597139</td>\n",
              "      <td>15.594995</td>\n",
              "    </tr>\n",
              "    <tr>\n",
              "      <th>V10</th>\n",
              "      <td>284807.0</td>\n",
              "      <td>1.768627e-15</td>\n",
              "      <td>1.088850</td>\n",
              "      <td>-24.588262</td>\n",
              "      <td>-0.535426</td>\n",
              "      <td>-0.092917</td>\n",
              "      <td>0.453923</td>\n",
              "      <td>23.745136</td>\n",
              "    </tr>\n",
              "    <tr>\n",
              "      <th>V11</th>\n",
              "      <td>284807.0</td>\n",
              "      <td>9.170318e-16</td>\n",
              "      <td>1.020713</td>\n",
              "      <td>-4.797473</td>\n",
              "      <td>-0.762494</td>\n",
              "      <td>-0.032757</td>\n",
              "      <td>0.739593</td>\n",
              "      <td>12.018913</td>\n",
              "    </tr>\n",
              "    <tr>\n",
              "      <th>V12</th>\n",
              "      <td>284807.0</td>\n",
              "      <td>-1.810658e-15</td>\n",
              "      <td>0.999201</td>\n",
              "      <td>-18.683715</td>\n",
              "      <td>-0.405571</td>\n",
              "      <td>0.140033</td>\n",
              "      <td>0.618238</td>\n",
              "      <td>7.848392</td>\n",
              "    </tr>\n",
              "    <tr>\n",
              "      <th>V13</th>\n",
              "      <td>284807.0</td>\n",
              "      <td>1.693438e-15</td>\n",
              "      <td>0.995274</td>\n",
              "      <td>-5.791881</td>\n",
              "      <td>-0.648539</td>\n",
              "      <td>-0.013568</td>\n",
              "      <td>0.662505</td>\n",
              "      <td>7.126883</td>\n",
              "    </tr>\n",
              "    <tr>\n",
              "      <th>V14</th>\n",
              "      <td>284807.0</td>\n",
              "      <td>1.479045e-15</td>\n",
              "      <td>0.958596</td>\n",
              "      <td>-19.214325</td>\n",
              "      <td>-0.425574</td>\n",
              "      <td>0.050601</td>\n",
              "      <td>0.493150</td>\n",
              "      <td>10.526766</td>\n",
              "    </tr>\n",
              "    <tr>\n",
              "      <th>V15</th>\n",
              "      <td>284807.0</td>\n",
              "      <td>3.482336e-15</td>\n",
              "      <td>0.915316</td>\n",
              "      <td>-4.498945</td>\n",
              "      <td>-0.582884</td>\n",
              "      <td>0.048072</td>\n",
              "      <td>0.648821</td>\n",
              "      <td>8.877742</td>\n",
              "    </tr>\n",
              "    <tr>\n",
              "      <th>V16</th>\n",
              "      <td>284807.0</td>\n",
              "      <td>1.392007e-15</td>\n",
              "      <td>0.876253</td>\n",
              "      <td>-14.129855</td>\n",
              "      <td>-0.468037</td>\n",
              "      <td>0.066413</td>\n",
              "      <td>0.523296</td>\n",
              "      <td>17.315112</td>\n",
              "    </tr>\n",
              "    <tr>\n",
              "      <th>V17</th>\n",
              "      <td>284807.0</td>\n",
              "      <td>-7.528491e-16</td>\n",
              "      <td>0.849337</td>\n",
              "      <td>-25.162799</td>\n",
              "      <td>-0.483748</td>\n",
              "      <td>-0.065676</td>\n",
              "      <td>0.399675</td>\n",
              "      <td>9.253526</td>\n",
              "    </tr>\n",
              "    <tr>\n",
              "      <th>V18</th>\n",
              "      <td>284807.0</td>\n",
              "      <td>4.328772e-16</td>\n",
              "      <td>0.838176</td>\n",
              "      <td>-9.498746</td>\n",
              "      <td>-0.498850</td>\n",
              "      <td>-0.003636</td>\n",
              "      <td>0.500807</td>\n",
              "      <td>5.041069</td>\n",
              "    </tr>\n",
              "    <tr>\n",
              "      <th>V19</th>\n",
              "      <td>284807.0</td>\n",
              "      <td>9.049732e-16</td>\n",
              "      <td>0.814041</td>\n",
              "      <td>-7.213527</td>\n",
              "      <td>-0.456299</td>\n",
              "      <td>0.003735</td>\n",
              "      <td>0.458949</td>\n",
              "      <td>5.591971</td>\n",
              "    </tr>\n",
              "    <tr>\n",
              "      <th>V20</th>\n",
              "      <td>284807.0</td>\n",
              "      <td>5.085503e-16</td>\n",
              "      <td>0.770925</td>\n",
              "      <td>-54.497720</td>\n",
              "      <td>-0.211721</td>\n",
              "      <td>-0.062481</td>\n",
              "      <td>0.133041</td>\n",
              "      <td>39.420904</td>\n",
              "    </tr>\n",
              "    <tr>\n",
              "      <th>V21</th>\n",
              "      <td>284807.0</td>\n",
              "      <td>1.537294e-16</td>\n",
              "      <td>0.734524</td>\n",
              "      <td>-34.830382</td>\n",
              "      <td>-0.228395</td>\n",
              "      <td>-0.029450</td>\n",
              "      <td>0.186377</td>\n",
              "      <td>27.202839</td>\n",
              "    </tr>\n",
              "    <tr>\n",
              "      <th>V22</th>\n",
              "      <td>284807.0</td>\n",
              "      <td>7.959909e-16</td>\n",
              "      <td>0.725702</td>\n",
              "      <td>-10.933144</td>\n",
              "      <td>-0.542350</td>\n",
              "      <td>0.006782</td>\n",
              "      <td>0.528554</td>\n",
              "      <td>10.503090</td>\n",
              "    </tr>\n",
              "    <tr>\n",
              "      <th>V23</th>\n",
              "      <td>284807.0</td>\n",
              "      <td>5.367590e-16</td>\n",
              "      <td>0.624460</td>\n",
              "      <td>-44.807735</td>\n",
              "      <td>-0.161846</td>\n",
              "      <td>-0.011193</td>\n",
              "      <td>0.147642</td>\n",
              "      <td>22.528412</td>\n",
              "    </tr>\n",
              "    <tr>\n",
              "      <th>V24</th>\n",
              "      <td>284807.0</td>\n",
              "      <td>4.458112e-15</td>\n",
              "      <td>0.605647</td>\n",
              "      <td>-2.836627</td>\n",
              "      <td>-0.354586</td>\n",
              "      <td>0.040976</td>\n",
              "      <td>0.439527</td>\n",
              "      <td>4.584549</td>\n",
              "    </tr>\n",
              "    <tr>\n",
              "      <th>V25</th>\n",
              "      <td>284807.0</td>\n",
              "      <td>1.453003e-15</td>\n",
              "      <td>0.521278</td>\n",
              "      <td>-10.295397</td>\n",
              "      <td>-0.317145</td>\n",
              "      <td>0.016594</td>\n",
              "      <td>0.350716</td>\n",
              "      <td>7.519589</td>\n",
              "    </tr>\n",
              "    <tr>\n",
              "      <th>V26</th>\n",
              "      <td>284807.0</td>\n",
              "      <td>1.699104e-15</td>\n",
              "      <td>0.482227</td>\n",
              "      <td>-2.604551</td>\n",
              "      <td>-0.326984</td>\n",
              "      <td>-0.052139</td>\n",
              "      <td>0.240952</td>\n",
              "      <td>3.517346</td>\n",
              "    </tr>\n",
              "    <tr>\n",
              "      <th>V27</th>\n",
              "      <td>284807.0</td>\n",
              "      <td>-3.660161e-16</td>\n",
              "      <td>0.403632</td>\n",
              "      <td>-22.565679</td>\n",
              "      <td>-0.070840</td>\n",
              "      <td>0.001342</td>\n",
              "      <td>0.091045</td>\n",
              "      <td>31.612198</td>\n",
              "    </tr>\n",
              "    <tr>\n",
              "      <th>V28</th>\n",
              "      <td>284807.0</td>\n",
              "      <td>-1.206049e-16</td>\n",
              "      <td>0.330083</td>\n",
              "      <td>-15.430084</td>\n",
              "      <td>-0.052960</td>\n",
              "      <td>0.011244</td>\n",
              "      <td>0.078280</td>\n",
              "      <td>33.847808</td>\n",
              "    </tr>\n",
              "    <tr>\n",
              "      <th>Amount</th>\n",
              "      <td>284807.0</td>\n",
              "      <td>8.834962e+01</td>\n",
              "      <td>250.120109</td>\n",
              "      <td>0.000000</td>\n",
              "      <td>5.600000</td>\n",
              "      <td>22.000000</td>\n",
              "      <td>77.165000</td>\n",
              "      <td>25691.160000</td>\n",
              "    </tr>\n",
              "    <tr>\n",
              "      <th>Class</th>\n",
              "      <td>284807.0</td>\n",
              "      <td>1.727486e-03</td>\n",
              "      <td>0.041527</td>\n",
              "      <td>0.000000</td>\n",
              "      <td>0.000000</td>\n",
              "      <td>0.000000</td>\n",
              "      <td>0.000000</td>\n",
              "      <td>1.000000</td>\n",
              "    </tr>\n",
              "  </tbody>\n",
              "</table>\n",
              "</div>"
            ],
            "text/plain": [
              "           count          mean           std         min           25%  \\\n",
              "Time    284807.0  9.481386e+04  47488.145955    0.000000  54201.500000   \n",
              "V1      284807.0  3.919560e-15      1.958696  -56.407510     -0.920373   \n",
              "V2      284807.0  5.688174e-16      1.651309  -72.715728     -0.598550   \n",
              "V3      284807.0 -8.769071e-15      1.516255  -48.325589     -0.890365   \n",
              "V4      284807.0  2.782312e-15      1.415869   -5.683171     -0.848640   \n",
              "V5      284807.0 -1.552563e-15      1.380247 -113.743307     -0.691597   \n",
              "V6      284807.0  2.010663e-15      1.332271  -26.160506     -0.768296   \n",
              "V7      284807.0 -1.694249e-15      1.237094  -43.557242     -0.554076   \n",
              "V8      284807.0 -1.927028e-16      1.194353  -73.216718     -0.208630   \n",
              "V9      284807.0 -3.137024e-15      1.098632  -13.434066     -0.643098   \n",
              "V10     284807.0  1.768627e-15      1.088850  -24.588262     -0.535426   \n",
              "V11     284807.0  9.170318e-16      1.020713   -4.797473     -0.762494   \n",
              "V12     284807.0 -1.810658e-15      0.999201  -18.683715     -0.405571   \n",
              "V13     284807.0  1.693438e-15      0.995274   -5.791881     -0.648539   \n",
              "V14     284807.0  1.479045e-15      0.958596  -19.214325     -0.425574   \n",
              "V15     284807.0  3.482336e-15      0.915316   -4.498945     -0.582884   \n",
              "V16     284807.0  1.392007e-15      0.876253  -14.129855     -0.468037   \n",
              "V17     284807.0 -7.528491e-16      0.849337  -25.162799     -0.483748   \n",
              "V18     284807.0  4.328772e-16      0.838176   -9.498746     -0.498850   \n",
              "V19     284807.0  9.049732e-16      0.814041   -7.213527     -0.456299   \n",
              "V20     284807.0  5.085503e-16      0.770925  -54.497720     -0.211721   \n",
              "V21     284807.0  1.537294e-16      0.734524  -34.830382     -0.228395   \n",
              "V22     284807.0  7.959909e-16      0.725702  -10.933144     -0.542350   \n",
              "V23     284807.0  5.367590e-16      0.624460  -44.807735     -0.161846   \n",
              "V24     284807.0  4.458112e-15      0.605647   -2.836627     -0.354586   \n",
              "V25     284807.0  1.453003e-15      0.521278  -10.295397     -0.317145   \n",
              "V26     284807.0  1.699104e-15      0.482227   -2.604551     -0.326984   \n",
              "V27     284807.0 -3.660161e-16      0.403632  -22.565679     -0.070840   \n",
              "V28     284807.0 -1.206049e-16      0.330083  -15.430084     -0.052960   \n",
              "Amount  284807.0  8.834962e+01    250.120109    0.000000      5.600000   \n",
              "Class   284807.0  1.727486e-03      0.041527    0.000000      0.000000   \n",
              "\n",
              "                 50%            75%            max  \n",
              "Time    84692.000000  139320.500000  172792.000000  \n",
              "V1          0.018109       1.315642       2.454930  \n",
              "V2          0.065486       0.803724      22.057729  \n",
              "V3          0.179846       1.027196       9.382558  \n",
              "V4         -0.019847       0.743341      16.875344  \n",
              "V5         -0.054336       0.611926      34.801666  \n",
              "V6         -0.274187       0.398565      73.301626  \n",
              "V7          0.040103       0.570436     120.589494  \n",
              "V8          0.022358       0.327346      20.007208  \n",
              "V9         -0.051429       0.597139      15.594995  \n",
              "V10        -0.092917       0.453923      23.745136  \n",
              "V11        -0.032757       0.739593      12.018913  \n",
              "V12         0.140033       0.618238       7.848392  \n",
              "V13        -0.013568       0.662505       7.126883  \n",
              "V14         0.050601       0.493150      10.526766  \n",
              "V15         0.048072       0.648821       8.877742  \n",
              "V16         0.066413       0.523296      17.315112  \n",
              "V17        -0.065676       0.399675       9.253526  \n",
              "V18        -0.003636       0.500807       5.041069  \n",
              "V19         0.003735       0.458949       5.591971  \n",
              "V20        -0.062481       0.133041      39.420904  \n",
              "V21        -0.029450       0.186377      27.202839  \n",
              "V22         0.006782       0.528554      10.503090  \n",
              "V23        -0.011193       0.147642      22.528412  \n",
              "V24         0.040976       0.439527       4.584549  \n",
              "V25         0.016594       0.350716       7.519589  \n",
              "V26        -0.052139       0.240952       3.517346  \n",
              "V27         0.001342       0.091045      31.612198  \n",
              "V28         0.011244       0.078280      33.847808  \n",
              "Amount     22.000000      77.165000   25691.160000  \n",
              "Class       0.000000       0.000000       1.000000  "
            ]
          },
          "metadata": {
            "tags": []
          },
          "execution_count": 5
        }
      ]
    },
    {
      "cell_type": "markdown",
      "metadata": {
        "id": "FrVhVwH2J8Fe"
      },
      "source": [
        "## 2. Explore Data Analysis\n",
        "### Visualization & Preprocessing"
      ]
    },
    {
      "cell_type": "markdown",
      "metadata": {
        "id": "xudr0Oc5J8Fe"
      },
      "source": [
        "#### Remember the anonymized predictors that is already transformed with PCA ?\n",
        "Let check it, plot histogram for **'V1', 'V2', 'Time', 'Amount'** columns\n",
        "\n",
        "hint: \n",
        "1. Use sns.distplot\n",
        "2. Multiple plot\n",
        "https://jakevdp.github.io/PythonDataScienceHandbook/04.08-multiple-subplots.html#plt.subplot:-Simple-Grids-of-Subplots"
      ]
    },
    {
      "cell_type": "code",
      "metadata": {
        "scrolled": true,
        "id": "EtrJuEMcJ8Ff",
        "outputId": "0e9596ca-ebdb-4441-b3a9-6035eb818d87"
      },
      "source": [
        "from matplotlib.gridspec import GridSpec\n",
        "plt.figure(figsize=(15, 10)) # Set figsize\n",
        "# Your code here\n",
        "gses = GridSpec(2, 2)\n",
        "column_name = ['V1', 'V2', 'Time', 'Amount']\n",
        "for i, gs in enumerate(gses):\n",
        "    ax = plt.subplot(gs)\n",
        "    sns.distplot(data[column_name[i]])\n",
        "plt.show()"
      ],
      "execution_count": null,
      "outputs": [
        {
          "output_type": "display_data",
          "data": {
            "image/png": "[encoded data removed]",
            "text/plain": [
              "<Figure size 1080x720 with 4 Axes>"
            ]
          },
          "metadata": {
            "tags": [],
            "needs_background": "light"
          }
        }
      ]
    },
    {
      "cell_type": "markdown",
      "metadata": {
        "id": "cuMJ1PeBJ8Fi"
      },
      "source": [
        "Here we still have two predictors **Amount** and **Time** that has not been scaled yet. So we need to normalize these features also. Using **sklearn.preprocessing.StandardScaler** for this task"
      ]
    },
    {
      "cell_type": "code",
      "metadata": {
        "id": "nU4wU1sHJ8Fj",
        "outputId": "209194df-c3bb-4bbb-8135-1a1bd4531112"
      },
      "source": [
        "from sklearn.preprocessing import StandardScaler\n",
        "\n",
        "# create StandardScaler and assign to std_scaler\n",
        "std_scaler = StandardScaler()\n",
        "\n",
        "# fit_transform \"Amount\", \"Time\" columns and replace old values with transformed values\n",
        "data['Amount'] = std_scaler.fit_transform(data[['Amount']])\n",
        "data['Time'] = std_scaler.fit_transform(data[['Time']])\n",
        "\n",
        "# Let's look at the data again !\n",
        "# Your code here\n",
        "data.head()"
      ],
      "execution_count": null,
      "outputs": [
        {
          "output_type": "execute_result",
          "data": {
            "text/html": [
              "<div>\n",
              "<style scoped>\n",
              "    .dataframe tbody tr th:only-of-type {\n",
              "        vertical-align: middle;\n",
              "    }\n",
              "\n",
              "    .dataframe tbody tr th {\n",
              "        vertical-align: top;\n",
              "    }\n",
              "\n",
              "    .dataframe thead th {\n",
              "        text-align: right;\n",
              "    }\n",
              "</style>\n",
              "<table border=\"1\" class=\"dataframe\">\n",
              "  <thead>\n",
              "    <tr style=\"text-align: right;\">\n",
              "      <th></th>\n",
              "      <th>Time</th>\n",
              "      <th>V1</th>\n",
              "      <th>V2</th>\n",
              "      <th>V3</th>\n",
              "      <th>V4</th>\n",
              "      <th>V5</th>\n",
              "      <th>V6</th>\n",
              "      <th>V7</th>\n",
              "      <th>V8</th>\n",
              "      <th>V9</th>\n",
              "      <th>...</th>\n",
              "      <th>V21</th>\n",
              "      <th>V22</th>\n",
              "      <th>V23</th>\n",
              "      <th>V24</th>\n",
              "      <th>V25</th>\n",
              "      <th>V26</th>\n",
              "      <th>V27</th>\n",
              "      <th>V28</th>\n",
              "      <th>Amount</th>\n",
              "      <th>Class</th>\n",
              "    </tr>\n",
              "  </thead>\n",
              "  <tbody>\n",
              "    <tr>\n",
              "      <th>0</th>\n",
              "      <td>-1.996583</td>\n",
              "      <td>-1.359807</td>\n",
              "      <td>-0.072781</td>\n",
              "      <td>2.536347</td>\n",
              "      <td>1.378155</td>\n",
              "      <td>-0.338321</td>\n",
              "      <td>0.462388</td>\n",
              "      <td>0.239599</td>\n",
              "      <td>0.098698</td>\n",
              "      <td>0.363787</td>\n",
              "      <td>...</td>\n",
              "      <td>-0.018307</td>\n",
              "      <td>0.277838</td>\n",
              "      <td>-0.110474</td>\n",
              "      <td>0.066928</td>\n",
              "      <td>0.128539</td>\n",
              "      <td>-0.189115</td>\n",
              "      <td>0.133558</td>\n",
              "      <td>-0.021053</td>\n",
              "      <td>0.244964</td>\n",
              "      <td>0</td>\n",
              "    </tr>\n",
              "    <tr>\n",
              "      <th>1</th>\n",
              "      <td>-1.996583</td>\n",
              "      <td>1.191857</td>\n",
              "      <td>0.266151</td>\n",
              "      <td>0.166480</td>\n",
              "      <td>0.448154</td>\n",
              "      <td>0.060018</td>\n",
              "      <td>-0.082361</td>\n",
              "      <td>-0.078803</td>\n",
              "      <td>0.085102</td>\n",
              "      <td>-0.255425</td>\n",
              "      <td>...</td>\n",
              "      <td>-0.225775</td>\n",
              "      <td>-0.638672</td>\n",
              "      <td>0.101288</td>\n",
              "      <td>-0.339846</td>\n",
              "      <td>0.167170</td>\n",
              "      <td>0.125895</td>\n",
              "      <td>-0.008983</td>\n",
              "      <td>0.014724</td>\n",
              "      <td>-0.342475</td>\n",
              "      <td>0</td>\n",
              "    </tr>\n",
              "    <tr>\n",
              "      <th>2</th>\n",
              "      <td>-1.996562</td>\n",
              "      <td>-1.358354</td>\n",
              "      <td>-1.340163</td>\n",
              "      <td>1.773209</td>\n",
              "      <td>0.379780</td>\n",
              "      <td>-0.503198</td>\n",
              "      <td>1.800499</td>\n",
              "      <td>0.791461</td>\n",
              "      <td>0.247676</td>\n",
              "      <td>-1.514654</td>\n",
              "      <td>...</td>\n",
              "      <td>0.247998</td>\n",
              "      <td>0.771679</td>\n",
              "      <td>0.909412</td>\n",
              "      <td>-0.689281</td>\n",
              "      <td>-0.327642</td>\n",
              "      <td>-0.139097</td>\n",
              "      <td>-0.055353</td>\n",
              "      <td>-0.059752</td>\n",
              "      <td>1.160686</td>\n",
              "      <td>0</td>\n",
              "    </tr>\n",
              "    <tr>\n",
              "      <th>3</th>\n",
              "      <td>-1.996562</td>\n",
              "      <td>-0.966272</td>\n",
              "      <td>-0.185226</td>\n",
              "      <td>1.792993</td>\n",
              "      <td>-0.863291</td>\n",
              "      <td>-0.010309</td>\n",
              "      <td>1.247203</td>\n",
              "      <td>0.237609</td>\n",
              "      <td>0.377436</td>\n",
              "      <td>-1.387024</td>\n",
              "      <td>...</td>\n",
              "      <td>-0.108300</td>\n",
              "      <td>0.005274</td>\n",
              "      <td>-0.190321</td>\n",
              "      <td>-1.175575</td>\n",
              "      <td>0.647376</td>\n",
              "      <td>-0.221929</td>\n",
              "      <td>0.062723</td>\n",
              "      <td>0.061458</td>\n",
              "      <td>0.140534</td>\n",
              "      <td>0</td>\n",
              "    </tr>\n",
              "    <tr>\n",
              "      <th>4</th>\n",
              "      <td>-1.996541</td>\n",
              "      <td>-1.158233</td>\n",
              "      <td>0.877737</td>\n",
              "      <td>1.548718</td>\n",
              "      <td>0.403034</td>\n",
              "      <td>-0.407193</td>\n",
              "      <td>0.095921</td>\n",
              "      <td>0.592941</td>\n",
              "      <td>-0.270533</td>\n",
              "      <td>0.817739</td>\n",
              "      <td>...</td>\n",
              "      <td>-0.009431</td>\n",
              "      <td>0.798278</td>\n",
              "      <td>-0.137458</td>\n",
              "      <td>0.141267</td>\n",
              "      <td>-0.206010</td>\n",
              "      <td>0.502292</td>\n",
              "      <td>0.219422</td>\n",
              "      <td>0.215153</td>\n",
              "      <td>-0.073403</td>\n",
              "      <td>0</td>\n",
              "    </tr>\n",
              "  </tbody>\n",
              "</table>\n",
              "<p>5 rows × 31 columns</p>\n",
              "</div>"
            ],
            "text/plain": [
              "       Time        V1        V2        V3        V4        V5        V6  \\\n",
              "0 -1.996583 -1.359807 -0.072781  2.536347  1.378155 -0.338321  0.462388   \n",
              "1 -1.996583  1.191857  0.266151  0.166480  0.448154  0.060018 -0.082361   \n",
              "2 -1.996562 -1.358354 -1.340163  1.773209  0.379780 -0.503198  1.800499   \n",
              "3 -1.996562 -0.966272 -0.185226  1.792993 -0.863291 -0.010309  1.247203   \n",
              "4 -1.996541 -1.158233  0.877737  1.548718  0.403034 -0.407193  0.095921   \n",
              "\n",
              "         V7        V8        V9  ...       V21       V22       V23       V24  \\\n",
              "0  0.239599  0.098698  0.363787  ... -0.018307  0.277838 -0.110474  0.066928   \n",
              "1 -0.078803  0.085102 -0.255425  ... -0.225775 -0.638672  0.101288 -0.339846   \n",
              "2  0.791461  0.247676 -1.514654  ...  0.247998  0.771679  0.909412 -0.689281   \n",
              "3  0.237609  0.377436 -1.387024  ... -0.108300  0.005274 -0.190321 -1.175575   \n",
              "4  0.592941 -0.270533  0.817739  ... -0.009431  0.798278 -0.137458  0.141267   \n",
              "\n",
              "        V25       V26       V27       V28    Amount  Class  \n",
              "0  0.128539 -0.189115  0.133558 -0.021053  0.244964      0  \n",
              "1  0.167170  0.125895 -0.008983  0.014724 -0.342475      0  \n",
              "2 -0.327642 -0.139097 -0.055353 -0.059752  1.160686      0  \n",
              "3  0.647376 -0.221929  0.062723  0.061458  0.140534      0  \n",
              "4 -0.206010  0.502292  0.219422  0.215153 -0.073403      0  \n",
              "\n",
              "[5 rows x 31 columns]"
            ]
          },
          "metadata": {
            "tags": []
          },
          "execution_count": 7
        }
      ]
    },
    {
      "cell_type": "markdown",
      "metadata": {
        "id": "429s22ccJ8Fl"
      },
      "source": [
        "### plot histogram for 'V1', 'V2', 'Time', 'Amount' columns again to check result"
      ]
    },
    {
      "cell_type": "code",
      "metadata": {
        "id": "f4p99Se_J8Fl",
        "outputId": "34f9570e-1708-438b-f5fa-40a2c82a5cac"
      },
      "source": [
        "plt.figure(figsize=(15, 10)) # Set figsize\n",
        "# Your code here\n",
        "gses = GridSpec(2, 2)\n",
        "column_name = ['V1', 'V2', 'Time', 'Amount']\n",
        "for i, gs in enumerate(gses):\n",
        "    ax = plt.subplot(gs)\n",
        "    sns.distplot(data[column_name[i]])\n",
        "plt.show()"
      ],
      "execution_count": null,
      "outputs": [
        {
          "output_type": "display_data",
          "data": {
            "image/png": "[encoded data removed]",
            "text/plain": [
              "<Figure size 1080x720 with 4 Axes>"
            ]
          },
          "metadata": {
            "tags": [],
            "needs_background": "light"
          }
        }
      ]
    },
    {
      "cell_type": "markdown",
      "metadata": {
        "id": "o_DzoUMXJ8Fn"
      },
      "source": [
        "### Plotting target classes\n",
        "In order to check how skewed our data is, let's check for the percentage of each class:\n",
        "\n",
        "Hint: Base on \"Class\" columns\n",
        "- 0: No Fraud\n",
        "- 1: Fraud"
      ]
    },
    {
      "cell_type": "code",
      "metadata": {
        "id": "2lOVmTuhJ8Fn",
        "outputId": "ce71f30d-f30c-4447-d1b1-72851f5580e3"
      },
      "source": [
        "# Check ratio between classes\n",
        "percentage_fraud = (data['Class'] == 1).sum() / data.shape[0] * 100\n",
        "percentage_no_fraud = (data['Class'] == 0).sum() / data.shape[0] * 100\n",
        "\n",
        "print ('Percentage Fraud transactions: ', percentage_fraud)\n",
        "print ('Percentage No-fraud transactions: ', percentage_no_fraud)"
      ],
      "execution_count": null,
      "outputs": [
        {
          "output_type": "stream",
          "text": [
            "Percentage Fraud transactions:  0.1727485630620034\n",
            "Percentage No-fraud transactions:  99.82725143693798\n"
          ],
          "name": "stdout"
        }
      ]
    },
    {
      "cell_type": "markdown",
      "metadata": {
        "id": "5WNMnWg7J8Fp"
      },
      "source": [
        "#### Easily find out, this dataset is heavily skewed.\n",
        "#### Data is beautiful, so let's plot it to visualize the skewness:"
      ]
    },
    {
      "cell_type": "code",
      "metadata": {
        "id": "J8Zc3tzYJ8Fq",
        "outputId": "8977a05a-cf58-4243-b173-0fab19eea50d"
      },
      "source": [
        "fig = plt.figure(figsize=(7,7)) # Set figsize\n",
        "# Your code here\n",
        "sns.countplot(data=data, x='Class')\n",
        "\n",
        "plt.show()"
      ],
      "execution_count": null,
      "outputs": [
        {
          "output_type": "display_data",
          "data": {
            "image/png": "[encoded data removed]",
            "text/plain": [
              "<Figure size 504x504 with 1 Axes>"
            ]
          },
          "metadata": {
            "tags": [],
            "needs_background": "light"
          }
        }
      ]
    },
    {
      "cell_type": "markdown",
      "metadata": {
        "id": "ua2EiBCFJ8Fs"
      },
      "source": [
        "### Approaches to handle imbalanced data\n",
        "Refs: https://www.analyticsvidhya.com/blog/2017/03/imbalanced-classification-problem/\n",
        "\n",
        "Dealing with imbalanced datasets entails strategies such as improving classification algorithms or balancing classes in the training data (data resampling) before providing the data as input to the machine learning algorithm. The later technique is preferred as it has wider application.\n",
        "\n",
        "#### Data-level techniques (Data resampling):\n",
        "Refs: \n",
        "- https://www.kaggle.com/rafjaa/resampling-strategies-for-imbalanced-datasets\n",
        "- https://beckernick.github.io/oversampling-modeling/\n",
        "\n",
        "Despite the advantage of balancing classes, these techniques also have their weaknesses. The simplest implementation of over-sampling is to duplicate random records from the minority class, which can cause overfitting. Whereas in under-sampling, the simplest technique involves removing random records from the majority class, which can cause loss of information.\n",
        "![alt text](https://raw.githubusercontent.com/rafjaa/machine_learning_fecib/master/src/static/img/resampling.png \"Resampling methods\")\n",
        "\n",
        "- Random over-sampling\n",
        "- Random under-sampling\n",
        "- SMOTE (Synthetic Minority Over-sampling Technique)\n",
        "- ...\n",
        "\n",
        "#### Algorithm-level techniques:\n",
        "- Algorithmic ensemble techniques\n",
        "    - Bagging-based \n",
        "    - Boosting-based\n",
        "    - Adaptive Boosting - Ada Boost\n",
        "    - Gradient Tree Boosting\n",
        "    - XG Boost\n",
        "    - ...\n",
        "\n",
        "#### Improving classification algorithm\n",
        "- Using built-in **class_weight** option from sklearn models:\n",
        "    - Logistic regresion\n",
        "    - [SVM](http://scikit-learn.org/stable/auto_examples/svm/plot_separating_hyperplane_unbalanced.html)\n",
        "    - ...\n"
      ]
    },
    {
      "cell_type": "markdown",
      "metadata": {
        "id": "UMRGNtcTJ8Fs"
      },
      "source": [
        "## Assigning X and y for Original dataset"
      ]
    },
    {
      "cell_type": "code",
      "metadata": {
        "id": "79o1NiWtJ8Ft",
        "outputId": "e27da025-8a6f-46df-a21f-8d9075ac3c3d"
      },
      "source": [
        "# Original data\n",
        "X = data.drop(columns='Class')\n",
        "y = data['Class']\n",
        "\n",
        "print ('X shape:', X.shape)\n",
        "print ('y shape:', y.shape)"
      ],
      "execution_count": null,
      "outputs": [
        {
          "output_type": "stream",
          "text": [
            "X shape: (284807, 30)\n",
            "y shape: (284807,)\n"
          ],
          "name": "stdout"
        }
      ]
    },
    {
      "cell_type": "markdown",
      "metadata": {
        "id": "z6P4owkPJ8Fv"
      },
      "source": [
        "#### Train/Test split original data"
      ]
    },
    {
      "cell_type": "code",
      "metadata": {
        "id": "9ofE3FX5J8Fv",
        "outputId": "9a00e2f3-93f5-4a79-940a-f5fbccd649b8"
      },
      "source": [
        "# import train_test_split\n",
        "# Your code here\n",
        "from sklearn.model_selection import train_test_split\n",
        "# Whole dataset\n",
        "X_train, X_test, y_train, y_test = train_test_split(X, y, test_size=0.3, random_state=101)\n",
        "\n",
        "print(\"Number transactions training dataset: \", len(X_train))\n",
        "print(\"Number transactions testing dataset: \", len(X_test))\n",
        "print(\"Total number of transactions: \", len(X_train)+len(X_test))"
      ],
      "execution_count": null,
      "outputs": [
        {
          "output_type": "stream",
          "text": [
            "Number transactions training dataset:  199364\n",
            "Number transactions testing dataset:  85443\n",
            "Total number of transactions:  284807\n"
          ],
          "name": "stdout"
        }
      ]
    },
    {
      "cell_type": "markdown",
      "metadata": {
        "id": "8UYlieclJ8Fx"
      },
      "source": [
        "## Obtaining smaller training data\n",
        "\n",
        "As the total number of transactions is too large, which may damage your computer. We obtain the smaller training dataset with the same ratio of classes of original training dataset."
      ]
    },
    {
      "cell_type": "code",
      "metadata": {
        "id": "WkhQ22HuJ8Fy",
        "outputId": "75491b6a-47a9-4347-b6b2-56dd44e89155"
      },
      "source": [
        "training_data = pd.concat ([X_train,y_train],axis = 1)\n",
        "training_data['Class'].value_counts()"
      ],
      "execution_count": null,
      "outputs": [
        {
          "output_type": "execute_result",
          "data": {
            "text/plain": [
              "0    199016\n",
              "1       348\n",
              "Name: Class, dtype: int64"
            ]
          },
          "metadata": {
            "tags": []
          },
          "execution_count": 17
        }
      ]
    },
    {
      "cell_type": "code",
      "metadata": {
        "id": "sI42oe1TJ8F0",
        "outputId": "a6d4789d-6109-4b7c-aad5-c0a3039a9726"
      },
      "source": [
        "print ('Percentage original fraud: ', percentage_fraud)\n",
        "print ('Percentage original no-fraud: ', percentage_no_fraud)\n",
        "number_of_instances = 100000\n",
        "# We will obtain maximum 100.000 data instances with the same class ratio of original data.\n",
        "# Therefore, new data will have 0.17% fraud and 99.83% non-fraud of 100.000.\n",
        "# Which means, new data will have 170 fraud transactions and 99830 non-fraud transactions.\n",
        "\n",
        "number_sub_fraud = int (percentage_fraud/100 * number_of_instances)\n",
        "number_sub_non_fraud = int (percentage_no_fraud/100 * number_of_instances)\n",
        "\n",
        "sub_fraud_data = training_data[training_data['Class'] == 1].head(number_sub_fraud)\n",
        "sub_non_fraud_data = training_data[training_data['Class'] == 0].head(number_sub_non_fraud)\n",
        "\n",
        "print ('Number of newly sub fraud data:',len(sub_fraud_data))\n",
        "print ('Number of newly sub non-fraud data:',len(sub_non_fraud_data))\n",
        "\n",
        "sub_training_data = pd.concat ([sub_fraud_data, sub_non_fraud_data], axis = 0)\n",
        "sub_training_data['Class'].value_counts()"
      ],
      "execution_count": null,
      "outputs": [
        {
          "output_type": "stream",
          "text": [
            "Percentage original fraud:  0.1727485630620034\n",
            "Percentage original no-fraud:  99.82725143693798\n",
            "Number of newly sub fraud data: 172\n",
            "Number of newly sub non-fraud data: 99827\n"
          ],
          "name": "stdout"
        },
        {
          "output_type": "execute_result",
          "data": {
            "text/plain": [
              "0    99827\n",
              "1      172\n",
              "Name: Class, dtype: int64"
            ]
          },
          "metadata": {
            "tags": []
          },
          "execution_count": 18
        }
      ]
    },
    {
      "cell_type": "markdown",
      "metadata": {
        "id": "WPLXXznHJ8F2"
      },
      "source": [
        "#### Randomly Under-Sampling the Training Dataset\n",
        "For simplicity, i use DataFrame.sample() to randomly sample the instances of each class:"
      ]
    },
    {
      "cell_type": "code",
      "metadata": {
        "id": "iLgmxun-J8F2",
        "outputId": "b564a132-73cd-4172-f8d1-12a1b40da69f"
      },
      "source": [
        "# Fraud/non-fraud data\n",
        "# Select row which \"Class\" is 1 and save in fraud_data\n",
        "fraud_data = sub_training_data[sub_training_data['Class'] == 1]\n",
        "# Select row which \"Class\" is 0 and save in non_fraud_data\n",
        "non_fraud_data = sub_training_data[sub_training_data['Class'] == 0]\n",
        "\n",
        "# Number of fraud, non-fraud transactions\n",
        "number_records_fraud = fraud_data.shape[0]\n",
        "number_records_non_fraud = non_fraud_data.shape[0]\n",
        "\n",
        "# Using sample function on data frame to randomly select number_records_fraud from non_fraud_data data frame\n",
        "under_sample_non_fraud = non_fraud_data.sample(number_records_fraud)\n",
        "# **concat** under_sample_non_fraud and fraud_data to form under_sample_data\n",
        "under_sample_data = pd.concat([under_sample_non_fraud, fraud_data], axis=0)\n",
        "\n",
        "# Showing ratio\n",
        "print(\"Percentage of normal transactions: \", under_sample_non_fraud.shape[0] / under_sample_data.shape[0])\n",
        "print(\"Percentage of fraud transactions: \", fraud_data.shape[0] / under_sample_data.shape[0])\n",
        "print(\"Total number of transactions in resampled data: \", under_sample_data.shape[0])\n",
        "\n",
        "# Assigning X,y for Under-sampled Data\n",
        "X_train_undersample = under_sample_data.drop(columns=['Class'])\n",
        "y_train_undersample = under_sample_data['Class']\n",
        "\n",
        "# Plot countplot\n",
        "plt.figure(figsize=(7,7))\n",
        "# Make a count plot to show ratio between 2 class on \"Class\" column\n",
        "sns.countplot(data=under_sample_data, x='Class')\n",
        "plt.show()"
      ],
      "execution_count": null,
      "outputs": [
        {
          "output_type": "stream",
          "text": [
            "Percentage of normal transactions:  0.5\n",
            "Percentage of fraud transactions:  0.5\n",
            "Total number of transactions in resampled data:  344\n"
          ],
          "name": "stdout"
        },
        {
          "output_type": "display_data",
          "data": {
            "image/png": "[encoded data removed]",
            "text/plain": [
              "<Figure size 504x504 with 1 Axes>"
            ]
          },
          "metadata": {
            "tags": [],
            "needs_background": "light"
          }
        }
      ]
    },
    {
      "cell_type": "markdown",
      "metadata": {
        "id": "AS4f_gshJ8F4"
      },
      "source": [
        "#### Randomly Over-Sampling the Training Dataset\n",
        "I do the same with over-sampling technique."
      ]
    },
    {
      "cell_type": "code",
      "metadata": {
        "id": "kygfhn5AJ8F5",
        "outputId": "ff8c714a-af14-4d3f-a41d-02d77ddf0921"
      },
      "source": [
        "# Fraud/non-fraud data\n",
        "# Select row which \"Class\" is 1 and save in fraud_data\n",
        "fraud_data = sub_training_data[sub_training_data['Class'] == 1]\n",
        "# Select row which \"Class\" is 0 and save in non_fraud_data\n",
        "non_fraud_data = sub_training_data[sub_training_data['Class'] == 0]\n",
        "\n",
        "# Number of fraud, non-fraud transactions\n",
        "number_records_fraud = fraud_data.shape[0]\n",
        "number_records_non_fraud = non_fraud_data.shape[0]\n",
        "\n",
        "# Using sample on fraud_data with replacement \"replace = True\",  since we take a larger sample than population\n",
        "over_sample_fraud = fraud_data.sample(replace = True, n=number_records_non_fraud)\n",
        "# **concat** over_sample_fraud and non_fraud_data to form under_sample_data\n",
        "over_sample_data = pd.concat([over_sample_fraud, non_fraud_data], axis=0)\n",
        "\n",
        "# Showing ratio\n",
        "print(\"Percentage of normal transactions: \", non_fraud_data.shape[0]/over_sample_data.shape[0])\n",
        "print(\"Percentage of fraud transactions: \", fraud_data.shape[0]/over_sample_data.shape[0])\n",
        "print(\"Total number of transactions in resampled data: \", over_sample_data.shape[0])\n",
        "\n",
        "# Assigning X, y for over-sampled dataset\n",
        "X_train_oversample = over_sample_data.drop(columns=['Class'])\n",
        "y_train_oversample = over_sample_data['Class']\n",
        "\n",
        "# Plot countplot\n",
        "plt.figure(figsize=(7,7))\n",
        "# Make a count plot to show ratio between 2 class on \"Class\" column\n",
        "sns.countplot(data=over_sample_data, x='Class')\n",
        "plt.show()"
      ],
      "execution_count": null,
      "outputs": [
        {
          "output_type": "stream",
          "text": [
            "Percentage of normal transactions:  0.5\n",
            "Percentage of fraud transactions:  0.0008614903783545533\n",
            "Total number of transactions in resampled data:  199654\n"
          ],
          "name": "stdout"
        },
        {
          "output_type": "display_data",
          "data": {
            "image/png": "[encoded data removed]",
            "text/plain": [
              "<Figure size 504x504 with 1 Axes>"
            ]
          },
          "metadata": {
            "tags": [],
            "needs_background": "light"
          }
        }
      ]
    },
    {
      "cell_type": "markdown",
      "metadata": {
        "id": "wL91QTr1J8F6"
      },
      "source": [
        "## 3. Modeling"
      ]
    },
    {
      "cell_type": "code",
      "metadata": {
        "id": "9abKuWVNJ8F7"
      },
      "source": [
        "# Spot check with LogisticRegression, DecisionTreeClassifier, RandomForestClassifier, BernoulliNB, GaussianNB, SVM\n",
        "# Import lib\n",
        "# Your code here\n",
        "from sklearn.linear_model import LogisticRegression\n",
        "from sklearn.tree import DecisionTreeClassifier\n",
        "from sklearn.ensemble import RandomForestClassifier\n",
        "from sklearn.svm import SVC, LinearSVC\n",
        "from sklearn.naive_bayes import GaussianNB\n",
        "from sklearn.naive_bayes import BernoulliNB\n",
        "\n",
        "\n",
        "lr = LogisticRegression()\n",
        "dtc = DecisionTreeClassifier()\n",
        "rfc = RandomForestClassifier()\n",
        "bnb = BernoulliNB()\n",
        "gnb = GaussianNB()\n",
        "svm = LinearSVC()\n",
        "\n",
        "\n",
        "models = [lr, dtc, rfc, gnb, bnb, svm]\n",
        "models_name = [\"Logistic Regression\", \"Decision Tree\", \"Random Forest\", \"Bernoulli NB\", \"Gaussian NB\", \"SVM\"]"
      ],
      "execution_count": null,
      "outputs": []
    },
    {
      "cell_type": "markdown",
      "metadata": {
        "id": "gPT9I4nsJ8F9"
      },
      "source": [
        "## 4. Evaluation Metrics\n",
        "This is a clear example where using a typical accuracy score to evaluate our classification algorithm. For example, if we just used a majority class to assign values to all records, we will still be having a high accuracy, BUT WE WOULD BE CLASSIFYING ALL \"1\" INCORRECTLY!\n",
        "\n",
        "\n",
        "[Choosing the right metrics for classification problems](https://medium.com/usf-msds/choosing-the-right-metric-for-evaluating-machine-learning-models-part-2-86d5649a5428)\n",
        "\n",
        "[Evaluation metrics for classification problems](https://medium.com/greyatom/performance-metrics-for-classification-problems-in-machine-learning-part-i-b085d432082b)\n",
        "\n",
        "[What should be used for evaluating a model on an imbalanced data set ?](https://towardsdatascience.com/what-metrics-should-we-use-on-imbalanced-data-set-precision-recall-roc-e2e79252aeba)\n",
        "- Precision + Recall\n",
        "- ROC = TPR + FPR\n",
        "\n",
        "Briefly explained: \n",
        "- **Precision/Recall** focus more on **Positive** class than **Negative** class.\n",
        "- **TPR/FPR (ROC metrics)** measure the ability to distinguish between the classes of model.\n",
        "\n",
        "- The higher the **Precision/Recall**, the better the ability of predicting **Positive** class of the model. \n",
        "- **TPR** is actually **Recall**.\n",
        "- **FPR** is actually **Low Recall** for **Negative** class. The higher the **FPR**, the worse the ability of predicting **Negative** class of the model (which is not a good model).\n"
      ]
    },
    {
      "cell_type": "markdown",
      "metadata": {
        "id": "wPdQuoNvJ8F9"
      },
      "source": [
        "### Precision, Recall, F1-score\n",
        "\n",
        "We are very interested in the recall score, because that is the metric that will help us try to capture the most fraudulent transactions. If you think how Accuracy, Precision and Recall work for a confusion matrix, recall would be the most interesting:\n",
        "\n",
        "- **Accuracy** = (TP+TN)/total\n",
        "- **Precision** = TP/(TP+FP)\n",
        "- **Recall** = TP/(TP+FN)\n",
        "- **F1 score** = Harmonic Mean (Precision, Recall) = 2 x Precision x Recall / (Precision + Recall). \n",
        "\n",
        "_Harmonic mean is kind of an average when x and y are equal. But either x or y is smaller, then it is closer to the smaller number as compared to the larger number_. **Ex**: _If x is large and y is small, then arithmetic mean (x+y)/2 is the value between. But harmonic mean 2xy/(x+y) is the lower value._\n",
        "\n",
        "**F1-score vs Accuracy**: F1 Score might be a better measure to use if we need to seek a balance between Precision and Recall AND there is an uneven class distribution (large number of Actual Negatives).\n",
        "\n",
        "- **Positives** = Fraud transactions (the minority class)\n",
        "- **Negatives** = Normal transactions\n",
        "\n",
        "\n",
        "- A **true positive** is an outcome where the model correctly predicts the positive class. Similarly, a **true negative** is an outcome where the model correctly predicts the negative class.\n",
        "- A **false positive** is an outcome where the model incorrectly predicts the positive class. And a **false negative** is an outcome where the model incorrectly predicts the negative class.\n",
        "\n",
        "\n",
        "- **TP**: actually Fraud and predicted as Fraud\n",
        "- **FP**: actually Normal but predicted as Fraud\n",
        "- **TN**: actually Normal and predicted as Normal\n",
        "- **FN**: actually Fraud but predicted as Normal\n",
        "\n",
        "Due to the imbalance issue, many observations can be predicted as Normal transaction, whereas they are acutally Fraud transactions, which is **False Negatives**. **Recall** penalize the False Negatives.\n",
        "\n",
        "Obviously, trying to increase recall, tends to come with a decrease of precision. However, in our case, if we predict that a transaction is fraudulent and turns out not to be, is not a massive problem compared to the opposite situation.\n",
        "\n",
        "- **Precision** = percentage of correctly classified (actual) Fraud transactions over all transactions that are classified/predicted as Fraud. _**Ex**: Our model has a precision of 0.5—in other words, when it predicts a transaction is Fraud, 50% it is correct._\n",
        "- **Recall** = percentage of correctly classified (actual) Fraud transactions over all transactions that are actually Fraud. _**Ex**: Our model has a recall of 0.11 — in other words, it correctly identifies 11% of all Fraud transactions in the dataset._"
      ]
    },
    {
      "cell_type": "code",
      "metadata": {
        "id": "sTToMM_oJ8F9"
      },
      "source": [
        "# Import confusion_matrix, classification_report\n",
        "# Your code here\n",
        "from sklearn.metrics import classification_report, confusion_matrix\n",
        "from sklearn.metrics import recall_score, precision_score\n",
        "\n",
        "# We create an utils function, that take a trained model as argument and print out confusion matrix\n",
        "# classification report base on X and y\n",
        "def evaluate_model(estimator, X, y, description):\n",
        "    # Note: We should test on the original test set\n",
        "    prediction = estimator.predict(X)\n",
        "#     print('Confusion matrix:\\n', confusion_matrix(y, prediction))\n",
        "#     print('Classification report:\\n', classification_report(y, prediction))\n",
        "#     print('Testing set information:\\n', \"Your code here\")\n",
        "\n",
        "    # Set print options\n",
        "    np.set_printoptions(precision=2)\n",
        "    model_name = type(estimator).__name__\n",
        "    return {'name': model_name, \n",
        "            'recall': recall_score(y, prediction),\n",
        "            'precision': precision_score(y, prediction),\n",
        "           'description': description}"
      ],
      "execution_count": null,
      "outputs": []
    },
    {
      "cell_type": "markdown",
      "metadata": {
        "id": "ZIjyogDCJ8F_"
      },
      "source": [
        "#### Evaluate with _Origin_ dataset"
      ]
    },
    {
      "cell_type": "code",
      "metadata": {
        "id": "872ciCS1J8F_",
        "outputId": "ba8bb26d-bad8-4d2f-9187-14a60113136b"
      },
      "source": [
        "# Now we will test on origin dataset (X_train_sub, y_train_sub)\n",
        "# We loop for models\n",
        "# For each model, we train with train_sub dataset\n",
        "# and use evaluate_model function to test with test set\n",
        "X_train_sub = sub_training_data.drop(columns='Class')\n",
        "y_train_sub = sub_training_data['Class']\n",
        "scores_origin = []\n",
        "for idx, model in enumerate(models):\n",
        "    print(\"Model: {}\".format(models_name[idx]))\n",
        "    # Your code here\n",
        "    model.fit(X_train_sub, y_train_sub)\n",
        "    scores_origin.append(evaluate_model(model, X_test, y_test, 'origin'))\n",
        "    \n",
        "    print(\"=======================================\")"
      ],
      "execution_count": null,
      "outputs": [
        {
          "output_type": "stream",
          "text": [
            "Model: Logistic Regression\n"
          ],
          "name": "stdout"
        },
        {
          "output_type": "stream",
          "text": [
            "/home/dks/anaconda3/envs/py3/lib/python3.6/site-packages/sklearn/linear_model/logistic.py:433: FutureWarning: Default solver will be changed to 'lbfgs' in 0.22. Specify a solver to silence this warning.\n",
            "  FutureWarning)\n"
          ],
          "name": "stderr"
        },
        {
          "output_type": "stream",
          "text": [
            "=======================================\n",
            "Model: Decision Tree\n",
            "=======================================\n",
            "Model: Random Forest\n",
            "=======================================\n",
            "Model: Bernoulli NB\n",
            "=======================================\n",
            "Model: Gaussian NB\n",
            "=======================================\n",
            "Model: SVM\n"
          ],
          "name": "stdout"
        },
        {
          "output_type": "stream",
          "text": [
            "/home/dks/anaconda3/envs/py3/lib/python3.6/site-packages/sklearn/svm/base.py:196: FutureWarning: The default value of gamma will change from 'auto' to 'scale' in version 0.22 to account better for unscaled features. Set gamma explicitly to 'auto' or 'scale' to avoid this warning.\n",
            "  \"avoid this warning.\", FutureWarning)\n"
          ],
          "name": "stderr"
        },
        {
          "output_type": "stream",
          "text": [
            "=======================================\n"
          ],
          "name": "stdout"
        }
      ]
    },
    {
      "cell_type": "markdown",
      "metadata": {
        "id": "xIy-x1lUJ8GB"
      },
      "source": [
        "#### Evaluate with *Undersampled* dataset"
      ]
    },
    {
      "cell_type": "code",
      "metadata": {
        "id": "f9lattecJ8GC",
        "outputId": "de2a963f-2c25-4a70-9d43-9cd496b9b9ed"
      },
      "source": [
        "# Now we will test on Undersampled dataset (X_train_undersample, y_train_undersample)\n",
        "# We loop for models\n",
        "# For each model, we train with train_undersample dataset\n",
        "# and use evaluate_model function to test with test set\n",
        "scores_under = []\n",
        "for idx, model in enumerate(models):\n",
        "    print(\"Model: {}\".format(models_name[idx]))\n",
        "    # Your code here\n",
        "    model.fit(X_train_undersample, y_train_undersample)\n",
        "    scores_under.append(evaluate_model(model, X_test, y_test, 'under'))\n",
        "    print(\"=======================================\")"
      ],
      "execution_count": null,
      "outputs": [
        {
          "output_type": "stream",
          "text": [
            "Model: Logistic Regression\n",
            "=======================================\n",
            "Model: Decision Tree\n",
            "=======================================\n",
            "Model: Random Forest\n",
            "=======================================\n",
            "Model: Bernoulli NB\n"
          ],
          "name": "stdout"
        },
        {
          "output_type": "stream",
          "text": [
            "/home/dks/anaconda3/envs/py3/lib/python3.6/site-packages/sklearn/linear_model/logistic.py:433: FutureWarning: Default solver will be changed to 'lbfgs' in 0.22. Specify a solver to silence this warning.\n",
            "  FutureWarning)\n"
          ],
          "name": "stderr"
        },
        {
          "output_type": "stream",
          "text": [
            "=======================================\n",
            "Model: Gaussian NB\n",
            "=======================================\n",
            "Model: SVM\n"
          ],
          "name": "stdout"
        },
        {
          "output_type": "stream",
          "text": [
            "/home/dks/anaconda3/envs/py3/lib/python3.6/site-packages/sklearn/svm/base.py:196: FutureWarning: The default value of gamma will change from 'auto' to 'scale' in version 0.22 to account better for unscaled features. Set gamma explicitly to 'auto' or 'scale' to avoid this warning.\n",
            "  \"avoid this warning.\", FutureWarning)\n"
          ],
          "name": "stderr"
        },
        {
          "output_type": "stream",
          "text": [
            "=======================================\n"
          ],
          "name": "stdout"
        }
      ]
    },
    {
      "cell_type": "code",
      "metadata": {
        "id": "jmbj4Hj3J8GD"
      },
      "source": [
        "df = pd.DataFrame(scores_origin)"
      ],
      "execution_count": null,
      "outputs": []
    },
    {
      "cell_type": "code",
      "metadata": {
        "id": "3amJHYREJ8GG",
        "outputId": "4bb0c2b6-5d4b-49e6-c161-4e9427c255b8"
      },
      "source": [
        "df.head()"
      ],
      "execution_count": null,
      "outputs": [
        {
          "output_type": "execute_result",
          "data": {
            "text/html": [
              "<div>\n",
              "<style scoped>\n",
              "    .dataframe tbody tr th:only-of-type {\n",
              "        vertical-align: middle;\n",
              "    }\n",
              "\n",
              "    .dataframe tbody tr th {\n",
              "        vertical-align: top;\n",
              "    }\n",
              "\n",
              "    .dataframe thead th {\n",
              "        text-align: right;\n",
              "    }\n",
              "</style>\n",
              "<table border=\"1\" class=\"dataframe\">\n",
              "  <thead>\n",
              "    <tr style=\"text-align: right;\">\n",
              "      <th></th>\n",
              "      <th>description</th>\n",
              "      <th>name</th>\n",
              "      <th>precision</th>\n",
              "      <th>recall</th>\n",
              "    </tr>\n",
              "  </thead>\n",
              "  <tbody>\n",
              "    <tr>\n",
              "      <th>0</th>\n",
              "      <td>origin</td>\n",
              "      <td>LogisticRegression</td>\n",
              "      <td>0.913462</td>\n",
              "      <td>0.659722</td>\n",
              "    </tr>\n",
              "    <tr>\n",
              "      <th>1</th>\n",
              "      <td>origin</td>\n",
              "      <td>DecisionTreeClassifier</td>\n",
              "      <td>0.645963</td>\n",
              "      <td>0.722222</td>\n",
              "    </tr>\n",
              "    <tr>\n",
              "      <th>2</th>\n",
              "      <td>origin</td>\n",
              "      <td>RandomForestClassifier</td>\n",
              "      <td>0.944954</td>\n",
              "      <td>0.715278</td>\n",
              "    </tr>\n",
              "    <tr>\n",
              "      <th>3</th>\n",
              "      <td>origin</td>\n",
              "      <td>GaussianNB</td>\n",
              "      <td>0.061609</td>\n",
              "      <td>0.840278</td>\n",
              "    </tr>\n",
              "    <tr>\n",
              "      <th>4</th>\n",
              "      <td>origin</td>\n",
              "      <td>BernoulliNB</td>\n",
              "      <td>0.853211</td>\n",
              "      <td>0.645833</td>\n",
              "    </tr>\n",
              "  </tbody>\n",
              "</table>\n",
              "</div>"
            ],
            "text/plain": [
              "  description                    name  precision    recall\n",
              "0      origin      LogisticRegression   0.913462  0.659722\n",
              "1      origin  DecisionTreeClassifier   0.645963  0.722222\n",
              "2      origin  RandomForestClassifier   0.944954  0.715278\n",
              "3      origin              GaussianNB   0.061609  0.840278\n",
              "4      origin             BernoulliNB   0.853211  0.645833"
            ]
          },
          "metadata": {
            "tags": []
          },
          "execution_count": 34
        }
      ]
    },
    {
      "cell_type": "markdown",
      "metadata": {
        "id": "f5MN36tMJ8GI"
      },
      "source": [
        "#### Evaluate with *Oversampled* dataset"
      ]
    },
    {
      "cell_type": "code",
      "metadata": {
        "id": "CuSb810jJ8GI",
        "outputId": "0d2f9be7-806a-4a62-e226-28a58485f30b"
      },
      "source": [
        "# Now we will test on Oversampled dataset (X_train_oversample, y_train_oversample)\n",
        "# We loop for models\n",
        "# For each model, we train with train_oversample dataset\n",
        "# and use evaluate_model function to test with test set\n",
        "scores_over = []\n",
        "for idx, model in enumerate(models):\n",
        "    print(\"Model: {}\".format(models_name[idx]))\n",
        "    model.fit(X_train_oversample, y_train_oversample)\n",
        "    scores_over.append(evaluate_model(model, X_test, y_test, 'oversample'))\n",
        "    # Your code here\n",
        "    print(\"=======================================\")"
      ],
      "execution_count": null,
      "outputs": [
        {
          "output_type": "stream",
          "text": [
            "Model: Logistic Regression\n",
            "=======================================\n",
            "Model: Decision Tree\n",
            "=======================================\n",
            "Model: Random Forest\n",
            "=======================================\n",
            "Model: Bernoulli NB\n",
            "=======================================\n",
            "Model: Gaussian NB\n",
            "=======================================\n",
            "Model: SVM\n",
            "=======================================\n"
          ],
          "name": "stdout"
        }
      ]
    },
    {
      "cell_type": "markdown",
      "metadata": {
        "id": "hd4KgDexJ8GM"
      },
      "source": [
        "### Extra\n",
        "[imbalanced-learn](https://imbalanced-learn.readthedocs.io/en/stable/index.html) is a python package offering a number of re-sampling techniques commonly used in datasets showing strong between-class imbalance. It is compatible with scikit-learn and is part of scikit-learn-contrib projects.\n",
        "\n",
        "List of supported resample methods: [link](https://pypi.org/project/imbalanced-learn/)"
      ]
    },
    {
      "cell_type": "code",
      "metadata": {
        "id": "rVkw8nhbJ8GM"
      },
      "source": [
        "# Uncomment this code if you didn't install imblearn\n",
        "# !conda install -c conda-forge imbalanced-learn -y"
      ],
      "execution_count": null,
      "outputs": []
    },
    {
      "cell_type": "markdown",
      "metadata": {
        "id": "IPq_FQPrJ8GO"
      },
      "source": [
        "### a. Oversampling - SMOTE"
      ]
    },
    {
      "cell_type": "code",
      "metadata": {
        "id": "95NACZIzJ8GO"
      },
      "source": [
        "from imblearn.over_sampling import SMOTE\n",
        "sm = SMOTE()\n",
        "X_res, y_res = sm.fit_resample(X_train, y_train)"
      ],
      "execution_count": null,
      "outputs": []
    },
    {
      "cell_type": "markdown",
      "metadata": {
        "id": "Am4tlC75J8GQ"
      },
      "source": [
        "### b. Oversampling - ADASYN"
      ]
    },
    {
      "cell_type": "code",
      "metadata": {
        "id": "8uvzei0sJ8GQ"
      },
      "source": [
        "from imblearn.over_sampling import ADASYN \n",
        "adasyn = ADASYN()\n",
        "X_ada, y_ada = adasyn.fit_resample(X_train, y_train)"
      ],
      "execution_count": null,
      "outputs": []
    },
    {
      "cell_type": "markdown",
      "metadata": {
        "id": "M9ZdC_yeJ8GS"
      },
      "source": [
        "### c. Undersampling - RandomUnderSampler"
      ]
    },
    {
      "cell_type": "code",
      "metadata": {
        "id": "y13KqWKBJ8GT"
      },
      "source": [
        "from imblearn.under_sampling import RandomUnderSampler\n",
        "rus = RandomUnderSampler()\n",
        "X_rus, y_rus = rus.fit_resample(X_train, y_train)"
      ],
      "execution_count": null,
      "outputs": []
    },
    {
      "cell_type": "markdown",
      "metadata": {
        "id": "soRvIipCJ8GU"
      },
      "source": [
        "### d. Combined Class Methods - SMOTE + ENN"
      ]
    },
    {
      "cell_type": "code",
      "metadata": {
        "id": "DZUfymB4J8GV"
      },
      "source": [
        "from imblearn.combine import SMOTEENN\n",
        "smenn = SMOTEENN()\n",
        "X_smenn, y_smenn = smenn.fit_resample(X_train, y_train)"
      ],
      "execution_count": null,
      "outputs": []
    },
    {
      "cell_type": "markdown",
      "metadata": {
        "id": "jn3ZZqWdJ8GX"
      },
      "source": [
        "### e. Evaluate model"
      ]
    },
    {
      "cell_type": "code",
      "metadata": {
        "id": "CPu2-fGgJ8GX",
        "outputId": "197e1719-5b97-42ff-deab-b7bd1c67390a"
      },
      "source": [
        "scores = []\n",
        "\n",
        "for idx, model in enumerate(models):\n",
        "    print(\"Model: {}\".format(models_name[idx]))\n",
        "    model.fit(X_res, y_res)\n",
        "    scores.append(evaluate_model(model, X_test, y_test, 'smote'))\n",
        "    # Your code here\n",
        "    print(\"=======================================\")\n",
        "\n",
        "for idx, model in enumerate(models):\n",
        "    print(\"Model: {}\".format(models_name[idx]))\n",
        "    model.fit(X_ada, y_ada)\n",
        "    scores.append(evaluate_model(model, X_test, y_test, 'ada'))\n",
        "    # Your code here\n",
        "    print(\"=======================================\")\n",
        "\n",
        "for idx, model in enumerate(models):\n",
        "    print(\"Model: {}\".format(models_name[idx]))\n",
        "    model.fit(X_rus, y_rus)\n",
        "    scores.append(evaluate_model(model, X_test, y_test, 'rus'))\n",
        "    # Your code here\n",
        "    print(\"=======================================\")    \n",
        "\n",
        "for idx, model in enumerate(models):\n",
        "    print(\"Model: {}\".format(models_name[idx]))\n",
        "    model.fit(X_smenn, y_smenn)\n",
        "    scores.append(evaluate_model(model, X_test, y_test, 'smoteenn'))\n",
        "    # Your code here\n",
        "    print(\"=======================================\")    "
      ],
      "execution_count": null,
      "outputs": [
        {
          "output_type": "stream",
          "text": [
            "Model: Logistic Regression\n",
            "=======================================\n",
            "Model: Decision Tree\n",
            "=======================================\n",
            "Model: Random Forest\n",
            "=======================================\n",
            "Model: Bernoulli NB\n",
            "=======================================\n",
            "Model: Gaussian NB\n",
            "=======================================\n",
            "Model: SVM\n",
            "=======================================\n",
            "Model: Logistic Regression\n",
            "=======================================\n",
            "Model: Decision Tree\n",
            "=======================================\n",
            "Model: Random Forest\n",
            "=======================================\n",
            "Model: Bernoulli NB\n",
            "=======================================\n",
            "Model: Gaussian NB\n",
            "=======================================\n",
            "Model: SVM\n",
            "=======================================\n",
            "Model: Logistic Regression\n",
            "=======================================\n",
            "Model: Decision Tree\n",
            "=======================================\n",
            "Model: Random Forest\n",
            "=======================================\n",
            "Model: Bernoulli NB\n",
            "=======================================\n",
            "Model: Gaussian NB\n",
            "=======================================\n",
            "Model: SVM\n",
            "=======================================\n",
            "Model: Logistic Regression\n",
            "=======================================\n",
            "Model: Decision Tree\n",
            "=======================================\n",
            "Model: Random Forest\n",
            "=======================================\n",
            "Model: Bernoulli NB\n",
            "=======================================\n",
            "Model: Gaussian NB\n",
            "=======================================\n",
            "Model: SVM\n",
            "=======================================\n"
          ],
          "name": "stdout"
        }
      ]
    },
    {
      "cell_type": "code",
      "metadata": {
        "id": "QOr38pWTJ8GZ"
      },
      "source": [
        "df_imb = pd.DataFrame(scores)\n",
        "df_under = pd.DataFrame(scores_under)\n",
        "df_over  = pd.DataFrame(scores_over)\n",
        "df_origin = pd.DataFrame(scores_origin)\n",
        "\n",
        "df_all = pd.concat([df_imb, df_under, df_over, df_origin])"
      ],
      "execution_count": null,
      "outputs": []
    },
    {
      "cell_type": "markdown",
      "metadata": {
        "id": "zPDE0YO3J8Gb"
      },
      "source": [
        "### Recall vs resample methods"
      ]
    },
    {
      "cell_type": "code",
      "metadata": {
        "id": "dAOtkzgEJ8Gc",
        "outputId": "dad60b4a-5dd8-450d-f419-48ddfa97b3a3"
      },
      "source": [
        "df_all.sort_values(['recall'], inplace=True)\n",
        "for label, df in df_all.groupby('description'):\n",
        "    df.plot(x='name', kind='barh', title=label, figsize=(8, 4), xlim=(0, 1))"
      ],
      "execution_count": null,
      "outputs": [
        {
          "output_type": "display_data",
          "data": {
            "image/png": "[encoded data removed]",
            "text/plain": [
              "<Figure size 576x288 with 1 Axes>"
            ]
          },
          "metadata": {
            "tags": [],
            "needs_background": "light"
          }
        },
        {
          "output_type": "display_data",
          "data": {
            "image/png": "[encoded data removed]",
            "text/plain": [
              "<Figure size 576x288 with 1 Axes>"
            ]
          },
          "metadata": {
            "tags": [],
            "needs_background": "light"
          }
        },
        {
          "output_type": "display_data",
          "data": {
            "image/png": "[encoded data removed]",
            "text/plain": [
              "<Figure size 576x288 with 1 Axes>"
            ]
          },
          "metadata": {
            "tags": [],
            "needs_background": "light"
          }
        },
        {
          "output_type": "display_data",
          "data": {
            "image/png": "[encoded data removed]",
            "text/plain": [
              "<Figure size 576x288 with 1 Axes>"
            ]
          },
          "metadata": {
            "tags": [],
            "needs_background": "light"
          }
        },
        {
          "output_type": "display_data",
          "data": {
            "image/png": "[encoded data removed]",
            "text/plain": [
              "<Figure size 576x288 with 1 Axes>"
            ]
          },
          "metadata": {
            "tags": [],
            "needs_background": "light"
          }
        },
        {
          "output_type": "display_data",
          "data": {
            "image/png": "[encoded data removed]",
            "text/plain": [
              "<Figure size 576x288 with 1 Axes>"
            ]
          },
          "metadata": {
            "tags": [],
            "needs_background": "light"
          }
        },
        {
          "output_type": "display_data",
          "data": {
            "image/png": "[encoded data removed]",
            "text/plain": [
              "<Figure size 576x288 with 1 Axes>"
            ]
          },
          "metadata": {
            "tags": [],
            "needs_background": "light"
          }
        }
      ]
    },
    {
      "cell_type": "markdown",
      "metadata": {
        "id": "-cH_mQcPJ8Gd"
      },
      "source": [
        "### Recall vs Algorithms"
      ]
    },
    {
      "cell_type": "code",
      "metadata": {
        "id": "9xhoKWDeJ8Ge",
        "outputId": "d0391d1f-f343-437f-9e29-1d3e677a9901"
      },
      "source": [
        "df_all.sort_values('recall', inplace=True)\n",
        "for label, df in df_all.groupby('name'):\n",
        "    df.plot(x='description', kind='barh', title=label, figsize=(8, 4), xlim=(0,1))"
      ],
      "execution_count": null,
      "outputs": [
        {
          "output_type": "display_data",
          "data": {
            "image/png": "[encoded data removed]",
            "text/plain": [
              "<Figure size 576x288 with 1 Axes>"
            ]
          },
          "metadata": {
            "tags": [],
            "needs_background": "light"
          }
        },
        {
          "output_type": "display_data",
          "data": {
            "image/png": "[encoded data removed]",
            "text/plain": [
              "<Figure size 576x288 with 1 Axes>"
            ]
          },
          "metadata": {
            "tags": [],
            "needs_background": "light"
          }
        },
        {
          "output_type": "display_data",
          "data": {
            "image/png": "[encoded data removed]",
            "text/plain": [
              "<Figure size 576x288 with 1 Axes>"
            ]
          },
          "metadata": {
            "tags": [],
            "needs_background": "light"
          }
        },
        {
          "output_type": "display_data",
          "data": {
            "image/png": "[encoded data removed]",
            "text/plain": [
              "<Figure size 576x288 with 1 Axes>"
            ]
          },
          "metadata": {
            "tags": [],
            "needs_background": "light"
          }
        },
        {
          "output_type": "display_data",
          "data": {
            "image/png": "[encoded data removed]",
            "text/plain": [
              "<Figure size 576x288 with 1 Axes>"
            ]
          },
          "metadata": {
            "tags": [],
            "needs_background": "light"
          }
        },
        {
          "output_type": "display_data",
          "data": {
            "image/png": "[encoded data removed]",
            "text/plain": [
              "<Figure size 576x288 with 1 Axes>"
            ]
          },
          "metadata": {
            "tags": [],
            "needs_background": "light"
          }
        },
        {
          "output_type": "display_data",
          "data": {
            "image/png": "[encoded data removed]",
            "text/plain": [
              "<Figure size 576x288 with 1 Axes>"
            ]
          },
          "metadata": {
            "tags": [],
            "needs_background": "light"
          }
        }
      ]
    },
    {
      "cell_type": "markdown",
      "metadata": {
        "id": "bn4ANPBBJ8Gf"
      },
      "source": [
        "## 5. GridsearchCV"
      ]
    },
    {
      "cell_type": "markdown",
      "metadata": {
        "id": "0dZoYPIyJ8Gg"
      },
      "source": [
        "- pipline: http://queirozf.com/entries/scikit-learn-pipeline-examples\n",
        "- GridsearchCV: https://chrisalbon.com/machine_learning/model_evaluation/cross_validation_parameter_tuning_grid_search/\n",
        "- GridsearchCV scorer:https://towardsdatascience.com/fine-tuning-a-classifier-in-scikit-learn-66e048c21e65"
      ]
    },
    {
      "cell_type": "code",
      "metadata": {
        "id": "RaZNf7mPJ8Gg"
      },
      "source": [
        "# Import Pipeline and GridSearchCV\n",
        "from sklearn.pipeline import Pipeline\n",
        "from sklearn.model_selection import GridSearchCV"
      ],
      "execution_count": null,
      "outputs": []
    },
    {
      "cell_type": "code",
      "metadata": {
        "id": "AfwXmS4NJ8Gi"
      },
      "source": [
        "step = []\n",
        "# append a step 'cls' with value is LogisticRegression to step variable\n",
        "# Your code here\n",
        "step.append(['cls', LogisticRegression()])\n",
        "# Create Pipeline with defined step\n",
        "ppl = Pipeline(step)"
      ],
      "execution_count": null,
      "outputs": []
    },
    {
      "cell_type": "code",
      "metadata": {
        "id": "VNksQvjaJ8Gk"
      },
      "source": [
        "# Define params grid, gridsearch cv go throuh each item in params_grid\n",
        "# For each item, it changes param of Pipeline base on \"key\" of item\n",
        "params_grid = {\n",
        "    \"cls\": models\n",
        "}"
      ],
      "execution_count": null,
      "outputs": []
    },
    {
      "cell_type": "code",
      "metadata": {
        "id": "nulom4TZJ8Gm"
      },
      "source": [
        "from sklearn.metrics import roc_curve, precision_recall_curve, auc, make_scorer, recall_score, accuracy_score, precision_score, confusion_matrix\n",
        "# Define metrics to evaluate model\n",
        "scorers = {\n",
        "    'recall_score': make_scorer(recall_score),\n",
        "    'precision_score': make_scorer(precision_score),\n",
        "    'accuracy_score': make_scorer(accuracy_score)\n",
        "}"
      ],
      "execution_count": null,
      "outputs": []
    },
    {
      "cell_type": "code",
      "metadata": {
        "id": "q4JQNS_4J8Go"
      },
      "source": [
        "# Create GridSearchCV with Pipeline as estimator and params_grid\n",
        "gridcv = GridSearchCV(ppl, param_grid=params_grid, scoring=scorers, refit='recall_score', return_train_score=True, verbose=5)"
      ],
      "execution_count": null,
      "outputs": []
    },
    {
      "cell_type": "code",
      "metadata": {
        "id": "Nmlo3RRJJ8Gq",
        "outputId": "d75c9157-534c-437b-febd-c4aca166fbb8"
      },
      "source": [
        "# train model as a normal model with fit\n",
        "gridcv.fit(X_train_oversample, y_train_oversample)"
      ],
      "execution_count": null,
      "outputs": [
        {
          "output_type": "stream",
          "text": [
            "/home/dks/anaconda3/envs/py3/lib/python3.7/site-packages/sklearn/model_selection/_split.py:2053: FutureWarning: You should specify a value for 'cv' instead of relying on the default value. The default value will change from 3 to 5 in version 0.22.\n",
            "  warnings.warn(CV_WARNING, FutureWarning)\n",
            "[Parallel(n_jobs=1)]: Using backend SequentialBackend with 1 concurrent workers.\n",
            "/home/dks/anaconda3/envs/py3/lib/python3.7/site-packages/sklearn/linear_model/logistic.py:433: FutureWarning: Default solver will be changed to 'lbfgs' in 0.22. Specify a solver to silence this warning.\n",
            "  FutureWarning)\n"
          ],
          "name": "stderr"
        },
        {
          "output_type": "stream",
          "text": [
            "Fitting 3 folds for each of 5 candidates, totalling 15 fits\n",
            "[CV] cls=LogisticRegression(C=1.0, class_weight=None, dual=False, fit_intercept=True,\n",
            "          intercept_scaling=1, max_iter=100, multi_class='warn',\n",
            "          n_jobs=None, penalty='l2', random_state=None, solver='warn',\n",
            "          tol=0.0001, verbose=0, warm_start=False) \n",
            "[CV]  cls=LogisticRegression(C=1.0, class_weight=None, dual=False, fit_intercept=True,\n",
            "          intercept_scaling=1, max_iter=100, multi_class='warn',\n",
            "          n_jobs=None, penalty='l2', random_state=None, solver='warn',\n",
            "          tol=0.0001, verbose=0, warm_start=False), recall_score=0.9403491901313219, precision_score=0.9789457218833099, accuracy_score=0.9600625056345223, total=   1.7s\n",
            "[CV] cls=LogisticRegression(C=1.0, class_weight=None, dual=False, fit_intercept=True,\n",
            "          intercept_scaling=1, max_iter=100, multi_class='warn',\n",
            "          n_jobs=None, penalty='l2', random_state=None, solver='warn',\n",
            "          tol=0.0001, verbose=0, warm_start=False) \n"
          ],
          "name": "stdout"
        },
        {
          "output_type": "stream",
          "text": [
            "[Parallel(n_jobs=1)]: Done   1 out of   1 | elapsed:    1.8s remaining:    0.0s\n",
            "/home/dks/anaconda3/envs/py3/lib/python3.7/site-packages/sklearn/linear_model/logistic.py:433: FutureWarning: Default solver will be changed to 'lbfgs' in 0.22. Specify a solver to silence this warning.\n",
            "  FutureWarning)\n"
          ],
          "name": "stderr"
        },
        {
          "output_type": "stream",
          "text": [
            "[CV]  cls=LogisticRegression(C=1.0, class_weight=None, dual=False, fit_intercept=True,\n",
            "          intercept_scaling=1, max_iter=100, multi_class='warn',\n",
            "          n_jobs=None, penalty='l2', random_state=None, solver='warn',\n",
            "          tol=0.0001, verbose=0, warm_start=False), recall_score=0.9426029990684256, precision_score=0.9770129263354618, accuracy_score=0.9602127595636626, total=   1.6s\n",
            "[CV] cls=LogisticRegression(C=1.0, class_weight=None, dual=False, fit_intercept=True,\n",
            "          intercept_scaling=1, max_iter=100, multi_class='warn',\n",
            "          n_jobs=None, penalty='l2', random_state=None, solver='warn',\n",
            "          tol=0.0001, verbose=0, warm_start=False) \n"
          ],
          "name": "stdout"
        },
        {
          "output_type": "stream",
          "text": [
            "[Parallel(n_jobs=1)]: Done   2 out of   2 | elapsed:    3.4s remaining:    0.0s\n",
            "/home/dks/anaconda3/envs/py3/lib/python3.7/site-packages/sklearn/linear_model/logistic.py:433: FutureWarning: Default solver will be changed to 'lbfgs' in 0.22. Specify a solver to silence this warning.\n",
            "  FutureWarning)\n"
          ],
          "name": "stderr"
        },
        {
          "output_type": "stream",
          "text": [
            "[CV]  cls=LogisticRegression(C=1.0, class_weight=None, dual=False, fit_intercept=True,\n",
            "          intercept_scaling=1, max_iter=100, multi_class='warn',\n",
            "          n_jobs=None, penalty='l2', random_state=None, solver='warn',\n",
            "          tol=0.0001, verbose=0, warm_start=False), recall_score=0.9412489481908883, precision_score=0.9769189981597579, accuracy_score=0.959505349200625, total=   1.7s\n",
            "[CV] cls=DecisionTreeClassifier(class_weight=None, criterion='gini', max_depth=None,\n",
            "            max_features=None, max_leaf_nodes=None,\n",
            "            min_impurity_decrease=0.0, min_impurity_split=None,\n",
            "            min_samples_leaf=1, min_samples_split=2,\n",
            "            min_weight_fraction_leaf=0.0, presort=False, random_state=None,\n",
            "            splitter='best') \n"
          ],
          "name": "stdout"
        },
        {
          "output_type": "stream",
          "text": [
            "[Parallel(n_jobs=1)]: Done   3 out of   3 | elapsed:    5.1s remaining:    0.0s\n"
          ],
          "name": "stderr"
        },
        {
          "output_type": "stream",
          "text": [
            "[CV]  cls=DecisionTreeClassifier(class_weight=None, criterion='gini', max_depth=None,\n",
            "            max_features=None, max_leaf_nodes=None,\n",
            "            min_impurity_decrease=0.0, min_impurity_split=None,\n",
            "            min_samples_leaf=1, min_samples_split=2,\n",
            "            min_weight_fraction_leaf=0.0, presort=False, random_state=None,\n",
            "            splitter='best'), recall_score=1.0, precision_score=0.9995794659217205, accuracy_score=0.9997896444992036, total=   2.2s\n",
            "[CV] cls=DecisionTreeClassifier(class_weight=None, criterion='gini', max_depth=None,\n",
            "            max_features=None, max_leaf_nodes=None,\n",
            "            min_impurity_decrease=0.0, min_impurity_split=None,\n",
            "            min_samples_leaf=1, min_samples_split=2,\n",
            "            min_weight_fraction_leaf=0.0, presort=False, random_state=None,\n",
            "            splitter='best') \n"
          ],
          "name": "stdout"
        },
        {
          "output_type": "stream",
          "text": [
            "[Parallel(n_jobs=1)]: Done   4 out of   4 | elapsed:    7.4s remaining:    0.0s\n"
          ],
          "name": "stderr"
        },
        {
          "output_type": "stream",
          "text": [
            "[CV]  cls=DecisionTreeClassifier(class_weight=None, criterion='gini', max_depth=None,\n",
            "            max_features=None, max_leaf_nodes=None,\n",
            "            min_impurity_decrease=0.0, min_impurity_split=None,\n",
            "            min_samples_leaf=1, min_samples_split=2,\n",
            "            min_weight_fraction_leaf=0.0, presort=False, random_state=None,\n",
            "            splitter='best'), recall_score=1.0, precision_score=0.999639520562348, accuracy_score=0.9998196952850317, total=   2.1s\n",
            "[CV] cls=DecisionTreeClassifier(class_weight=None, criterion='gini', max_depth=None,\n",
            "            max_features=None, max_leaf_nodes=None,\n",
            "            min_impurity_decrease=0.0, min_impurity_split=None,\n",
            "            min_samples_leaf=1, min_samples_split=2,\n",
            "            min_weight_fraction_leaf=0.0, presort=False, random_state=None,\n",
            "            splitter='best') \n",
            "[CV]  cls=DecisionTreeClassifier(class_weight=None, criterion='gini', max_depth=None,\n",
            "            max_features=None, max_leaf_nodes=None,\n",
            "            min_impurity_decrease=0.0, min_impurity_split=None,\n",
            "            min_samples_leaf=1, min_samples_split=2,\n",
            "            min_weight_fraction_leaf=0.0, presort=False, random_state=None,\n",
            "            splitter='best'), recall_score=1.0, precision_score=0.9994593620472157, accuracy_score=0.9997295347998557, total=   2.2s\n",
            "[CV] cls=RandomForestClassifier(bootstrap=True, class_weight=None, criterion='gini',\n",
            "            max_depth=None, max_features='auto', max_leaf_nodes=None,\n",
            "            min_impurity_decrease=0.0, min_impurity_split=None,\n",
            "            min_samples_leaf=1, min_samples_split=2,\n",
            "            min_weight_fraction_leaf=0.0, n_estimators=10, n_jobs=None,\n",
            "            oob_score=False, random_state=None, verbose=0,\n",
            "            warm_start=False) \n",
            "[CV]  cls=RandomForestClassifier(bootstrap=True, class_weight=None, criterion='gini',\n",
            "            max_depth=None, max_features='auto', max_leaf_nodes=None,\n",
            "            min_impurity_decrease=0.0, min_impurity_split=None,\n",
            "            min_samples_leaf=1, min_samples_split=2,\n",
            "            min_weight_fraction_leaf=0.0, n_estimators=10, n_jobs=None,\n",
            "            oob_score=False, random_state=None, verbose=0,\n",
            "            warm_start=False), recall_score=1.0, precision_score=0.9998798113037469, accuracy_score=0.9999398984283439, total=   2.8s\n",
            "[CV] cls=RandomForestClassifier(bootstrap=True, class_weight=None, criterion='gini',\n",
            "            max_depth=None, max_features='auto', max_leaf_nodes=None,\n",
            "            min_impurity_decrease=0.0, min_impurity_split=None,\n",
            "            min_samples_leaf=1, min_samples_split=2,\n",
            "            min_weight_fraction_leaf=0.0, n_estimators=10, n_jobs=None,\n",
            "            oob_score=False, random_state=None, verbose=0,\n",
            "            warm_start=False) \n",
            "[CV]  cls=RandomForestClassifier(bootstrap=True, class_weight=None, criterion='gini',\n",
            "            max_depth=None, max_features='auto', max_leaf_nodes=None,\n",
            "            min_impurity_decrease=0.0, min_impurity_split=None,\n",
            "            min_samples_leaf=1, min_samples_split=2,\n",
            "            min_weight_fraction_leaf=0.0, n_estimators=10, n_jobs=None,\n",
            "            oob_score=False, random_state=None, verbose=0,\n",
            "            warm_start=False), recall_score=1.0, precision_score=0.9998798113037469, accuracy_score=0.9999398984283439, total=   2.7s\n",
            "[CV] cls=RandomForestClassifier(bootstrap=True, class_weight=None, criterion='gini',\n",
            "            max_depth=None, max_features='auto', max_leaf_nodes=None,\n",
            "            min_impurity_decrease=0.0, min_impurity_split=None,\n",
            "            min_samples_leaf=1, min_samples_split=2,\n",
            "            min_weight_fraction_leaf=0.0, n_estimators=10, n_jobs=None,\n",
            "            oob_score=False, random_state=None, verbose=0,\n",
            "            warm_start=False) \n",
            "[CV]  cls=RandomForestClassifier(bootstrap=True, class_weight=None, criterion='gini',\n",
            "            max_depth=None, max_features='auto', max_leaf_nodes=None,\n",
            "            min_impurity_decrease=0.0, min_impurity_split=None,\n",
            "            min_samples_leaf=1, min_samples_split=2,\n",
            "            min_weight_fraction_leaf=0.0, n_estimators=10, n_jobs=None,\n",
            "            oob_score=False, random_state=None, verbose=0,\n",
            "            warm_start=False), recall_score=1.0, precision_score=0.9999699492141719, accuracy_score=0.9999849741555475, total=   2.5s\n",
            "[CV] cls=GaussianNB(priors=None, var_smoothing=1e-09) ................\n",
            "[CV]  cls=GaussianNB(priors=None, var_smoothing=1e-09), recall_score=0.8589716621089641, precision_score=0.9731717281764947, accuracy_score=0.9176458214382306, total=   0.1s\n",
            "[CV] cls=GaussianNB(priors=None, var_smoothing=1e-09) ................\n",
            "[CV]  cls=GaussianNB(priors=None, var_smoothing=1e-09), recall_score=0.8609850647594435, precision_score=0.9708254269449715, accuracy_score=0.9175556690807465, total=   0.1s\n",
            "[CV] cls=GaussianNB(priors=None, var_smoothing=1e-09) ................\n",
            "[CV]  cls=GaussianNB(priors=None, var_smoothing=1e-09), recall_score=0.8577653564130304, precision_score=0.9718089271730619, accuracy_score=0.9164412789998798, total=   0.1s\n",
            "[CV] cls=BernoulliNB(alpha=1.0, binarize=0.0, class_prior=None, fit_prior=True) \n",
            "[CV]  cls=BernoulliNB(alpha=1.0, binarize=0.0, class_prior=None, fit_prior=True), recall_score=0.8085163927036692, precision_score=0.9914142530768664, accuracy_score=0.9007572798028668, total=   0.2s\n",
            "[CV] cls=BernoulliNB(alpha=1.0, binarize=0.0, class_prior=None, fit_prior=True) \n",
            "[CV]  cls=BernoulliNB(alpha=1.0, binarize=0.0, class_prior=None, fit_prior=True), recall_score=0.7987198365237251, precision_score=0.991309861256154, accuracy_score=0.8958590017128948, total=   0.2s\n",
            "[CV] cls=BernoulliNB(alpha=1.0, binarize=0.0, class_prior=None, fit_prior=True) \n",
            "[CV]  cls=BernoulliNB(alpha=1.0, binarize=0.0, class_prior=None, fit_prior=True), recall_score=0.8027407140281284, precision_score=0.9909114515710206, accuracy_score=0.8976890251232119, total=   0.2s\n"
          ],
          "name": "stdout"
        },
        {
          "output_type": "stream",
          "text": [
            "[Parallel(n_jobs=1)]: Done  15 out of  15 | elapsed:   22.7s finished\n"
          ],
          "name": "stderr"
        },
        {
          "output_type": "execute_result",
          "data": {
            "text/plain": [
              "GridSearchCV(cv='warn', error_score='raise-deprecating',\n",
              "       estimator=Pipeline(memory=None,\n",
              "     steps=[('cls', LogisticRegression(C=1.0, class_weight=None, dual=False, fit_intercept=True,\n",
              "          intercept_scaling=1, max_iter=100, multi_class='warn',\n",
              "          n_jobs=None, penalty='l2', random_state=None, solver='warn',\n",
              "          tol=0.0001, verbose=0, warm_start=False))]),\n",
              "       fit_params=None, iid='warn', n_jobs=None,\n",
              "       param_grid={'cls': [LogisticRegression(C=1.0, class_weight=None, dual=False, fit_intercept=True,\n",
              "          intercept_scaling=1, max_iter=100, multi_class='warn',\n",
              "          n_jobs=None, penalty='l2', random_state=None, solver='warn',\n",
              "          tol=0.0001, verbose=0, warm_start=False), DecisionTreeCla...None, var_smoothing=1e-09), BernoulliNB(alpha=1.0, binarize=0.0, class_prior=None, fit_prior=True)]},\n",
              "       pre_dispatch='2*n_jobs', refit='recall_score',\n",
              "       return_train_score=True,\n",
              "       scoring={'recall_score': make_scorer(recall_score), 'precision_score': make_scorer(precision_score), 'accuracy_score': make_scorer(accuracy_score)},\n",
              "       verbose=5)"
            ]
          },
          "metadata": {
            "tags": []
          },
          "execution_count": 171
        }
      ]
    },
    {
      "cell_type": "code",
      "metadata": {
        "id": "jVCSwYE7J8Gs",
        "outputId": "7d52399b-a62a-43ec-bd0c-e29fd298e45c"
      },
      "source": [
        "results = pd.DataFrame(gridcv.cv_results_)\n",
        "results = results.sort_values(by='mean_test_precision_score', ascending=False)\n",
        "results[['mean_test_precision_score', 'mean_test_recall_score', 'mean_test_accuracy_score', 'param_cls']].round(3).head()"
      ],
      "execution_count": null,
      "outputs": [
        {
          "output_type": "execute_result",
          "data": {
            "text/html": [
              "<div>\n",
              "<style scoped>\n",
              "    .dataframe tbody tr th:only-of-type {\n",
              "        vertical-align: middle;\n",
              "    }\n",
              "\n",
              "    .dataframe tbody tr th {\n",
              "        vertical-align: top;\n",
              "    }\n",
              "\n",
              "    .dataframe thead th {\n",
              "        text-align: right;\n",
              "    }\n",
              "</style>\n",
              "<table border=\"1\" class=\"dataframe\">\n",
              "  <thead>\n",
              "    <tr style=\"text-align: right;\">\n",
              "      <th></th>\n",
              "      <th>mean_test_precision_score</th>\n",
              "      <th>mean_test_recall_score</th>\n",
              "      <th>mean_test_accuracy_score</th>\n",
              "      <th>param_cls</th>\n",
              "    </tr>\n",
              "  </thead>\n",
              "  <tbody>\n",
              "    <tr>\n",
              "      <th>2</th>\n",
              "      <td>1.000</td>\n",
              "      <td>1.000</td>\n",
              "      <td>1.000</td>\n",
              "      <td>(DecisionTreeClassifier(class_weight=None, cri...</td>\n",
              "    </tr>\n",
              "    <tr>\n",
              "      <th>1</th>\n",
              "      <td>1.000</td>\n",
              "      <td>1.000</td>\n",
              "      <td>1.000</td>\n",
              "      <td>DecisionTreeClassifier(class_weight=None, crit...</td>\n",
              "    </tr>\n",
              "    <tr>\n",
              "      <th>4</th>\n",
              "      <td>0.991</td>\n",
              "      <td>0.803</td>\n",
              "      <td>0.898</td>\n",
              "      <td>BernoulliNB(alpha=1.0, binarize=0.0, class_pri...</td>\n",
              "    </tr>\n",
              "    <tr>\n",
              "      <th>0</th>\n",
              "      <td>0.978</td>\n",
              "      <td>0.941</td>\n",
              "      <td>0.960</td>\n",
              "      <td>LogisticRegression(C=1.0, class_weight=None, d...</td>\n",
              "    </tr>\n",
              "    <tr>\n",
              "      <th>3</th>\n",
              "      <td>0.972</td>\n",
              "      <td>0.859</td>\n",
              "      <td>0.917</td>\n",
              "      <td>GaussianNB(priors=None, var_smoothing=1e-09)</td>\n",
              "    </tr>\n",
              "  </tbody>\n",
              "</table>\n",
              "</div>"
            ],
            "text/plain": [
              "   mean_test_precision_score  mean_test_recall_score  \\\n",
              "2                      1.000                   1.000   \n",
              "1                      1.000                   1.000   \n",
              "4                      0.991                   0.803   \n",
              "0                      0.978                   0.941   \n",
              "3                      0.972                   0.859   \n",
              "\n",
              "   mean_test_accuracy_score                                          param_cls  \n",
              "2                     1.000  (DecisionTreeClassifier(class_weight=None, cri...  \n",
              "1                     1.000  DecisionTreeClassifier(class_weight=None, crit...  \n",
              "4                     0.898  BernoulliNB(alpha=1.0, binarize=0.0, class_pri...  \n",
              "0                     0.960  LogisticRegression(C=1.0, class_weight=None, d...  \n",
              "3                     0.917       GaussianNB(priors=None, var_smoothing=1e-09)  "
            ]
          },
          "metadata": {
            "tags": []
          },
          "execution_count": 172
        }
      ]
    },
    {
      "cell_type": "code",
      "metadata": {
        "id": "mBYOyejKJ8Gu",
        "outputId": "72c57e35-38f4-40c3-8733-2ec3debcf60d"
      },
      "source": [
        "results.head()"
      ],
      "execution_count": null,
      "outputs": [
        {
          "output_type": "execute_result",
          "data": {
            "text/html": [
              "<div>\n",
              "<style scoped>\n",
              "    .dataframe tbody tr th:only-of-type {\n",
              "        vertical-align: middle;\n",
              "    }\n",
              "\n",
              "    .dataframe tbody tr th {\n",
              "        vertical-align: top;\n",
              "    }\n",
              "\n",
              "    .dataframe thead th {\n",
              "        text-align: right;\n",
              "    }\n",
              "</style>\n",
              "<table border=\"1\" class=\"dataframe\">\n",
              "  <thead>\n",
              "    <tr style=\"text-align: right;\">\n",
              "      <th></th>\n",
              "      <th>mean_fit_time</th>\n",
              "      <th>std_fit_time</th>\n",
              "      <th>mean_score_time</th>\n",
              "      <th>std_score_time</th>\n",
              "      <th>param_cls</th>\n",
              "      <th>params</th>\n",
              "      <th>split0_test_recall_score</th>\n",
              "      <th>split1_test_recall_score</th>\n",
              "      <th>split2_test_recall_score</th>\n",
              "      <th>mean_test_recall_score</th>\n",
              "      <th>...</th>\n",
              "      <th>split1_test_accuracy_score</th>\n",
              "      <th>split2_test_accuracy_score</th>\n",
              "      <th>mean_test_accuracy_score</th>\n",
              "      <th>std_test_accuracy_score</th>\n",
              "      <th>rank_test_accuracy_score</th>\n",
              "      <th>split0_train_accuracy_score</th>\n",
              "      <th>split1_train_accuracy_score</th>\n",
              "      <th>split2_train_accuracy_score</th>\n",
              "      <th>mean_train_accuracy_score</th>\n",
              "      <th>std_train_accuracy_score</th>\n",
              "    </tr>\n",
              "  </thead>\n",
              "  <tbody>\n",
              "    <tr>\n",
              "      <th>2</th>\n",
              "      <td>2.521150</td>\n",
              "      <td>0.154356</td>\n",
              "      <td>0.156230</td>\n",
              "      <td>0.004852</td>\n",
              "      <td>(DecisionTreeClassifier(class_weight=None, cri...</td>\n",
              "      <td>{'cls': (DecisionTreeClassifier(class_weight=N...</td>\n",
              "      <td>1.000000</td>\n",
              "      <td>1.000000</td>\n",
              "      <td>1.000000</td>\n",
              "      <td>1.000000</td>\n",
              "      <td>...</td>\n",
              "      <td>0.999940</td>\n",
              "      <td>0.999985</td>\n",
              "      <td>0.999955</td>\n",
              "      <td>0.000021</td>\n",
              "      <td>1</td>\n",
              "      <td>1.000000</td>\n",
              "      <td>1.000000</td>\n",
              "      <td>1.000000</td>\n",
              "      <td>1.000000</td>\n",
              "      <td>0.000000</td>\n",
              "    </tr>\n",
              "    <tr>\n",
              "      <th>1</th>\n",
              "      <td>2.160425</td>\n",
              "      <td>0.036160</td>\n",
              "      <td>0.032889</td>\n",
              "      <td>0.001253</td>\n",
              "      <td>DecisionTreeClassifier(class_weight=None, crit...</td>\n",
              "      <td>{'cls': DecisionTreeClassifier(class_weight=No...</td>\n",
              "      <td>1.000000</td>\n",
              "      <td>1.000000</td>\n",
              "      <td>1.000000</td>\n",
              "      <td>1.000000</td>\n",
              "      <td>...</td>\n",
              "      <td>0.999820</td>\n",
              "      <td>0.999730</td>\n",
              "      <td>0.999780</td>\n",
              "      <td>0.000037</td>\n",
              "      <td>2</td>\n",
              "      <td>1.000000</td>\n",
              "      <td>1.000000</td>\n",
              "      <td>1.000000</td>\n",
              "      <td>1.000000</td>\n",
              "      <td>0.000000</td>\n",
              "    </tr>\n",
              "    <tr>\n",
              "      <th>4</th>\n",
              "      <td>0.074541</td>\n",
              "      <td>0.005205</td>\n",
              "      <td>0.097049</td>\n",
              "      <td>0.000851</td>\n",
              "      <td>BernoulliNB(alpha=1.0, binarize=0.0, class_pri...</td>\n",
              "      <td>{'cls': BernoulliNB(alpha=1.0, binarize=0.0, c...</td>\n",
              "      <td>0.808516</td>\n",
              "      <td>0.798720</td>\n",
              "      <td>0.802741</td>\n",
              "      <td>0.803326</td>\n",
              "      <td>...</td>\n",
              "      <td>0.895859</td>\n",
              "      <td>0.897689</td>\n",
              "      <td>0.898102</td>\n",
              "      <td>0.002021</td>\n",
              "      <td>5</td>\n",
              "      <td>0.898442</td>\n",
              "      <td>0.896293</td>\n",
              "      <td>0.900074</td>\n",
              "      <td>0.898270</td>\n",
              "      <td>0.001548</td>\n",
              "    </tr>\n",
              "    <tr>\n",
              "      <th>0</th>\n",
              "      <td>1.631225</td>\n",
              "      <td>0.063980</td>\n",
              "      <td>0.027371</td>\n",
              "      <td>0.006508</td>\n",
              "      <td>LogisticRegression(C=1.0, class_weight=None, d...</td>\n",
              "      <td>{'cls': LogisticRegression(C=1.0, class_weight...</td>\n",
              "      <td>0.940349</td>\n",
              "      <td>0.942603</td>\n",
              "      <td>0.941249</td>\n",
              "      <td>0.941400</td>\n",
              "      <td>...</td>\n",
              "      <td>0.960213</td>\n",
              "      <td>0.959505</td>\n",
              "      <td>0.959927</td>\n",
              "      <td>0.000304</td>\n",
              "      <td>3</td>\n",
              "      <td>0.960069</td>\n",
              "      <td>0.959461</td>\n",
              "      <td>0.960325</td>\n",
              "      <td>0.959952</td>\n",
              "      <td>0.000363</td>\n",
              "    </tr>\n",
              "    <tr>\n",
              "      <th>3</th>\n",
              "      <td>0.055097</td>\n",
              "      <td>0.000861</td>\n",
              "      <td>0.065142</td>\n",
              "      <td>0.003063</td>\n",
              "      <td>GaussianNB(priors=None, var_smoothing=1e-09)</td>\n",
              "      <td>{'cls': GaussianNB(priors=None, var_smoothing=...</td>\n",
              "      <td>0.858972</td>\n",
              "      <td>0.860985</td>\n",
              "      <td>0.857765</td>\n",
              "      <td>0.859241</td>\n",
              "      <td>...</td>\n",
              "      <td>0.917556</td>\n",
              "      <td>0.916441</td>\n",
              "      <td>0.917214</td>\n",
              "      <td>0.000548</td>\n",
              "      <td>4</td>\n",
              "      <td>0.917201</td>\n",
              "      <td>0.916968</td>\n",
              "      <td>0.917353</td>\n",
              "      <td>0.917174</td>\n",
              "      <td>0.000158</td>\n",
              "    </tr>\n",
              "  </tbody>\n",
              "</table>\n",
              "<p>5 rows × 39 columns</p>\n",
              "</div>"
            ],
            "text/plain": [
              "   mean_fit_time  std_fit_time  mean_score_time  std_score_time  \\\n",
              "2       2.521150      0.154356         0.156230        0.004852   \n",
              "1       2.160425      0.036160         0.032889        0.001253   \n",
              "4       0.074541      0.005205         0.097049        0.000851   \n",
              "0       1.631225      0.063980         0.027371        0.006508   \n",
              "3       0.055097      0.000861         0.065142        0.003063   \n",
              "\n",
              "                                           param_cls  \\\n",
              "2  (DecisionTreeClassifier(class_weight=None, cri...   \n",
              "1  DecisionTreeClassifier(class_weight=None, crit...   \n",
              "4  BernoulliNB(alpha=1.0, binarize=0.0, class_pri...   \n",
              "0  LogisticRegression(C=1.0, class_weight=None, d...   \n",
              "3       GaussianNB(priors=None, var_smoothing=1e-09)   \n",
              "\n",
              "                                              params  \\\n",
              "2  {'cls': (DecisionTreeClassifier(class_weight=N...   \n",
              "1  {'cls': DecisionTreeClassifier(class_weight=No...   \n",
              "4  {'cls': BernoulliNB(alpha=1.0, binarize=0.0, c...   \n",
              "0  {'cls': LogisticRegression(C=1.0, class_weight...   \n",
              "3  {'cls': GaussianNB(priors=None, var_smoothing=...   \n",
              "\n",
              "   split0_test_recall_score  split1_test_recall_score  \\\n",
              "2                  1.000000                  1.000000   \n",
              "1                  1.000000                  1.000000   \n",
              "4                  0.808516                  0.798720   \n",
              "0                  0.940349                  0.942603   \n",
              "3                  0.858972                  0.860985   \n",
              "\n",
              "   split2_test_recall_score  mean_test_recall_score            ...             \\\n",
              "2                  1.000000                1.000000            ...              \n",
              "1                  1.000000                1.000000            ...              \n",
              "4                  0.802741                0.803326            ...              \n",
              "0                  0.941249                0.941400            ...              \n",
              "3                  0.857765                0.859241            ...              \n",
              "\n",
              "   split1_test_accuracy_score  split2_test_accuracy_score  \\\n",
              "2                    0.999940                    0.999985   \n",
              "1                    0.999820                    0.999730   \n",
              "4                    0.895859                    0.897689   \n",
              "0                    0.960213                    0.959505   \n",
              "3                    0.917556                    0.916441   \n",
              "\n",
              "   mean_test_accuracy_score  std_test_accuracy_score  \\\n",
              "2                  0.999955                 0.000021   \n",
              "1                  0.999780                 0.000037   \n",
              "4                  0.898102                 0.002021   \n",
              "0                  0.959927                 0.000304   \n",
              "3                  0.917214                 0.000548   \n",
              "\n",
              "   rank_test_accuracy_score  split0_train_accuracy_score  \\\n",
              "2                         1                     1.000000   \n",
              "1                         2                     1.000000   \n",
              "4                         5                     0.898442   \n",
              "0                         3                     0.960069   \n",
              "3                         4                     0.917201   \n",
              "\n",
              "   split1_train_accuracy_score  split2_train_accuracy_score  \\\n",
              "2                     1.000000                     1.000000   \n",
              "1                     1.000000                     1.000000   \n",
              "4                     0.896293                     0.900074   \n",
              "0                     0.959461                     0.960325   \n",
              "3                     0.916968                     0.917353   \n",
              "\n",
              "   mean_train_accuracy_score  std_train_accuracy_score  \n",
              "2                   1.000000                  0.000000  \n",
              "1                   1.000000                  0.000000  \n",
              "4                   0.898270                  0.001548  \n",
              "0                   0.959952                  0.000363  \n",
              "3                   0.917174                  0.000158  \n",
              "\n",
              "[5 rows x 39 columns]"
            ]
          },
          "metadata": {
            "tags": []
          },
          "execution_count": 173
        }
      ]
    },
    {
      "cell_type": "code",
      "metadata": {
        "id": "cuyCJohZJ8Gw"
      },
      "source": [
        ""
      ],
      "execution_count": null,
      "outputs": []
    }
  ]
}