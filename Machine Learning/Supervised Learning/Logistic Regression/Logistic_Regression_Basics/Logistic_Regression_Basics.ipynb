{
  "nbformat": 4,
  "nbformat_minor": 0,
  "metadata": {
    "kernelspec": {
      "display_name": "Python 3",
      "language": "python",
      "name": "python3"
    },
    "language_info": {
      "codemirror_mode": {
        "name": "ipython",
        "version": 3
      },
      "file_extension": ".py",
      "mimetype": "text/x-python",
      "name": "python",
      "nbconvert_exporter": "python",
      "pygments_lexer": "ipython3",
      "version": "3.7.3"
    },
    "colab": {
      "name": "Logistic_Regression_Basics.ipynb",
      "provenance": []
    }
  },
  "cells": [
    {
      "cell_type": "markdown",
      "metadata": {
        "id": "yl7v9t_FHmkm"
      },
      "source": [
        "# Week 3 - Lab - Logistic Regression"
      ]
    },
    {
      "cell_type": "markdown",
      "metadata": {
        "id": "ybkVL7XbHmkn"
      },
      "source": [
        "## Recap\n",
        "![Imgur](https://i.imgur.com/UB4Kg0w.jpg)\n",
        "[Link to sketchboard](https://sketchboard.me/tBjCwrhXsFwu)"
      ]
    },
    {
      "cell_type": "markdown",
      "metadata": {
        "id": "_BxukBIYHmkn"
      },
      "source": [
        "## Basic NLP Flow"
      ]
    },
    {
      "cell_type": "markdown",
      "metadata": {
        "id": "J85D-ESiHmko"
      },
      "source": [
        "- **Step 1**: Clean data\n",
        "    - Remove all irrelevant characters such as any non alphanumeric characters\n",
        "    - Tokenize your text by separating it into individual words \n",
        "    - Remove words that are not relevant, such as “@” twitter mentions or urls \n",
        "    - Convert all characters to **lowercase**, in order to treat words such as “hello”, “Hello”, and “HELLO” the same \n",
        "    - Consider **lemmatization** (reduce words such as “am”, “are”, and “is” to a common form such as “be”)\n",
        "- **Step 2**: Representation\n",
        "    - Bag of Words or TFIDF\n",
        "- **Step 3**: Classification\n",
        "    - Naive Bayes\n",
        "    - Logistic Regression"
      ]
    },
    {
      "cell_type": "markdown",
      "metadata": {
        "id": "4E8VZnv8Hmko"
      },
      "source": [
        "## String manipulation in Python\n",
        "**Before going to NLP we need tools to handle string**\n",
        "\n",
        "One place where the Python language really shines is in the manipulation of strings. This section will cover some of Python's built-in string methods and formatting operations, before moving on to a quick guide to the extremely useful subject of regular expressions. Such string manipulation patterns come up often in the context of data science work\n",
        "\n",
        "### Formatting strings: Adjusting case\n",
        "\n",
        "Python makes it quite easy to adjust the case of a string. Here we'll look at the `upper()`, `lower()`, `capitalize()`, and `swapcase()` methods."
      ]
    },
    {
      "cell_type": "code",
      "metadata": {
        "id": "BXNiU1oZHmkp",
        "outputId": "b440daf9-54ac-43f5-b45e-5f50630dee33"
      },
      "source": [
        "fox = 'tHe qUICk bROWn fOx quick.'\n",
        "# Apply the functions above to `fox` and print out the results\n",
        "# Your code here\n",
        "fox.upper()\n",
        "fox.lower()\n",
        "# fox.capitalize()\n",
        "# fox.swapcase()"
      ],
      "execution_count": null,
      "outputs": [
        {
          "output_type": "execute_result",
          "data": {
            "text/plain": [
              "'the quick brown fox quick.'"
            ]
          },
          "metadata": {
            "tags": []
          },
          "execution_count": 5
        }
      ]
    },
    {
      "cell_type": "markdown",
      "metadata": {
        "id": "DGqkdvBJHmks"
      },
      "source": [
        "### Adding and removing spaces\n",
        "\n",
        "Another common need is to remove spaces (or other characters) from the beginning or end of the string. The basic method of removing characters is the `strip()` method, which strips whitespace from the beginning and end of the line. To remove just space to the right or left, use `rstrip()` or `lstrip()` respectively.\n",
        "\n",
        "To remove characters other than spaces, you can pass the desired character to the `strip()` method"
      ]
    },
    {
      "cell_type": "code",
      "metadata": {
        "id": "pTO_dEdBHmkt",
        "outputId": "d0fcf17c-8f54-412b-e18c-8d48e1edac19"
      },
      "source": [
        "line = '         this is the content         '\n",
        "\n",
        "# Apply strip(), rstrip(), lstrip() to 'line' and print the results out\n",
        "# Your code here\n",
        "\n",
        "num = '00000000435'\n",
        "# Remove all of the zeros from num\n",
        "# Your code here\n",
        "line.strip()\n",
        "line.rstrip()\n",
        "num.strip('0')"
      ],
      "execution_count": null,
      "outputs": [
        {
          "output_type": "execute_result",
          "data": {
            "text/plain": [
              "'435'"
            ]
          },
          "metadata": {
            "tags": []
          },
          "execution_count": 9
        }
      ]
    },
    {
      "cell_type": "markdown",
      "metadata": {
        "id": "fRugcAB-Hmkv"
      },
      "source": [
        "### Finding and replacing and splitting\n",
        "\n",
        "If you want to find occurrences of a certain character in a string, the `find()`, `index()` and `replace()` methods are the best built-in methods.\n",
        "\n",
        "`find()` and `index()` are very similar, in that they search for the first occurrence of a character or substring within a string, and return the index of the substring.\n",
        "\n",
        "The `split()` method is perhaps more useful; it finds all instances of the split-point and returns the substrings in between. The default is to split on any whitespace, returning a list of the individual words in a string."
      ]
    },
    {
      "cell_type": "code",
      "metadata": {
        "id": "dNmj5NhjHmkw",
        "outputId": "f8cf10bc-1672-4cb1-ba8d-15fe686da70f"
      },
      "source": [
        "line = 'the quick brown fox jumped over a lazy dog'\n",
        "\n",
        "# Find the index of 'fox' in 'line' using find() and index()\n",
        "# Your code here\n",
        "line.find('foxj')\n",
        "# line.index('foxj')\n",
        "\n",
        "# Let's replace 'brown' with 'red'\n",
        "# Your code here\n",
        "line.replace('brown', 'red')\n",
        "\n",
        "# List all words in 'line' and put them in an array\n",
        "# Your 1 line of code here\n",
        "line.split()"
      ],
      "execution_count": null,
      "outputs": [
        {
          "output_type": "execute_result",
          "data": {
            "text/plain": [
              "['the', 'quick', 'brown', 'fox', 'jumped', 'over', 'a', 'lazy', 'dog']"
            ]
          },
          "metadata": {
            "tags": []
          },
          "execution_count": 15
        }
      ]
    },
    {
      "cell_type": "markdown",
      "metadata": {
        "id": "tkyyj0naHmkz"
      },
      "source": [
        "Note that if you would like to undo a `split()`, you can use the `join()` method, which returns a string built from a splitpoint and an iterable:"
      ]
    },
    {
      "cell_type": "code",
      "metadata": {
        "id": "uTv6KqVcHmkz",
        "outputId": "478407cd-5ad0-4da1-9767-f066d9536032"
      },
      "source": [
        "'.'.join(['1', '2', '3'])"
      ],
      "execution_count": null,
      "outputs": [
        {
          "output_type": "execute_result",
          "data": {
            "text/plain": [
              "'1.2.3'"
            ]
          },
          "metadata": {
            "tags": []
          },
          "execution_count": 17
        }
      ]
    },
    {
      "cell_type": "markdown",
      "metadata": {
        "id": "xkThrtnUHmk1"
      },
      "source": [
        "A common pattern is to use the special character \"\\n\" (newline) to join together lines:"
      ]
    },
    {
      "cell_type": "code",
      "metadata": {
        "id": "iEQ9kJpbHmk2",
        "outputId": "d8151172-9bd7-4a34-ca2f-97e23c229c6e"
      },
      "source": [
        "print(\"\\n\".join(['Rules in family:', '1. Your wife is always right.', '2. If she is wrong, check the first rule again.']))"
      ],
      "execution_count": null,
      "outputs": [
        {
          "output_type": "stream",
          "text": [
            "Rules in family:\n",
            "1. Your wife is always right.\n",
            "2. If she is wrong, check the first rule again.\n"
          ],
          "name": "stdout"
        }
      ]
    },
    {
      "cell_type": "markdown",
      "metadata": {
        "id": "MONF-l_1Hmk4"
      },
      "source": [
        "### Regular Expression\n",
        "\n",
        "In Python, regular expressions are supported by the `re` module.\n",
        "\n",
        "A regular expression (or RE) specifies a set of strings that matches it; the functions in this module let you check if a particular string matches a given regular expression (or if a given regular expression matches a particular string, which comes down to the same thing).\n",
        "\n",
        "Let's walk through some examples:"
      ]
    },
    {
      "cell_type": "code",
      "metadata": {
        "id": "k7pfqekOHmk4"
      },
      "source": [
        "import re"
      ],
      "execution_count": null,
      "outputs": []
    },
    {
      "cell_type": "code",
      "metadata": {
        "id": "jbhBLh9uHmk7",
        "outputId": "d86f2a8b-d46f-45d8-a7bc-e0e3f72000de"
      },
      "source": [
        "email_regex = '\\w+@\\w+\\.[a-z]+'\n",
        "text = \"To email Hai Minh, try minhdh@coderschool.vnnvvv or the older address haiminh101@yahoo.vn\"\n",
        "re.findall(email_regex, text)"
      ],
      "execution_count": null,
      "outputs": [
        {
          "output_type": "execute_result",
          "data": {
            "text/plain": [
              "['minhdh@coderschool.vnnvvv', 'haiminh101@yahoo.vn']"
            ]
          },
          "metadata": {
            "tags": []
          },
          "execution_count": 25
        }
      ]
    },
    {
      "cell_type": "code",
      "metadata": {
        "id": "t7KG8mCAHmk9",
        "outputId": "e22b0bd3-5151-4df2-99b9-17d7a940accf"
      },
      "source": [
        "# Replacing these email addresses with another string, perhaps to hide addresses in the output:\n",
        "re.sub(email_regex, '--@--.--', text)"
      ],
      "execution_count": null,
      "outputs": [
        {
          "output_type": "execute_result",
          "data": {
            "text/plain": [
              "'To email Hai Minh, try --@--.-- or the older address --@--.--'"
            ]
          },
          "metadata": {
            "tags": []
          },
          "execution_count": 26
        }
      ]
    },
    {
      "cell_type": "code",
      "metadata": {
        "id": "J0FlUN8OHmk_",
        "outputId": "3d013d2b-0558-472e-91cb-c8cb887055fe"
      },
      "source": [
        "# The following will match any lower-case vowel:\n",
        "re.split('[aeiou]', 'consequential')"
      ],
      "execution_count": null,
      "outputs": [
        {
          "output_type": "execute_result",
          "data": {
            "text/plain": [
              "['c', 'ns', 'q', '', 'nt', '', 'l']"
            ]
          },
          "metadata": {
            "tags": []
          },
          "execution_count": 28
        }
      ]
    },
    {
      "cell_type": "code",
      "metadata": {
        "id": "5uLRZvswHmlB"
      },
      "source": [
        "c||ns||q|||nt|||l|"
      ],
      "execution_count": null,
      "outputs": []
    },
    {
      "cell_type": "markdown",
      "metadata": {
        "id": "bldlAUXqHmlD"
      },
      "source": [
        "You may need to extract from a document specific numerical codes that consist of a capital letter followed by a digit. You could do this as follows:"
      ]
    },
    {
      "cell_type": "code",
      "metadata": {
        "id": "zcmV2oudHmlD",
        "outputId": "327df82e-e959-4d80-e9bc-c8b6ac06950f"
      },
      "source": [
        "re.findall('[A-Z][0-9]', '1043879, G2, H6')"
      ],
      "execution_count": null,
      "outputs": [
        {
          "output_type": "execute_result",
          "data": {
            "text/plain": [
              "['G2', 'H6']"
            ]
          },
          "metadata": {
            "tags": []
          },
          "execution_count": 29
        }
      ]
    },
    {
      "cell_type": "markdown",
      "metadata": {
        "id": "tdRmqID3HmlG"
      },
      "source": [
        "The following table lists a few of these characters that are commonly useful:\n",
        "\n",
        "| Character | Description | Character | Description |\n",
        "|------------|-----------|------------|-----------|\n",
        "| \"\\d\" | Match any digit   | \"\\D\" | Match any non-digit|\n",
        "| \"\\s\" | Match any whitespace   | \"\\S\" | Match any non-whitespace|\n",
        "| \"\\w\" | Match any alphanumeric char  | \"\\W\" | Match any non-alphanumeric char|\n",
        "\n",
        "| Character | Description | Example |\n",
        "|------------|-----------|------------|\n",
        "| ? | Match zero or one repetitions of preceding |  \"ab?\" matches \"a\" or \"ab\" |\n",
        "| * | Match zero or more repetitions of preceding | \"ab*\" matches \"a\", \"ab\", \"abb\", \"abbb\"... |\n",
        "| + | Match one or more repetitions of preceding |  \"ab+\" matches \"ab\", \"abb\", \"abbb\"... but not \"a\" |\n",
        "| {n} | Match n repetitions of preceding | \"ab{2}\" matches \"abb\" |\n",
        "| {m,n} | Match between m and n repetitions of preceding |  \"ab{2,3}\" matches \"abb\" or \"abbb\" |"
      ]
    },
    {
      "cell_type": "markdown",
      "metadata": {
        "id": "aR65qkhIHmlH"
      },
      "source": [
        "### Further Resources on Regular Expressions\n",
        "\n",
        "* [Python's re package Documentation](https://docs.python.org/3/library/re.html)\n",
        "* [Python's official regular expression HOWTO](https://docs.python.org/3/howto/regex.html)\n",
        "* [Mastering Regular Expressions (OReilly, 2006)](http://shop.oreilly.com/product/9780596528126.do)"
      ]
    },
    {
      "cell_type": "markdown",
      "metadata": {
        "id": "pQn7EstWHmlH"
      },
      "source": [
        "## 1. Sentiment analysis\n",
        "This contest is taken from the real task of Text Processing.\n",
        "\n",
        "The task is to build a model that will determine the tone (positive, negative) of the text. To do this, you will need to train the model on the existing data (train.csv). The resulting model will have to determine the class (neutral, positive, negative) of new texts. The dataset contains the following fields:\n",
        "\n",
        "| Field name | Meaning |\n",
        "|------------|-----------|\n",
        "| ItemID  | id of twit|\n",
        "| Sentiment | sentiment (1-positive, 0-negative)|\n",
        "| SentimentText | text of the twit|\n",
        "\n",
        "Let's first of all have a look at the data"
      ]
    },
    {
      "cell_type": "code",
      "metadata": {
        "id": "GYZPqex6HmlH",
        "outputId": "8e32165d-7c1d-467c-bb33-3080555e334b"
      },
      "source": [
        "# Import pandas, numpy and the dataset, save it in a object called 'sentiment'\n",
        "# Your code here\n",
        "import numpy as np\n",
        "import pandas as pd\n",
        "# Read file with param './data/train.csv', encoding='latin-1'\n",
        "sentiment = pd.read_csv(\"./data/train.csv\", encoding='latin-1')\n",
        "\n",
        "# Let's check sentiment.head(10) and sample(10)\n",
        "# Your code here\n",
        "sentiment.head()"
      ],
      "execution_count": null,
      "outputs": [
        {
          "output_type": "execute_result",
          "data": {
            "text/html": [
              "<div>\n",
              "<style scoped>\n",
              "    .dataframe tbody tr th:only-of-type {\n",
              "        vertical-align: middle;\n",
              "    }\n",
              "\n",
              "    .dataframe tbody tr th {\n",
              "        vertical-align: top;\n",
              "    }\n",
              "\n",
              "    .dataframe thead th {\n",
              "        text-align: right;\n",
              "    }\n",
              "</style>\n",
              "<table border=\"1\" class=\"dataframe\">\n",
              "  <thead>\n",
              "    <tr style=\"text-align: right;\">\n",
              "      <th></th>\n",
              "      <th>ItemID</th>\n",
              "      <th>Sentiment</th>\n",
              "      <th>SentimentText</th>\n",
              "    </tr>\n",
              "  </thead>\n",
              "  <tbody>\n",
              "    <tr>\n",
              "      <th>0</th>\n",
              "      <td>1</td>\n",
              "      <td>0</td>\n",
              "      <td>is so sad for my APL frie...</td>\n",
              "    </tr>\n",
              "    <tr>\n",
              "      <th>1</th>\n",
              "      <td>2</td>\n",
              "      <td>0</td>\n",
              "      <td>I missed the New Moon trail...</td>\n",
              "    </tr>\n",
              "    <tr>\n",
              "      <th>2</th>\n",
              "      <td>3</td>\n",
              "      <td>1</td>\n",
              "      <td>omg its already 7:30 :O</td>\n",
              "    </tr>\n",
              "    <tr>\n",
              "      <th>3</th>\n",
              "      <td>4</td>\n",
              "      <td>0</td>\n",
              "      <td>.. Omgaga. Im sooo  im gunna CRy. I'...</td>\n",
              "    </tr>\n",
              "    <tr>\n",
              "      <th>4</th>\n",
              "      <td>5</td>\n",
              "      <td>0</td>\n",
              "      <td>i think mi bf is cheating on me!!!   ...</td>\n",
              "    </tr>\n",
              "  </tbody>\n",
              "</table>\n",
              "</div>"
            ],
            "text/plain": [
              "   ItemID  Sentiment                                      SentimentText\n",
              "0       1          0                       is so sad for my APL frie...\n",
              "1       2          0                     I missed the New Moon trail...\n",
              "2       3          1                            omg its already 7:30 :O\n",
              "3       4          0            .. Omgaga. Im sooo  im gunna CRy. I'...\n",
              "4       5          0           i think mi bf is cheating on me!!!   ..."
            ]
          },
          "metadata": {
            "tags": []
          },
          "execution_count": 30
        }
      ]
    },
    {
      "cell_type": "markdown",
      "metadata": {
        "id": "nIauJXOPHmlJ"
      },
      "source": [
        "As we can see, the structure of a twit varies a lot between twit and twit. They have different lengths, letters, numbers, extrange characters, etc. \n",
        "\n",
        "It is also important to note that **a lot** of words are not correctly spelled, for example the word _\"Juuuuuuuuuuuuuuuuussssst\"_ or the word _\"sooo\"_\n",
        "\n",
        "This makes it hard to mesure how positive or negative are the words within the twits.\n",
        "\n",
        "So we need a way of scoring the words such that words that appear in positive twits have greater score that those that appear in negative twits.\n",
        "\n",
        "But first... how do we represent the twits as vectors we can input to our algorithm?\n",
        "\n",
        "### Bag of words\n",
        "\n",
        "One thing we could do to represent the twits as equal-sized vectors of numbers is the following:\n",
        "\n",
        "* Create a list (vocabulary) with all the unique words in the whole corpus of twits. \n",
        "* We construct a feature vector from each twit that contains the counts of how often each word occurs in the particular twit\n",
        "\n",
        "_Note that since the unique words in each twit represent only a small subset of all the words in the bag-of-words vocabulary, the feature vectors will mostly consist of zeros_\n",
        "\n",
        "Lets construct the bag of words. We will work with a smaller example for illustrative purposes, and at the end we will work with our real data."
      ]
    },
    {
      "cell_type": "code",
      "metadata": {
        "id": "YNVOPyKHHmlK"
      },
      "source": [
        "twits = [\n",
        "    'This is amazing!',\n",
        "    'ML is the best, yes it is',\n",
        "    'I am not sure about how this is going to end...'\n",
        "]"
      ],
      "execution_count": null,
      "outputs": []
    },
    {
      "cell_type": "markdown",
      "metadata": {
        "id": "ftkZI71BHmlM"
      },
      "source": [
        "Let's import [CountVectorizer.](http://scikit-learn.org/stable/modules/generated/sklearn.feature_extraction.text.CountVectorizer.html) It'll help us to convert a collection of text documents to a matrix of token counts."
      ]
    },
    {
      "cell_type": "code",
      "metadata": {
        "id": "4mxWlYynHmlM"
      },
      "source": [
        "# Your code here\n",
        "from sklearn.feature_extraction.text import CountVectorizer\n",
        "\n",
        "\n",
        "# Define an object of CountVectorizer() as count\n",
        "count = CountVectorizer()\n",
        "\n",
        "# With count object, fit and transfom your twits and save result in a variable name 'bag'\n",
        "# Your code here\n",
        "bag = count.fit_transform(twits)"
      ],
      "execution_count": null,
      "outputs": []
    },
    {
      "cell_type": "code",
      "metadata": {
        "id": "vd4Bxk21HmlO",
        "outputId": "0a70df9a-38db-43be-90b7-b8e40313037c"
      },
      "source": [
        "# Find in document of CountVectorizer a function that show us list of feature names\n",
        "# hint: get_feature_names\n",
        "# Your code here\n",
        "count.get_feature_names()"
      ],
      "execution_count": null,
      "outputs": [
        {
          "output_type": "execute_result",
          "data": {
            "text/plain": [
              "['about',\n",
              " 'am',\n",
              " 'amazing',\n",
              " 'best',\n",
              " 'end',\n",
              " 'going',\n",
              " 'how',\n",
              " 'is',\n",
              " 'it',\n",
              " 'ml',\n",
              " 'not',\n",
              " 'sure',\n",
              " 'the',\n",
              " 'this',\n",
              " 'to',\n",
              " 'yes']"
            ]
          },
          "metadata": {
            "tags": []
          },
          "execution_count": 34
        }
      ]
    },
    {
      "cell_type": "markdown",
      "metadata": {
        "id": "1JU38lhbHmlQ"
      },
      "source": [
        "As we can see from executing the preceding command, the vocabulary is stored in a Python array that maps the unique words to integer indices. Next, let's print the feature vectors that we just created:"
      ]
    },
    {
      "cell_type": "code",
      "metadata": {
        "id": "WHpqD-DGHmlQ",
        "outputId": "198f8fc7-5468-4247-e554-88e5cc9e64e7"
      },
      "source": [
        "# Call toarray() on your 'bag' to see the feature vectors\n",
        "# Your code here\n",
        "bag.toarray()"
      ],
      "execution_count": null,
      "outputs": [
        {
          "output_type": "execute_result",
          "data": {
            "text/plain": [
              "array([[0, 0, 1, 0, 0, 0, 0, 1, 0, 0, 0, 0, 0, 1, 0, 0],\n",
              "       [0, 0, 0, 1, 0, 0, 0, 2, 1, 1, 0, 0, 1, 0, 0, 1],\n",
              "       [1, 1, 0, 0, 1, 1, 1, 1, 0, 0, 1, 1, 0, 1, 1, 0]], dtype=int64)"
            ]
          },
          "metadata": {
            "tags": []
          },
          "execution_count": 35
        }
      ]
    },
    {
      "cell_type": "code",
      "metadata": {
        "id": "jpSzxm0bHmlS"
      },
      "source": [
        "# What is the index of the word 'is' and how many times it occurs in all three twits?\n",
        "# Hint: You can directly count on feature fectors\n",
        "# Your answer here\n",
        "index: 7\n",
        "is: 4"
      ],
      "execution_count": null,
      "outputs": []
    },
    {
      "cell_type": "markdown",
      "metadata": {
        "id": "SLNYqX5FHmlU"
      },
      "source": [
        "Each index position in the feature vectors corresponds to the integer values that are stored as dictionary items in the CountVectorizer vocabulary. For example, the first feature at index position 0 resembles the count of the word 'about' , which only occurs in the last document. These values in the feature vectors are also called the **raw term frequencies**: `tf(t,d )` —the number of times a term `t` occurs in a document `d`.\n"
      ]
    },
    {
      "cell_type": "markdown",
      "metadata": {
        "id": "-3zqiiAFHmlU"
      },
      "source": [
        "### How relevant are words? Term frequency-inverse document frequency\n",
        "\n",
        "We could use these raw term frequencies to score the words in our algorithm. There is a problem though: If a word is very frequent in _all_ documents, then it probably doesn't carry a lot of information. In order to tacke this problem we can use **term frequency-inverse document frequency**, which will reduce the score the more frequent the word is accross all twits. It is calculated like this:\n",
        "\n",
        "\\begin{equation*}\n",
        "tf-idf(t,d) = tf(t,d) ~ idf(t,d)\n",
        "\\end{equation*}\n",
        "\n",
        "_tf(t,d)_ is the raw term frequency descrived above. _idf(t,d)_ is the inverse document frequency, than can be calculated as follows:\n",
        "\n",
        "\\begin{equation*}\n",
        "\\log \\frac{n_d}{1+df\\left(d,t\\right)}\n",
        "\\end{equation*}\n",
        "\n",
        "where `n` is the total number of documents and _df(t,d)_ is the number of documents where the term `t` appears. \n",
        "\n",
        "The `1` addition in the denominator is just to avoid zero term for terms that appear in all documents, will not be entirely ignored. Ans the `log` ensures that low frequency term don't get too much weight.\n",
        "\n",
        "Fortunately for us `scikit-learn` does all those calculations for us:"
      ]
    },
    {
      "cell_type": "code",
      "metadata": {
        "id": "7GWHaIH2HmlU"
      },
      "source": [
        "from sklearn.feature_extraction.text import TfidfVectorizer\n",
        "\n",
        "tfidf = TfidfVectorizer()\n",
        "\n",
        "# Formatting the number to 2 digits after the decimal point by showing on this notebook\n",
        "np.set_printoptions(precision=2)\n",
        "\n",
        "# Feed the tf-idf Vectorizer with twits using fit_transform()\n",
        "tfidf_vec = tfidf.fit_transform(twits)"
      ],
      "execution_count": null,
      "outputs": []
    },
    {
      "cell_type": "code",
      "metadata": {
        "id": "j8jm8HsKHmlW",
        "outputId": "b120ed79-210a-4ea6-ada2-84e233d665ab"
      },
      "source": [
        "# Now what is the weight of the word 'is' and 'amazing'?\n",
        "# hint: using \n",
        "# tfidf.get_feature_names()\n",
        "# tfidf_vec.toarray()\n",
        "# Your answer here\n",
        "tfidf.get_feature_names()"
      ],
      "execution_count": null,
      "outputs": [
        {
          "output_type": "execute_result",
          "data": {
            "text/plain": [
              "['about',\n",
              " 'am',\n",
              " 'amazing',\n",
              " 'best',\n",
              " 'end',\n",
              " 'going',\n",
              " 'how',\n",
              " 'is',\n",
              " 'it',\n",
              " 'ml',\n",
              " 'not',\n",
              " 'sure',\n",
              " 'the',\n",
              " 'this',\n",
              " 'to',\n",
              " 'yes']"
            ]
          },
          "metadata": {
            "tags": []
          },
          "execution_count": 40
        }
      ]
    },
    {
      "cell_type": "code",
      "metadata": {
        "id": "HCJqNUpwHmlY",
        "outputId": "58979a42-8c3b-4897-836e-a843f9033525"
      },
      "source": [
        "tfidf_vec.toarray()"
      ],
      "execution_count": null,
      "outputs": [
        {
          "output_type": "execute_result",
          "data": {
            "text/plain": [
              "array([[0.  , 0.  , 0.72, 0.  , 0.  , 0.  , 0.  , 0.43, 0.  , 0.  , 0.  ,\n",
              "        0.  , 0.  , 0.55, 0.  , 0.  ],\n",
              "       [0.  , 0.  , 0.  , 0.4 , 0.  , 0.  , 0.  , 0.47, 0.4 , 0.4 , 0.  ,\n",
              "        0.  , 0.4 , 0.  , 0.  , 0.4 ],\n",
              "       [0.33, 0.33, 0.  , 0.  , 0.33, 0.33, 0.33, 0.2 , 0.  , 0.  , 0.33,\n",
              "        0.33, 0.  , 0.25, 0.33, 0.  ]])"
            ]
          },
          "metadata": {
            "tags": []
          },
          "execution_count": 39
        }
      ]
    },
    {
      "cell_type": "markdown",
      "metadata": {
        "id": "X_C5KZT8Hmla"
      },
      "source": [
        "## Step 1: Data clean up\n",
        "\n",
        "### Removing stop words\n",
        "\n",
        "Now that we know how to format and score our input. Let's look at our **real** vocabulary. Specifically, the most common words:"
      ]
    },
    {
      "cell_type": "code",
      "metadata": {
        "id": "3whqVSYWHmla",
        "outputId": "60f7d4ff-39c0-4db6-ba4b-e3540eae249b"
      },
      "source": [
        "from collections import Counter\n",
        "\n",
        "# Example\n",
        "count = Counter()\n",
        "for word in ['red', 'blue', 'red', 'green', 'blue', 'blue']:\n",
        "    count[word] += 1\n",
        "print(count)\n",
        "print(count.most_common(2))"
      ],
      "execution_count": null,
      "outputs": [
        {
          "output_type": "stream",
          "text": [
            "Counter({'blue': 3, 'red': 2, 'green': 1})\n",
            "[('blue', 3), ('red', 2)]\n"
          ],
          "name": "stdout"
        }
      ]
    },
    {
      "cell_type": "code",
      "metadata": {
        "id": "VBYrAmVjHmlc"
      },
      "source": [
        "vocab = Counter()\n",
        "\n",
        "# Let's apply the example above to count words in our SentimentText\n",
        "# Your code here\n",
        "for row in sentiment.SentimentText:\n",
        "    for word in row.split():\n",
        "        vocab[word] += 1"
      ],
      "execution_count": null,
      "outputs": []
    },
    {
      "cell_type": "code",
      "metadata": {
        "id": "lhNPnlOWHmlf",
        "outputId": "6b080c69-1ccf-4015-ca2b-782cda332c46"
      },
      "source": [
        "vocab.most_common(20)"
      ],
      "execution_count": null,
      "outputs": [
        {
          "output_type": "execute_result",
          "data": {
            "text/plain": [
              "[('I', 32880),\n",
              " ('to', 28810),\n",
              " ('the', 28088),\n",
              " ('a', 21321),\n",
              " ('you', 21180),\n",
              " ('i', 16000),\n",
              " ('and', 14565),\n",
              " ('it', 12819),\n",
              " ('my', 12385),\n",
              " ('for', 12149),\n",
              " ('in', 11199),\n",
              " ('is', 11185),\n",
              " ('of', 10326),\n",
              " ('that', 9181),\n",
              " ('on', 9020),\n",
              " ('have', 8991),\n",
              " ('me', 8255),\n",
              " ('so', 7612),\n",
              " ('but', 7220),\n",
              " ('be', 7093)]"
            ]
          },
          "metadata": {
            "tags": []
          },
          "execution_count": 44
        }
      ]
    },
    {
      "cell_type": "markdown",
      "metadata": {
        "id": "30LQXoCNHmli"
      },
      "source": [
        "As you can see, the most common words are meaningless in terms of sentiment: _I, to, the, and_... they don't give any information on positiveness or negativeness. They're basically **noise** that can most probably be eliminated. These kind of words are called _stop words_, and it is a common practice to remove them when doing text analysis."
      ]
    },
    {
      "cell_type": "code",
      "metadata": {
        "id": "12kin6MSHmli",
        "outputId": "8595bfda-a006-4b71-fba6-940905f9b248"
      },
      "source": [
        "import nltk\n",
        "\n",
        "nltk.download('stopwords')"
      ],
      "execution_count": null,
      "outputs": [
        {
          "output_type": "stream",
          "text": [
            "[nltk_data] Downloading package stopwords to /home/dks/nltk_data...\n",
            "[nltk_data]   Package stopwords is already up-to-date!\n"
          ],
          "name": "stdout"
        },
        {
          "output_type": "execute_result",
          "data": {
            "text/plain": [
              "True"
            ]
          },
          "metadata": {
            "tags": []
          },
          "execution_count": 45
        }
      ]
    },
    {
      "cell_type": "code",
      "metadata": {
        "id": "5_tFbSwbHmlk"
      },
      "source": [
        "from nltk.corpus import stopwords\n",
        "stop = stopwords.words('english')"
      ],
      "execution_count": null,
      "outputs": []
    },
    {
      "cell_type": "code",
      "metadata": {
        "id": "uCkSMK-cHmll",
        "outputId": "a72cab4a-44ae-42a2-99cc-1198138d25d8"
      },
      "source": [
        "stop"
      ],
      "execution_count": null,
      "outputs": [
        {
          "output_type": "execute_result",
          "data": {
            "text/plain": [
              "['i',\n",
              " 'me',\n",
              " 'my',\n",
              " 'myself',\n",
              " 'we',\n",
              " 'our',\n",
              " 'ours',\n",
              " 'ourselves',\n",
              " 'you',\n",
              " \"you're\",\n",
              " \"you've\",\n",
              " \"you'll\",\n",
              " \"you'd\",\n",
              " 'your',\n",
              " 'yours',\n",
              " 'yourself',\n",
              " 'yourselves',\n",
              " 'he',\n",
              " 'him',\n",
              " 'his',\n",
              " 'himself',\n",
              " 'she',\n",
              " \"she's\",\n",
              " 'her',\n",
              " 'hers',\n",
              " 'herself',\n",
              " 'it',\n",
              " \"it's\",\n",
              " 'its',\n",
              " 'itself',\n",
              " 'they',\n",
              " 'them',\n",
              " 'their',\n",
              " 'theirs',\n",
              " 'themselves',\n",
              " 'what',\n",
              " 'which',\n",
              " 'who',\n",
              " 'whom',\n",
              " 'this',\n",
              " 'that',\n",
              " \"that'll\",\n",
              " 'these',\n",
              " 'those',\n",
              " 'am',\n",
              " 'is',\n",
              " 'are',\n",
              " 'was',\n",
              " 'were',\n",
              " 'be',\n",
              " 'been',\n",
              " 'being',\n",
              " 'have',\n",
              " 'has',\n",
              " 'had',\n",
              " 'having',\n",
              " 'do',\n",
              " 'does',\n",
              " 'did',\n",
              " 'doing',\n",
              " 'a',\n",
              " 'an',\n",
              " 'the',\n",
              " 'and',\n",
              " 'but',\n",
              " 'if',\n",
              " 'or',\n",
              " 'because',\n",
              " 'as',\n",
              " 'until',\n",
              " 'while',\n",
              " 'of',\n",
              " 'at',\n",
              " 'by',\n",
              " 'for',\n",
              " 'with',\n",
              " 'about',\n",
              " 'against',\n",
              " 'between',\n",
              " 'into',\n",
              " 'through',\n",
              " 'during',\n",
              " 'before',\n",
              " 'after',\n",
              " 'above',\n",
              " 'below',\n",
              " 'to',\n",
              " 'from',\n",
              " 'up',\n",
              " 'down',\n",
              " 'in',\n",
              " 'out',\n",
              " 'on',\n",
              " 'off',\n",
              " 'over',\n",
              " 'under',\n",
              " 'again',\n",
              " 'further',\n",
              " 'then',\n",
              " 'once',\n",
              " 'here',\n",
              " 'there',\n",
              " 'when',\n",
              " 'where',\n",
              " 'why',\n",
              " 'how',\n",
              " 'all',\n",
              " 'any',\n",
              " 'both',\n",
              " 'each',\n",
              " 'few',\n",
              " 'more',\n",
              " 'most',\n",
              " 'other',\n",
              " 'some',\n",
              " 'such',\n",
              " 'no',\n",
              " 'nor',\n",
              " 'not',\n",
              " 'only',\n",
              " 'own',\n",
              " 'same',\n",
              " 'so',\n",
              " 'than',\n",
              " 'too',\n",
              " 'very',\n",
              " 's',\n",
              " 't',\n",
              " 'can',\n",
              " 'will',\n",
              " 'just',\n",
              " 'don',\n",
              " \"don't\",\n",
              " 'should',\n",
              " \"should've\",\n",
              " 'now',\n",
              " 'd',\n",
              " 'll',\n",
              " 'm',\n",
              " 'o',\n",
              " 're',\n",
              " 've',\n",
              " 'y',\n",
              " 'ain',\n",
              " 'aren',\n",
              " \"aren't\",\n",
              " 'couldn',\n",
              " \"couldn't\",\n",
              " 'didn',\n",
              " \"didn't\",\n",
              " 'doesn',\n",
              " \"doesn't\",\n",
              " 'hadn',\n",
              " \"hadn't\",\n",
              " 'hasn',\n",
              " \"hasn't\",\n",
              " 'haven',\n",
              " \"haven't\",\n",
              " 'isn',\n",
              " \"isn't\",\n",
              " 'ma',\n",
              " 'mightn',\n",
              " \"mightn't\",\n",
              " 'mustn',\n",
              " \"mustn't\",\n",
              " 'needn',\n",
              " \"needn't\",\n",
              " 'shan',\n",
              " \"shan't\",\n",
              " 'shouldn',\n",
              " \"shouldn't\",\n",
              " 'wasn',\n",
              " \"wasn't\",\n",
              " 'weren',\n",
              " \"weren't\",\n",
              " 'won',\n",
              " \"won't\",\n",
              " 'wouldn',\n",
              " \"wouldn't\"]"
            ]
          },
          "metadata": {
            "tags": []
          },
          "execution_count": 47
        }
      ]
    },
    {
      "cell_type": "code",
      "metadata": {
        "id": "L7_XwMQ2Hmln",
        "outputId": "62fc8fba-319f-47d3-9364-92bce048a1dd"
      },
      "source": [
        "vocab_reduced = Counter()\n",
        "# Go through all of the items of vocab using vocab.items() and pick only words that are not in 'stop' \n",
        "# and save them in vocab_reduced\n",
        "# Your code here\n",
        "for row in sentiment.SentimentText:\n",
        "    for word in row.split():\n",
        "        if word in stop:\n",
        "            continue\n",
        "        vocab_reduced[word] += 1\n",
        "\n",
        "vocab_reduced.most_common(20)"
      ],
      "execution_count": null,
      "outputs": [
        {
          "output_type": "execute_result",
          "data": {
            "text/plain": [
              "[('I', 32880),\n",
              " (\"I'm\", 6416),\n",
              " ('like', 5086),\n",
              " ('-', 4922),\n",
              " ('get', 4864),\n",
              " ('u', 4194),\n",
              " ('good', 3953),\n",
              " ('love', 3494),\n",
              " ('know', 3472),\n",
              " ('go', 2990),\n",
              " ('see', 2868),\n",
              " ('one', 2787),\n",
              " ('got', 2775),\n",
              " ('think', 2613),\n",
              " ('&amp;', 2556),\n",
              " ('lol', 2419),\n",
              " ('going', 2396),\n",
              " ('really', 2287),\n",
              " ('im', 2200),\n",
              " ('day', 2195)]"
            ]
          },
          "metadata": {
            "tags": []
          },
          "execution_count": 48
        }
      ]
    },
    {
      "cell_type": "markdown",
      "metadata": {
        "id": "ChYvTwGdHmlp"
      },
      "source": [
        "This looks better, only in the 20 most common words we already see words that make sense: good, love, really... "
      ]
    },
    {
      "cell_type": "markdown",
      "metadata": {
        "id": "TcuNTbLAHmlp"
      },
      "source": [
        "### Removing special characters and \"trash\"\n",
        "\n",
        "If you look closer, you'll see that we're also taking into consideration punctuation signs ('-', ',', etc) and other html tags like `&amp`. We can definitely remove them for the sentiment analysis, but we will try to keep the emoticons, since those _do_ have a sentiment load:"
      ]
    },
    {
      "cell_type": "code",
      "metadata": {
        "id": "gT04e_rVHmlq",
        "outputId": "9bd86784-bcdd-4992-d77a-ae03ba9ff956"
      },
      "source": [
        "def preprocessor(text):\n",
        "    \"\"\" Return a cleaned version of text\n",
        "    \"\"\"\n",
        "    # Remove HTML markup\n",
        "    text = re.sub('<[^>]*>', '', text)\n",
        "    # Save emoticons for later appending\n",
        "    emoticons = re.findall('(?::|;|=)(?:-)?(?:\\)|\\(|D|P)', text)\n",
        "    # Remove any non-word character and append the emoticons,\n",
        "    # removing the nose character for standarization. Convert to lower case\n",
        "    text = (re.sub('[\\W]+', ' ', text.lower()) + ' ' + ' '.join(emoticons).replace('-', ''))\n",
        "    \n",
        "    return text\n",
        "\n",
        "# Create some random texts for testing the function preprocessor()\n",
        "print(preprocessor('Create some random texts for testing :-) ?'))"
      ],
      "execution_count": null,
      "outputs": [
        {
          "output_type": "stream",
          "text": [
            "create some random texts for testing  :)\n"
          ],
          "name": "stdout"
        }
      ]
    },
    {
      "cell_type": "markdown",
      "metadata": {
        "id": "uP-ffdMAHmlr"
      },
      "source": [
        "We are almost ready! There is another trick we can use to reduce our vocabulary and consolidate words. If you think about it, words like: love, loving, etc. _Could_ express the same positivity. If that was the case, we would be  having two words in our vocabulary when we could have only one: lov. This process of reducing a word to its root is called **stemming**.\n",
        "\n",
        "We also need a _tokenizer_ to break down our twits in individual words. We will implement two tokenizers, a regular one and one that does steaming:"
      ]
    },
    {
      "cell_type": "code",
      "metadata": {
        "id": "AzTuQCxQHmls"
      },
      "source": [
        "love loving loved -> love"
      ],
      "execution_count": null,
      "outputs": []
    },
    {
      "cell_type": "code",
      "metadata": {
        "id": "TiSIC7KBHmlt",
        "outputId": "b124d839-0ea4-4cd2-b664-33aa26b07f9e"
      },
      "source": [
        "from nltk.stem import PorterStemmer\n",
        "\n",
        "porter = PorterStemmer()\n",
        "\n",
        "# write a function called `tokenizer()` that split a text into list of words\n",
        "def tokenizer(text):  \n",
        "    return text.split()\n",
        "\n",
        "\n",
        "# write a function named `tokenizer_porter()` that split a text into list of words and apply stemming technic\n",
        "# Hint: porter.stem(word)\n",
        "def tokenizer_porter(text):\n",
        "    token = [porter.stem(word) for word in text.split()]\n",
        "    return token\n",
        "\n",
        "# Testing\n",
        "print(tokenizer('Hi there, I am loving this, like with a lot of love'))\n",
        "print(tokenizer_porter('Hi there, I am loving this, like with a lot of love'))"
      ],
      "execution_count": null,
      "outputs": [
        {
          "output_type": "stream",
          "text": [
            "['Hi', 'there,', 'I', 'am', 'loving', 'this,', 'like', 'with', 'a', 'lot', 'of', 'love']\n",
            "['Hi', 'there,', 'I', 'am', 'love', 'this,', 'like', 'with', 'a', 'lot', 'of', 'love']\n"
          ],
          "name": "stdout"
        }
      ]
    },
    {
      "cell_type": "code",
      "metadata": {
        "id": "0dR3eGu_Hmlv"
      },
      "source": [
        "# split the dataset in train and test\n",
        "# Your code here\n",
        "from sklearn.model_selection import train_test_split\n",
        "X = sentiment['SentimentText']\n",
        "y = sentiment['Sentiment']\n",
        "X_train, X_test, y_train, y_test = train_test_split(X, y, test_size=0.3)"
      ],
      "execution_count": null,
      "outputs": []
    },
    {
      "cell_type": "markdown",
      "metadata": {
        "id": "uBuzoSO5Hmlx"
      },
      "source": [
        "## Step 2: Representation"
      ]
    },
    {
      "cell_type": "code",
      "metadata": {
        "id": "TWFfBjs-Hmly"
      },
      "source": [
        "from sklearn.feature_extraction.text import TfidfVectorizer\n",
        "\n",
        "tfidf = TfidfVectorizer(stop_words=stop,\n",
        "                        tokenizer=tokenizer_porter,\n",
        "                        preprocessor=preprocessor)"
      ],
      "execution_count": null,
      "outputs": []
    },
    {
      "cell_type": "markdown",
      "metadata": {
        "id": "XkWRFxS8Hmlz"
      },
      "source": [
        "## Step 3: Classification\n",
        "\n",
        "We are finally ready to train our algorithm. "
      ]
    },
    {
      "cell_type": "code",
      "metadata": {
        "id": "7ZDg7ceZHml0",
        "outputId": "192118fb-b24c-4a63-d0bb-f403bd5614e2"
      },
      "source": [
        "from sklearn.pipeline import Pipeline\n",
        "from sklearn.linear_model import LogisticRegression\n",
        "\n",
        "# A pipeline is what chains several steps together, once the initial exploration is done. \n",
        "# For example, some codes are meant to transform features — normalise numericals, or turn text into vectors, \n",
        "# or fill up missing data, they are transformers; other codes are meant to predict variables by fitting an algorithm,\n",
        "# they are estimators. Pipeline chains all these together which can then be applied to training data\n",
        "clf = Pipeline([('vect', tfidf),\n",
        "                ('clf', LogisticRegression(random_state=0))])\n",
        "clf.fit(X_train, y_train)"
      ],
      "execution_count": null,
      "outputs": [
        {
          "output_type": "stream",
          "text": [
            "/home/dks/anaconda3/envs/py3/lib/python3.6/site-packages/sklearn/feature_extraction/text.py:301: UserWarning: Your stop_words may be inconsistent with your preprocessing. Tokenizing the stop words generated tokens ['abov', 'ani', 'becaus', 'befor', 'doe', 'dure', 'ha', 'hi', 'onc', 'onli', 'ourselv', 'themselv', 'thi', 'veri', 'wa', 'whi', 'yourselv'] not in stop_words.\n",
            "  'stop_words.' % sorted(inconsistent))\n",
            "/home/dks/anaconda3/envs/py3/lib/python3.6/site-packages/sklearn/linear_model/logistic.py:433: FutureWarning: Default solver will be changed to 'lbfgs' in 0.22. Specify a solver to silence this warning.\n",
            "  FutureWarning)\n"
          ],
          "name": "stderr"
        },
        {
          "output_type": "execute_result",
          "data": {
            "text/plain": [
              "Pipeline(memory=None,\n",
              "     steps=[('vect', TfidfVectorizer(analyzer='word', binary=False, decode_error='strict',\n",
              "        dtype=<class 'numpy.float64'>, encoding='utf-8', input='content',\n",
              "        lowercase=True, max_df=1.0, max_features=None, min_df=1,\n",
              "        ngram_range=(1, 1), norm='l2',\n",
              "        preprocessor=<function prepr...e, penalty='l2', random_state=0, solver='warn',\n",
              "          tol=0.0001, verbose=0, warm_start=False))])"
            ]
          },
          "metadata": {
            "tags": []
          },
          "execution_count": 55
        }
      ]
    },
    {
      "cell_type": "code",
      "metadata": {
        "id": "YU2dZN47Hml1",
        "outputId": "10ef207d-db1d-441f-af54-84f64d026e7b"
      },
      "source": [
        "from sklearn.metrics import accuracy_score, confusion_matrix, classification_report\n",
        "\n",
        "# Now apply those above metrics to evaluate your model\n",
        "# Your code here\n",
        "prediction = clf.predict(X_test)\n",
        "print(accuracy_score(y_test, prediction))\n",
        "print(confusion_matrix(y_test, prediction))\n",
        "print(classification_report(y_test, prediction))"
      ],
      "execution_count": null,
      "outputs": [
        {
          "output_type": "stream",
          "text": [
            "0.7560756075607561\n",
            "[[ 8570  4305]\n",
            " [ 3012 14110]]\n",
            "              precision    recall  f1-score   support\n",
            "\n",
            "           0       0.74      0.67      0.70     12875\n",
            "           1       0.77      0.82      0.79     17122\n",
            "\n",
            "   micro avg       0.76      0.76      0.76     29997\n",
            "   macro avg       0.75      0.74      0.75     29997\n",
            "weighted avg       0.75      0.76      0.75     29997\n",
            "\n"
          ],
          "name": "stdout"
        }
      ]
    },
    {
      "cell_type": "markdown",
      "metadata": {
        "id": "9bF_N8KOHml3"
      },
      "source": [
        "Finally, let's run some tests :-)"
      ]
    },
    {
      "cell_type": "code",
      "metadata": {
        "id": "BTqlXE5hHml3",
        "outputId": "e26ba83e-b0dd-4005-919b-b4aee4fc2d1b"
      },
      "source": [
        "twits = [\n",
        "    \"This is really bad\",\n",
        "    \"I love this!\",\n",
        "    \":)\",\n",
        "]\n",
        "\n",
        "preds = clf.predict_proba(twits)\n",
        "\n",
        "for i in range(len(twits)):\n",
        "    print(f'{twits[i]} --> Negative, Positive = {preds[i]}')"
      ],
      "execution_count": null,
      "outputs": [
        {
          "output_type": "stream",
          "text": [
            "This is really bad --> Negative, Positive = [0.96 0.04]\n",
            "I love this! --> Negative, Positive = [0.08 0.92]\n",
            ":) --> Negative, Positive = [0.39 0.61]\n"
          ],
          "name": "stdout"
        }
      ]
    },
    {
      "cell_type": "markdown",
      "metadata": {
        "id": "XMZ5TMkXHml6"
      },
      "source": [
        "If we would like to use the classifier in another place, or just not train it again and again everytime, we can save the model in a pickle file:"
      ]
    },
    {
      "cell_type": "code",
      "metadata": {
        "id": "BNSgR_oUHml6"
      },
      "source": [
        "import pickle\n",
        "import os\n",
        "\n",
        "pickle.dump(clf, open(os.path.join('data', 'logisticRegression.pkl'), 'wb'), protocol=4)"
      ],
      "execution_count": null,
      "outputs": []
    },
    {
      "cell_type": "code",
      "metadata": {
        "id": "WMSxQxozHml8",
        "outputId": "b3bf2bee-375a-4fd6-b58f-a105e84e91bb"
      },
      "source": [
        "!ls data"
      ],
      "execution_count": null,
      "outputs": [
        {
          "output_type": "stream",
          "text": [
            "logisticRegression.pkl\ttrain.csv\r\n"
          ],
          "name": "stdout"
        }
      ]
    },
    {
      "cell_type": "markdown",
      "metadata": {
        "id": "bpycm0LEHml-"
      },
      "source": [
        "## And you're done! I hope you liked this!"
      ]
    },
    {
      "cell_type": "markdown",
      "metadata": {
        "id": "ED3HU3iyHml_"
      },
      "source": [
        "## 2. Bonus: Confusion Matrices\n",
        "\n",
        "https://towardsdatascience.com/taking-the-confusion-out-of-confusion-matrices-c1ce054b3d3e"
      ]
    },
    {
      "cell_type": "code",
      "metadata": {
        "id": "LHkEocRKHml_"
      },
      "source": [
        "# import numpy, pandas\n"
      ],
      "execution_count": null,
      "outputs": []
    },
    {
      "cell_type": "markdown",
      "metadata": {
        "id": "lIKus51uHmmB"
      },
      "source": [
        "* We use 2 models to predict if a woman is pregnant or not and save the result in \"pregnant.csv\" files.\n",
        "* pregnent dataset has 3 columns:\n",
        "    * Actual is actual result (ground truth)\n",
        "    * model_1_predict, model_2_predict are prediction results from model 1 and model 2\n",
        "\n",
        "**Now, we have to answer the question which model is better?**\n",
        "\n",
        "First of all, let's load dataset and print it out"
      ]
    },
    {
      "cell_type": "code",
      "metadata": {
        "id": "V5gH1dnsHmmC",
        "outputId": "f25ac8ce-29fd-42c0-9c1a-c3921f395994"
      },
      "source": [
        "df_pregnant = # Your code here"
      ],
      "execution_count": null,
      "outputs": [
        {
          "output_type": "execute_result",
          "data": {
            "text/html": [
              "<div>\n",
              "<style scoped>\n",
              "    .dataframe tbody tr th:only-of-type {\n",
              "        vertical-align: middle;\n",
              "    }\n",
              "\n",
              "    .dataframe tbody tr th {\n",
              "        vertical-align: top;\n",
              "    }\n",
              "\n",
              "    .dataframe thead th {\n",
              "        text-align: right;\n",
              "    }\n",
              "</style>\n",
              "<table border=\"1\" class=\"dataframe\">\n",
              "  <thead>\n",
              "    <tr style=\"text-align: right;\">\n",
              "      <th></th>\n",
              "      <th>Actual</th>\n",
              "      <th>model_1_predict</th>\n",
              "      <th>model_2_predict</th>\n",
              "    </tr>\n",
              "  </thead>\n",
              "  <tbody>\n",
              "    <tr>\n",
              "      <th>0</th>\n",
              "      <td>0</td>\n",
              "      <td>0</td>\n",
              "      <td>0</td>\n",
              "    </tr>\n",
              "    <tr>\n",
              "      <th>1</th>\n",
              "      <td>1</td>\n",
              "      <td>0</td>\n",
              "      <td>1</td>\n",
              "    </tr>\n",
              "    <tr>\n",
              "      <th>2</th>\n",
              "      <td>0</td>\n",
              "      <td>0</td>\n",
              "      <td>0</td>\n",
              "    </tr>\n",
              "    <tr>\n",
              "      <th>3</th>\n",
              "      <td>0</td>\n",
              "      <td>0</td>\n",
              "      <td>0</td>\n",
              "    </tr>\n",
              "    <tr>\n",
              "      <th>4</th>\n",
              "      <td>0</td>\n",
              "      <td>0</td>\n",
              "      <td>0</td>\n",
              "    </tr>\n",
              "  </tbody>\n",
              "</table>\n",
              "</div>"
            ],
            "text/plain": [
              "   Actual  model_1_predict  model_2_predict\n",
              "0       0                0                0\n",
              "1       1                0                1\n",
              "2       0                0                0\n",
              "3       0                0                0\n",
              "4       0                0                0"
            ]
          },
          "metadata": {
            "tags": []
          },
          "execution_count": 49
        }
      ]
    },
    {
      "cell_type": "markdown",
      "metadata": {
        "id": "_N0rAaftHmmE"
      },
      "source": [
        "### Calculate True Positive, False Positive, True Negative, False Negative of model 1\n",
        "![Alt](https://cdn-images-1.medium.com/max/800/1*g5zpskPaxO8uSl0OWT4NTQ.png)\n",
        "Note\n",
        "* Positive : 1(Pregnant)\n",
        "* Negative : 0(Not Pregnant)"
      ]
    },
    {
      "cell_type": "markdown",
      "metadata": {
        "id": "INdUIp2AHmmE"
      },
      "source": [
        "True Positive : Predict **Positive** and it's **True**"
      ]
    },
    {
      "cell_type": "code",
      "metadata": {
        "id": "xkj_OFxcHmmF",
        "outputId": "9887c712-f3de-4e09-bed0-65d73dd2686e"
      },
      "source": [
        "# Predict Positive\n",
        "positive = # Your code here\n",
        "# It's True (correct prediction)\n",
        "correct_predict = # Your code here\n",
        "\n",
        "TP = sum(positive & correct_predict)\n",
        "TP"
      ],
      "execution_count": null,
      "outputs": [
        {
          "output_type": "execute_result",
          "data": {
            "text/plain": [
              "40"
            ]
          },
          "metadata": {
            "tags": []
          },
          "execution_count": 55
        }
      ]
    },
    {
      "cell_type": "markdown",
      "metadata": {
        "id": "yBD0BJyaHmmG"
      },
      "source": [
        "False Positive: Predict **Positive** and it's **False**"
      ]
    },
    {
      "cell_type": "code",
      "metadata": {
        "id": "LQhLLo2wHmmG",
        "outputId": "863f739d-2881-4280-aa4c-b4452a6b3139"
      },
      "source": [
        "# Predict Positive\n",
        "positive = # Your code here\n",
        "# It's False (incorrect prediction)\n",
        "incorrect_predict = # Your code here\n",
        "\n",
        "FP = sum(positive & incorrect_predict)\n",
        "FP"
      ],
      "execution_count": null,
      "outputs": [
        {
          "output_type": "execute_result",
          "data": {
            "text/plain": [
              "65"
            ]
          },
          "metadata": {
            "tags": []
          },
          "execution_count": 56
        }
      ]
    },
    {
      "cell_type": "markdown",
      "metadata": {
        "id": "fdkyWOMGHmmI"
      },
      "source": [
        "True Negative : Predict **Negative** and it's **True**"
      ]
    },
    {
      "cell_type": "code",
      "metadata": {
        "id": "I1WRDQ5zHmmI",
        "outputId": "87db1b48-41da-4647-fc19-a86bf364ba7c"
      },
      "source": [
        "# Predict Negative\n",
        "negative = # Your code here\n",
        "# It's True (correct prediction)\n",
        "correct_predict = # Your code here\n",
        "\n",
        "TN = sum(negative & correct_predict)\n",
        "TN"
      ],
      "execution_count": null,
      "outputs": [
        {
          "output_type": "execute_result",
          "data": {
            "text/plain": [
              "385"
            ]
          },
          "metadata": {
            "tags": []
          },
          "execution_count": 52
        }
      ]
    },
    {
      "cell_type": "markdown",
      "metadata": {
        "id": "Zbo56o_bHmmK"
      },
      "source": [
        "False Negative: Predict **Negative** and it's **False**"
      ]
    },
    {
      "cell_type": "code",
      "metadata": {
        "id": "v3q7a7paHmmK",
        "outputId": "89c705ac-5ea2-464c-e348-4001fe1327c8"
      },
      "source": [
        "# Predict Negative\n",
        "negative = # Your code here\n",
        "# It's False (incorrect prediction)\n",
        "incorrect_predict = # Your code here\n",
        "\n",
        "FN = sum(negative & incorrect_predict)\n",
        "FN"
      ],
      "execution_count": null,
      "outputs": [
        {
          "output_type": "execute_result",
          "data": {
            "text/plain": [
              "10"
            ]
          },
          "metadata": {
            "tags": []
          },
          "execution_count": 54
        }
      ]
    },
    {
      "cell_type": "markdown",
      "metadata": {
        "id": "dX33SdyRHmmN"
      },
      "source": [
        "### Accuracy vs Precision vs Recall"
      ]
    },
    {
      "cell_type": "markdown",
      "metadata": {
        "id": "B-mhCInZHmmN"
      },
      "source": [
        "![Alt img](https://upload.wikimedia.org/wikipedia/commons/thumb/2/26/Precisionrecall.svg/440px-Precisionrecall.svg.png)\n",
        "\n",
        "- Accuracy (all correct / all) = (TP + TN) / (TP + TN + FP + FN)\n",
        "- Precision (true positives / predicted positives) = TP / (TP + FP)\n",
        "- Sensitivity aka Recall (true positives / all actual positives) = TP / (TP + FN)"
      ]
    },
    {
      "cell_type": "code",
      "metadata": {
        "id": "sRwpRkyCHmmN",
        "outputId": "7e8d6cc5-fba3-4993-b908-603235c9e085"
      },
      "source": [
        "Accuracy = # Your code here\n",
        "Precision = # Your code here\n",
        "Recall = # Your code here\n",
        "print(\"Accuracy : \", Accuracy)\n",
        "print(\"Precision: \", Precision)\n",
        "print(\"RecalL   : \", Recall)"
      ],
      "execution_count": null,
      "outputs": [
        {
          "output_type": "stream",
          "text": [
            "Accuracy :  0.85\n",
            "Precision:  0.38095238095238093\n",
            "RecalL   :  0.8\n"
          ],
          "name": "stdout"
        }
      ]
    },
    {
      "cell_type": "markdown",
      "metadata": {
        "id": "2ZEVl_gyHmmP"
      },
      "source": [
        "### Thank to Sklearn for making our life more easier with classification_report, confusion_matrix"
      ]
    },
    {
      "cell_type": "code",
      "metadata": {
        "id": "suf_fJYKHmmP"
      },
      "source": [
        "from sklearn.metrics import confusion_matrix, classification_report"
      ],
      "execution_count": null,
      "outputs": []
    },
    {
      "cell_type": "code",
      "metadata": {
        "id": "X-RsPaxIHmmS"
      },
      "source": [
        "confusion = confusion_matrix(df_pregnant['Actual'], df_pregnant['model_1_predict'])\n",
        "report = classification_report(df_pregnant['Actual'], df_pregnant['model_1_predict'])\n",
        "print(confusion)\n",
        "print(report)"
      ],
      "execution_count": null,
      "outputs": []
    },
    {
      "cell_type": "code",
      "metadata": {
        "scrolled": true,
        "id": "146l6kU4HmmV",
        "outputId": "805342d7-02b0-426e-ff57-5aad98f34b3f"
      },
      "source": [
        "# apply the same with model 2\n",
        "confusion = confusion_matrix(# Your code here)\n",
        "report = classification_report(# Your code here)\n",
        "print(confusion)\n",
        "print(report)"
      ],
      "execution_count": null,
      "outputs": [
        {
          "output_type": "stream",
          "text": [
            "[[395  55]\n",
            " [  5  45]]\n",
            "             precision    recall  f1-score   support\n",
            "\n",
            "          0       0.99      0.88      0.93       450\n",
            "          1       0.45      0.90      0.60        50\n",
            "\n",
            "avg / total       0.93      0.88      0.90       500\n",
            "\n"
          ],
          "name": "stdout"
        }
      ]
    }
  ]
}