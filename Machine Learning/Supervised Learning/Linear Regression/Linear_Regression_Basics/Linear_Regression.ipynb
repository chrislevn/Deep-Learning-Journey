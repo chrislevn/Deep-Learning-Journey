{
  "nbformat": 4,
  "nbformat_minor": 0,
  "metadata": {
    "kernelspec": {
      "display_name": "Python 3",
      "language": "python",
      "name": "python3"
    },
    "language_info": {
      "codemirror_mode": {
        "name": "ipython",
        "version": 3
      },
      "file_extension": ".py",
      "mimetype": "text/x-python",
      "name": "python",
      "nbconvert_exporter": "python",
      "pygments_lexer": "ipython3",
      "version": "3.7.3"
    },
    "colab": {
      "name": "Linear_Regression.ipynb",
      "provenance": []
    }
  },
  "cells": [
    {
      "cell_type": "markdown",
      "metadata": {
        "id": "fMQGmry5FDRE"
      },
      "source": [
        "# Linear Regression\n"
      ]
    },
    {
      "cell_type": "code",
      "metadata": {
        "id": "4LGC6ModFDRF"
      },
      "source": [
        "import pandas as pd\n",
        "import matplotlib.pyplot as plt\n",
        "import seaborn as sns"
      ],
      "execution_count": null,
      "outputs": []
    },
    {
      "cell_type": "markdown",
      "metadata": {
        "id": "xfTvV3JoFDRJ"
      },
      "source": [
        "## 1. Read dataset"
      ]
    },
    {
      "cell_type": "code",
      "metadata": {
        "id": "77VQNBpVFDRJ"
      },
      "source": [
        "# Read CSV file\n",
        "salaries = pd.read_csv(\"./Salary_Data.csv\")"
      ],
      "execution_count": null,
      "outputs": []
    },
    {
      "cell_type": "markdown",
      "metadata": {
        "id": "mGGHRwdeFDRL"
      },
      "source": [
        "## 2. Explore dataset"
      ]
    },
    {
      "cell_type": "code",
      "metadata": {
        "id": "Vd2ErR5mFDRM",
        "outputId": "a15da963-1208-437b-d74b-d0c4e1d1fd1a"
      },
      "source": [
        "salaries.head(10)"
      ],
      "execution_count": null,
      "outputs": [
        {
          "output_type": "execute_result",
          "data": {
            "text/html": [
              "<div>\n",
              "<style scoped>\n",
              "    .dataframe tbody tr th:only-of-type {\n",
              "        vertical-align: middle;\n",
              "    }\n",
              "\n",
              "    .dataframe tbody tr th {\n",
              "        vertical-align: top;\n",
              "    }\n",
              "\n",
              "    .dataframe thead th {\n",
              "        text-align: right;\n",
              "    }\n",
              "</style>\n",
              "<table border=\"1\" class=\"dataframe\">\n",
              "  <thead>\n",
              "    <tr style=\"text-align: right;\">\n",
              "      <th></th>\n",
              "      <th>YearsExperience</th>\n",
              "      <th>Salary</th>\n",
              "    </tr>\n",
              "  </thead>\n",
              "  <tbody>\n",
              "    <tr>\n",
              "      <th>0</th>\n",
              "      <td>1.1</td>\n",
              "      <td>39343.0</td>\n",
              "    </tr>\n",
              "    <tr>\n",
              "      <th>1</th>\n",
              "      <td>1.3</td>\n",
              "      <td>46205.0</td>\n",
              "    </tr>\n",
              "    <tr>\n",
              "      <th>2</th>\n",
              "      <td>1.5</td>\n",
              "      <td>37731.0</td>\n",
              "    </tr>\n",
              "    <tr>\n",
              "      <th>3</th>\n",
              "      <td>2.0</td>\n",
              "      <td>43525.0</td>\n",
              "    </tr>\n",
              "    <tr>\n",
              "      <th>4</th>\n",
              "      <td>2.2</td>\n",
              "      <td>39891.0</td>\n",
              "    </tr>\n",
              "    <tr>\n",
              "      <th>5</th>\n",
              "      <td>2.9</td>\n",
              "      <td>56642.0</td>\n",
              "    </tr>\n",
              "    <tr>\n",
              "      <th>6</th>\n",
              "      <td>3.0</td>\n",
              "      <td>60150.0</td>\n",
              "    </tr>\n",
              "    <tr>\n",
              "      <th>7</th>\n",
              "      <td>3.2</td>\n",
              "      <td>54445.0</td>\n",
              "    </tr>\n",
              "    <tr>\n",
              "      <th>8</th>\n",
              "      <td>3.2</td>\n",
              "      <td>64445.0</td>\n",
              "    </tr>\n",
              "    <tr>\n",
              "      <th>9</th>\n",
              "      <td>3.7</td>\n",
              "      <td>57189.0</td>\n",
              "    </tr>\n",
              "  </tbody>\n",
              "</table>\n",
              "</div>"
            ],
            "text/plain": [
              "   YearsExperience   Salary\n",
              "0              1.1  39343.0\n",
              "1              1.3  46205.0\n",
              "2              1.5  37731.0\n",
              "3              2.0  43525.0\n",
              "4              2.2  39891.0\n",
              "5              2.9  56642.0\n",
              "6              3.0  60150.0\n",
              "7              3.2  54445.0\n",
              "8              3.2  64445.0\n",
              "9              3.7  57189.0"
            ]
          },
          "metadata": {
            "tags": []
          },
          "execution_count": 4
        }
      ]
    },
    {
      "cell_type": "markdown",
      "metadata": {
        "id": "Ex2OtRwlFDRP"
      },
      "source": [
        "# Question: regression problem or classification problem??\n",
        "---> Regression problem"
      ]
    },
    {
      "cell_type": "code",
      "metadata": {
        "id": "JA2BnZHuFDRP",
        "outputId": "b35eeedb-b7f4-4417-cbc6-d30076900f7c"
      },
      "source": [
        "# How many datapoint we have?\n",
        "salaries.info()"
      ],
      "execution_count": null,
      "outputs": [
        {
          "output_type": "stream",
          "text": [
            "<class 'pandas.core.frame.DataFrame'>\n",
            "RangeIndex: 30 entries, 0 to 29\n",
            "Data columns (total 2 columns):\n",
            "YearsExperience    30 non-null float64\n",
            "Salary             30 non-null float64\n",
            "dtypes: float64(2)\n",
            "memory usage: 560.0 bytes\n"
          ],
          "name": "stdout"
        }
      ]
    },
    {
      "cell_type": "code",
      "metadata": {
        "id": "p2IRhEXeFDRR",
        "outputId": "8f937c75-fd21-4740-c152-252663acfd83"
      },
      "source": [
        "salaries.describe()"
      ],
      "execution_count": null,
      "outputs": [
        {
          "output_type": "execute_result",
          "data": {
            "text/html": [
              "<div>\n",
              "<style scoped>\n",
              "    .dataframe tbody tr th:only-of-type {\n",
              "        vertical-align: middle;\n",
              "    }\n",
              "\n",
              "    .dataframe tbody tr th {\n",
              "        vertical-align: top;\n",
              "    }\n",
              "\n",
              "    .dataframe thead th {\n",
              "        text-align: right;\n",
              "    }\n",
              "</style>\n",
              "<table border=\"1\" class=\"dataframe\">\n",
              "  <thead>\n",
              "    <tr style=\"text-align: right;\">\n",
              "      <th></th>\n",
              "      <th>YearsExperience</th>\n",
              "      <th>Salary</th>\n",
              "    </tr>\n",
              "  </thead>\n",
              "  <tbody>\n",
              "    <tr>\n",
              "      <th>count</th>\n",
              "      <td>30.000000</td>\n",
              "      <td>30.000000</td>\n",
              "    </tr>\n",
              "    <tr>\n",
              "      <th>mean</th>\n",
              "      <td>5.313333</td>\n",
              "      <td>76003.000000</td>\n",
              "    </tr>\n",
              "    <tr>\n",
              "      <th>std</th>\n",
              "      <td>2.837888</td>\n",
              "      <td>27414.429785</td>\n",
              "    </tr>\n",
              "    <tr>\n",
              "      <th>min</th>\n",
              "      <td>1.100000</td>\n",
              "      <td>37731.000000</td>\n",
              "    </tr>\n",
              "    <tr>\n",
              "      <th>25%</th>\n",
              "      <td>3.200000</td>\n",
              "      <td>56720.750000</td>\n",
              "    </tr>\n",
              "    <tr>\n",
              "      <th>50%</th>\n",
              "      <td>4.700000</td>\n",
              "      <td>65237.000000</td>\n",
              "    </tr>\n",
              "    <tr>\n",
              "      <th>75%</th>\n",
              "      <td>7.700000</td>\n",
              "      <td>100544.750000</td>\n",
              "    </tr>\n",
              "    <tr>\n",
              "      <th>max</th>\n",
              "      <td>10.500000</td>\n",
              "      <td>122391.000000</td>\n",
              "    </tr>\n",
              "  </tbody>\n",
              "</table>\n",
              "</div>"
            ],
            "text/plain": [
              "       YearsExperience         Salary\n",
              "count        30.000000      30.000000\n",
              "mean          5.313333   76003.000000\n",
              "std           2.837888   27414.429785\n",
              "min           1.100000   37731.000000\n",
              "25%           3.200000   56720.750000\n",
              "50%           4.700000   65237.000000\n",
              "75%           7.700000  100544.750000\n",
              "max          10.500000  122391.000000"
            ]
          },
          "metadata": {
            "tags": []
          },
          "execution_count": 6
        }
      ]
    },
    {
      "cell_type": "code",
      "metadata": {
        "id": "-pgOUr8CFDRU",
        "outputId": "3306d6c4-3435-40b6-f856-b2d58f421e05"
      },
      "source": [
        "## Distribution of salary\n",
        "sns.distplot(salaries['Salary']);"
      ],
      "execution_count": null,
      "outputs": [
        {
          "output_type": "display_data",
          "data": {
            "image/png": "[encoded data removed]",
            "text/plain": [
              "<Figure size 432x288 with 1 Axes>"
            ]
          },
          "metadata": {
            "tags": [],
            "needs_background": "light"
          }
        }
      ]
    },
    {
      "cell_type": "code",
      "metadata": {
        "id": "cbRSFDC5FDRW",
        "outputId": "b4cc6343-24e3-4b6a-a692-7d7d49618cbb"
      },
      "source": [
        "plt.scatter(salaries['YearsExperience'], salaries['Salary']);\n",
        "plt.xlabel('Years Experience')\n",
        "plt.ylabel('Salary');"
      ],
      "execution_count": null,
      "outputs": [
        {
          "output_type": "display_data",
          "data": {
            "image/png": "[encoded data removed]",
            "text/plain": [
              "<Figure size 432x288 with 1 Axes>"
            ]
          },
          "metadata": {
            "tags": [],
            "needs_background": "light"
          }
        }
      ]
    },
    {
      "cell_type": "markdown",
      "metadata": {
        "id": "1mpsT0PNFDRZ"
      },
      "source": [
        "## Years Experience is correlated with Salary so that we can use Years Experience to predict Salary"
      ]
    },
    {
      "cell_type": "markdown",
      "metadata": {
        "id": "3Zh0XEsIFDRZ"
      },
      "source": [
        "## 3. Split data into train and test set"
      ]
    },
    {
      "cell_type": "code",
      "metadata": {
        "id": "XN7A24ixFDRZ",
        "outputId": "cee3dd16-0077-4c8f-8294-53a762317c10"
      },
      "source": [
        "print(type(salaries[['YearsExperience']]))\n",
        "print(type(salaries['YearsExperience']))"
      ],
      "execution_count": null,
      "outputs": [
        {
          "output_type": "stream",
          "text": [
            "<class 'pandas.core.frame.DataFrame'>\n",
            "<class 'pandas.core.series.Series'>\n"
          ],
          "name": "stdout"
        }
      ]
    },
    {
      "cell_type": "code",
      "metadata": {
        "id": "vP35hmC_FDRc"
      },
      "source": [
        "from sklearn.model_selection import train_test_split\n",
        "X = salaries[['YearsExperience']]\n",
        "y = salaries['Salary']\n",
        "\n",
        "X_train, X_test, y_train, y_test = train_test_split(X, y, test_size=0.3, random_state=101)"
      ],
      "execution_count": null,
      "outputs": []
    },
    {
      "cell_type": "code",
      "metadata": {
        "id": "EeJPX3U5FDRe",
        "outputId": "b2f8b08f-f496-4d8f-c962-9e3c32aca004"
      },
      "source": [
        "# Plot train set\n",
        "plt.scatter(x=X_train, y=y_train, label='train')\n",
        "# Plot test set\n",
        "plt.scatter(x=X_test, y=y_test, label='test')\n",
        "plt.xlabel('Years Experience')\n",
        "plt.ylabel('Salary')\n",
        "plt.legend();"
      ],
      "execution_count": null,
      "outputs": [
        {
          "output_type": "display_data",
          "data": {
            "image/png": "[encoded data removed]",
            "text/plain": [
              "<Figure size 432x288 with 1 Axes>"
            ]
          },
          "metadata": {
            "tags": [],
            "needs_background": "light"
          }
        }
      ]
    },
    {
      "cell_type": "markdown",
      "metadata": {
        "id": "MKT-GKk3FDRg"
      },
      "source": [
        "## 4. Create model"
      ]
    },
    {
      "cell_type": "code",
      "metadata": {
        "id": "RzoSSQIdFDRg"
      },
      "source": [
        "from sklearn.linear_model import LinearRegression\n",
        "# Create linear regression model\n",
        "lr = LinearRegression()"
      ],
      "execution_count": null,
      "outputs": []
    },
    {
      "cell_type": "code",
      "metadata": {
        "id": "0wFKI2idFDRi",
        "outputId": "3d2310e9-e7d4-4629-c2ac-3075faf441be"
      },
      "source": [
        "# Train model with train set\n",
        "lr.fit(X=X_train, y=y_train)"
      ],
      "execution_count": null,
      "outputs": [
        {
          "output_type": "execute_result",
          "data": {
            "text/plain": [
              "LinearRegression(copy_X=True, fit_intercept=True, n_jobs=None,\n",
              "         normalize=False)"
            ]
          },
          "metadata": {
            "tags": []
          },
          "execution_count": 25
        }
      ]
    },
    {
      "cell_type": "markdown",
      "metadata": {
        "id": "i22youLqFDRk"
      },
      "source": [
        "$Salary=b_0+b_1*YearsExperience$"
      ]
    },
    {
      "cell_type": "code",
      "metadata": {
        "id": "_Z07fBfxFDRl",
        "outputId": "0df04f0d-2bfe-4907-dad7-3ab91e34ceb1"
      },
      "source": [
        "# b1\n",
        "lr.coef_"
      ],
      "execution_count": null,
      "outputs": [
        {
          "output_type": "execute_result",
          "data": {
            "text/plain": [
              "array([9577.17174975])"
            ]
          },
          "metadata": {
            "tags": []
          },
          "execution_count": 26
        }
      ]
    },
    {
      "cell_type": "code",
      "metadata": {
        "id": "sF0FWXTAFDRn",
        "outputId": "fae7570f-7551-467b-b3ea-ab699aaba7c6"
      },
      "source": [
        "# b0\n",
        "lr.intercept_"
      ],
      "execution_count": null,
      "outputs": [
        {
          "output_type": "execute_result",
          "data": {
            "text/plain": [
              "25975.814659541138"
            ]
          },
          "metadata": {
            "tags": []
          },
          "execution_count": 27
        }
      ]
    },
    {
      "cell_type": "code",
      "metadata": {
        "id": "ULJPKYmHFDRp"
      },
      "source": [
        "# Use trained model to make prediction\n",
        "predict_test = lr.predict(X=X_test)"
      ],
      "execution_count": null,
      "outputs": []
    },
    {
      "cell_type": "code",
      "metadata": {
        "id": "JxuNekKiFDRr",
        "outputId": "27bec516-81bc-483f-ef0f-5122307d3a59"
      },
      "source": [
        "# plot our prediction value\n",
        "plt.scatter(X_test, y_test, label='actual')\n",
        "plt.scatter(X_test, predict_test, label='prediction')\n",
        "plt.legend();"
      ],
      "execution_count": null,
      "outputs": [
        {
          "output_type": "display_data",
          "data": {
            "image/png": "[encoded data removed]",
            "text/plain": [
              "<Figure size 432x288 with 1 Axes>"
            ]
          },
          "metadata": {
            "tags": [],
            "needs_background": "light"
          }
        }
      ]
    },
    {
      "cell_type": "markdown",
      "metadata": {
        "id": "CFYIgkb_FDRt"
      },
      "source": [
        "## 5. Evaluate model"
      ]
    },
    {
      "cell_type": "code",
      "metadata": {
        "id": "DwVmNqNAFDRu",
        "outputId": "877a4f30-05f4-4757-ce2f-a5eb0f71c9f3"
      },
      "source": [
        "# calculate MSE\n",
        "from sklearn.metrics import mean_squared_error\n",
        "print(mean_squared_error(y_test, predict_test))\n",
        "# question here ?? calculate RMSE"
      ],
      "execution_count": null,
      "outputs": [
        {
          "output_type": "stream",
          "text": [
            "17978409.49734413\n"
          ],
          "name": "stdout"
        }
      ]
    },
    {
      "cell_type": "markdown",
      "metadata": {
        "id": "2POQmgr7FDRw"
      },
      "source": [
        "## 6. Extra Polynomial Regression"
      ]
    },
    {
      "cell_type": "code",
      "metadata": {
        "id": "RAs61_nIFDRw"
      },
      "source": [
        "from sklearn.preprocessing import PolynomialFeatures"
      ],
      "execution_count": null,
      "outputs": []
    },
    {
      "cell_type": "code",
      "metadata": {
        "id": "yaR2IKMJFDRy",
        "outputId": "104a8865-b01a-4b3b-a388-69c796500a3f"
      },
      "source": [
        "X_train.head()"
      ],
      "execution_count": null,
      "outputs": [
        {
          "output_type": "execute_result",
          "data": {
            "text/html": [
              "<div>\n",
              "<style scoped>\n",
              "    .dataframe tbody tr th:only-of-type {\n",
              "        vertical-align: middle;\n",
              "    }\n",
              "\n",
              "    .dataframe tbody tr th {\n",
              "        vertical-align: top;\n",
              "    }\n",
              "\n",
              "    .dataframe thead th {\n",
              "        text-align: right;\n",
              "    }\n",
              "</style>\n",
              "<table border=\"1\" class=\"dataframe\">\n",
              "  <thead>\n",
              "    <tr style=\"text-align: right;\">\n",
              "      <th></th>\n",
              "      <th>YearsExperience</th>\n",
              "    </tr>\n",
              "  </thead>\n",
              "  <tbody>\n",
              "    <tr>\n",
              "      <th>28</th>\n",
              "      <td>10.3</td>\n",
              "    </tr>\n",
              "    <tr>\n",
              "      <th>10</th>\n",
              "      <td>3.9</td>\n",
              "    </tr>\n",
              "    <tr>\n",
              "      <th>3</th>\n",
              "      <td>2.0</td>\n",
              "    </tr>\n",
              "    <tr>\n",
              "      <th>1</th>\n",
              "      <td>1.3</td>\n",
              "    </tr>\n",
              "    <tr>\n",
              "      <th>19</th>\n",
              "      <td>6.0</td>\n",
              "    </tr>\n",
              "  </tbody>\n",
              "</table>\n",
              "</div>"
            ],
            "text/plain": [
              "    YearsExperience\n",
              "28             10.3\n",
              "10              3.9\n",
              "3               2.0\n",
              "1               1.3\n",
              "19              6.0"
            ]
          },
          "metadata": {
            "tags": []
          },
          "execution_count": 36
        }
      ]
    },
    {
      "cell_type": "markdown",
      "metadata": {
        "id": "b8l6vSu9FDR0"
      },
      "source": [
        "$Salary=b_0+b_1*YearsExperience$\n",
        "\n",
        "Polynomial Regression\n",
        "\n",
        "$Salary=b_0+b_1*YearsExperience+b_2*YearsExperience^2$"
      ]
    },
    {
      "cell_type": "code",
      "metadata": {
        "id": "ZiNGeH7_FDR1"
      },
      "source": [
        "poly_model = PolynomialFeatures(degree=2)"
      ],
      "execution_count": null,
      "outputs": []
    },
    {
      "cell_type": "code",
      "metadata": {
        "id": "FxdfqE3AFDR3"
      },
      "source": [
        "# Transform data from x -> x, x^2\n",
        "X_train_poly = poly_model.fit_transform(X_train)\n",
        "X_test_poly  = poly_model.fit_transform(X_test)"
      ],
      "execution_count": null,
      "outputs": []
    },
    {
      "cell_type": "code",
      "metadata": {
        "id": "Mri4FNZPFDR5",
        "outputId": "cf256763-4f38-45b0-e410-e668c9a626ce"
      },
      "source": [
        "X_train_poly\n",
        "# [x^0 , x^1, x^2]"
      ],
      "execution_count": null,
      "outputs": [
        {
          "output_type": "execute_result",
          "data": {
            "text/plain": [
              "array([[  1.  ,  10.3 , 106.09],\n",
              "       [  1.  ,   3.9 ,  15.21],\n",
              "       [  1.  ,   2.  ,   4.  ],\n",
              "       [  1.  ,   1.3 ,   1.69],\n",
              "       [  1.  ,   6.  ,  36.  ],\n",
              "       [  1.  ,   7.9 ,  62.41],\n",
              "       [  1.  ,   4.  ,  16.  ],\n",
              "       [  1.  ,   2.9 ,   8.41],\n",
              "       [  1.  ,   4.5 ,  20.25],\n",
              "       [  1.  ,   1.1 ,   1.21],\n",
              "       [  1.  ,   7.1 ,  50.41],\n",
              "       [  1.  ,   2.2 ,   4.84],\n",
              "       [  1.  ,   3.2 ,  10.24],\n",
              "       [  1.  ,   4.1 ,  16.81],\n",
              "       [  1.  ,   3.7 ,  13.69],\n",
              "       [  1.  ,   4.9 ,  24.01],\n",
              "       [  1.  ,  10.5 , 110.25],\n",
              "       [  1.  ,   8.2 ,  67.24],\n",
              "       [  1.  ,   3.  ,   9.  ],\n",
              "       [  1.  ,   5.3 ,  28.09],\n",
              "       [  1.  ,   4.  ,  16.  ]])"
            ]
          },
          "metadata": {
            "tags": []
          },
          "execution_count": 42
        }
      ]
    },
    {
      "cell_type": "code",
      "metadata": {
        "id": "-2biB0AeFDR7",
        "outputId": "85c82f06-803b-4bb5-bf70-4354809ee54d"
      },
      "source": [
        "# Train poly regression model\n",
        "# Linear Regression model trains with poly features\n",
        "poly_lr = LinearRegression()\n",
        "poly_lr.fit(X_train_poly, y_train)"
      ],
      "execution_count": null,
      "outputs": [
        {
          "output_type": "execute_result",
          "data": {
            "text/plain": [
              "LinearRegression(copy_X=True, fit_intercept=True, n_jobs=None,\n",
              "         normalize=False)"
            ]
          },
          "metadata": {
            "tags": []
          },
          "execution_count": 43
        }
      ]
    },
    {
      "cell_type": "code",
      "metadata": {
        "id": "pb_gN8f6FDR-",
        "outputId": "079aa2b6-4f92-411c-b205-b54295d9b05e"
      },
      "source": [
        "print(poly_lr.coef_)\n",
        "print(poly_lr.intercept_)"
      ],
      "execution_count": null,
      "outputs": [
        {
          "output_type": "stream",
          "text": [
            "[   0.         9313.9762626    22.73262965]\n",
            "26557.223350824344\n"
          ],
          "name": "stdout"
        }
      ]
    },
    {
      "cell_type": "code",
      "metadata": {
        "id": "lu40aNsYFDSA"
      },
      "source": [
        "# Make prediction\n",
        "poly_prediction = poly_lr.predict(X_test_poly)"
      ],
      "execution_count": null,
      "outputs": []
    },
    {
      "cell_type": "code",
      "metadata": {
        "id": "-HTvQ21mFDSC",
        "outputId": "b2c29512-0b73-4e1f-bf6e-a40ff059b488"
      },
      "source": [
        "poly_prediction"
      ],
      "execution_count": null,
      "outputs": [
        {
          "output_type": "execute_result",
          "data": {
            "text/plain": [
              "array([ 90943.41873142, 109309.44957349,  56594.72951873,  82301.0061382 ,\n",
              "        40579.33616143, 118066.43462014, 117091.61767125,  74649.77798722,\n",
              "       112224.35271571])"
            ]
          },
          "metadata": {
            "tags": []
          },
          "execution_count": 46
        }
      ]
    },
    {
      "cell_type": "code",
      "metadata": {
        "id": "qxvibhAlFDSD"
      },
      "source": [
        "# That's all for today!!"
      ],
      "execution_count": null,
      "outputs": []
    }
  ]
}