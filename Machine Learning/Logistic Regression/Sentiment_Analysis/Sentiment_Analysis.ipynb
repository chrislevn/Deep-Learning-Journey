{
  "nbformat": 4,
  "nbformat_minor": 0,
  "metadata": {
    "kernelspec": {
      "display_name": "Python 3",
      "language": "python",
      "name": "python3"
    },
    "language_info": {
      "codemirror_mode": {
        "name": "ipython",
        "version": 3
      },
      "file_extension": ".py",
      "mimetype": "text/x-python",
      "name": "python",
      "nbconvert_exporter": "python",
      "pygments_lexer": "ipython3",
      "version": "3.7.3"
    },
    "colab": {
      "name": "Sentiment Analysis.ipynb",
      "provenance": []
    }
  },
  "cells": [
    {
      "cell_type": "markdown",
      "metadata": {
        "id": "0afCgTjuHT_c"
      },
      "source": [
        "[Bag of Words Meets Bags of Popcorn](https://www.kaggle.com/c/word2vec-nlp-tutorial/data)\n",
        "======\n",
        "\n",
        "## Data Set\n",
        "\n",
        "The labeled data set consists of 50,000 IMDB movie reviews, specially selected for sentiment analysis. The sentiment of reviews is binary, meaning the IMDB rating < 5 results in a sentiment score of 0, and rating >=7 have a sentiment score of 1. No individual movie has more than 30 reviews. The 25,000 review labeled training set does not include any of the same movies as the 25,000 review test set. In addition, there are another 50,000 IMDB reviews provided without any rating labels.\n",
        "\n",
        "## File descriptions\n",
        "\n",
        "labeledTrainData - The labeled training set. The file is tab-delimited and has a header row followed by 25,000 rows containing an id, sentiment, and text for each review.  "
      ]
    },
    {
      "cell_type": "markdown",
      "metadata": {
        "id": "h1RzINe-HT_d"
      },
      "source": [
        "## 1. Load Dataset\n",
        "we only forcus on \"labeledTrainData.csv\" file\n",
        "\n",
        "Let's first of all have a look at the data."
      ]
    },
    {
      "cell_type": "code",
      "metadata": {
        "id": "STjkVKGjHT_e"
      },
      "source": [
        "# Import pandas, numpy\n",
        "import pandas as pd\n",
        "import numpy as np"
      ],
      "execution_count": null,
      "outputs": []
    },
    {
      "cell_type": "markdown",
      "metadata": {
        "id": "zhSzusVdHT_g"
      },
      "source": [
        "#### Data fields\n",
        "\n",
        "* id - Unique ID of each review\n",
        "* sentiment - Sentiment of the review; 1 for positive reviews and 0 for negative reviews\n",
        "* review - Text of the review\n",
        "\n",
        "Objective of this dataset is base on **review** we predict **sentiment** so X is **review** column and y is **sentiment** column"
      ]
    },
    {
      "cell_type": "code",
      "metadata": {
        "id": "DOntPjC8HT_h",
        "outputId": "98585e96-9b27-4e7e-a7d5-4fe2f9efac7d"
      },
      "source": [
        "# Read dataset\n",
        "dataset = pd.read_csv(\"./labeledTrainData.tsv\", sep='\\t', encoding=\"latin-1\")\n",
        "\n",
        "dataset.sample(10)"
      ],
      "execution_count": null,
      "outputs": [
        {
          "output_type": "execute_result",
          "data": {
            "text/html": [
              "<div>\n",
              "<style scoped>\n",
              "    .dataframe tbody tr th:only-of-type {\n",
              "        vertical-align: middle;\n",
              "    }\n",
              "\n",
              "    .dataframe tbody tr th {\n",
              "        vertical-align: top;\n",
              "    }\n",
              "\n",
              "    .dataframe thead th {\n",
              "        text-align: right;\n",
              "    }\n",
              "</style>\n",
              "<table border=\"1\" class=\"dataframe\">\n",
              "  <thead>\n",
              "    <tr style=\"text-align: right;\">\n",
              "      <th></th>\n",
              "      <th>id</th>\n",
              "      <th>sentiment</th>\n",
              "      <th>review</th>\n",
              "    </tr>\n",
              "  </thead>\n",
              "  <tbody>\n",
              "    <tr>\n",
              "      <th>4185</th>\n",
              "      <td>7223_10</td>\n",
              "      <td>1</td>\n",
              "      <td>The comparison to Sleuth, the earlier stage-pl...</td>\n",
              "    </tr>\n",
              "    <tr>\n",
              "      <th>10873</th>\n",
              "      <td>9428_10</td>\n",
              "      <td>1</td>\n",
              "      <td>One of my favorite movies to date starts as an...</td>\n",
              "    </tr>\n",
              "    <tr>\n",
              "      <th>18437</th>\n",
              "      <td>4765_7</td>\n",
              "      <td>1</td>\n",
              "      <td>A priest who has abandoned his ministry meets ...</td>\n",
              "    </tr>\n",
              "    <tr>\n",
              "      <th>5471</th>\n",
              "      <td>6522_10</td>\n",
              "      <td>1</td>\n",
              "      <td>During the whole Pirates of The Caribbean Tril...</td>\n",
              "    </tr>\n",
              "    <tr>\n",
              "      <th>16585</th>\n",
              "      <td>6245_10</td>\n",
              "      <td>1</td>\n",
              "      <td>\\Hundstage\\\" is seidl's first fiction film (be...</td>\n",
              "    </tr>\n",
              "    <tr>\n",
              "      <th>13918</th>\n",
              "      <td>8118_3</td>\n",
              "      <td>0</td>\n",
              "      <td>Well, EYEboy, I must say that it pleases me to...</td>\n",
              "    </tr>\n",
              "    <tr>\n",
              "      <th>631</th>\n",
              "      <td>2025_1</td>\n",
              "      <td>0</td>\n",
              "      <td>My wife and I are semi amused by Howie Mandel'...</td>\n",
              "    </tr>\n",
              "    <tr>\n",
              "      <th>12895</th>\n",
              "      <td>2124_1</td>\n",
              "      <td>0</td>\n",
              "      <td>This film concerns the story of Eddy as mentio...</td>\n",
              "    </tr>\n",
              "    <tr>\n",
              "      <th>20416</th>\n",
              "      <td>9265_9</td>\n",
              "      <td>1</td>\n",
              "      <td>Different film directors from different countr...</td>\n",
              "    </tr>\n",
              "    <tr>\n",
              "      <th>1937</th>\n",
              "      <td>2808_10</td>\n",
              "      <td>1</td>\n",
              "      <td>This film is not morbid, nor is it depressing....</td>\n",
              "    </tr>\n",
              "  </tbody>\n",
              "</table>\n",
              "</div>"
            ],
            "text/plain": [
              "            id  sentiment                                             review\n",
              "4185   7223_10          1  The comparison to Sleuth, the earlier stage-pl...\n",
              "10873  9428_10          1  One of my favorite movies to date starts as an...\n",
              "18437   4765_7          1  A priest who has abandoned his ministry meets ...\n",
              "5471   6522_10          1  During the whole Pirates of The Caribbean Tril...\n",
              "16585  6245_10          1  \\Hundstage\\\" is seidl's first fiction film (be...\n",
              "13918   8118_3          0  Well, EYEboy, I must say that it pleases me to...\n",
              "631     2025_1          0  My wife and I are semi amused by Howie Mandel'...\n",
              "12895   2124_1          0  This film concerns the story of Eddy as mentio...\n",
              "20416   9265_9          1  Different film directors from different countr...\n",
              "1937   2808_10          1  This film is not morbid, nor is it depressing...."
            ]
          },
          "metadata": {
            "tags": []
          },
          "execution_count": 10
        }
      ]
    },
    {
      "cell_type": "markdown",
      "metadata": {
        "id": "-rRcp3liHT_k"
      },
      "source": [
        "## 2. Preprocessing"
      ]
    },
    {
      "cell_type": "code",
      "metadata": {
        "id": "9SB4K1u6HT_k",
        "outputId": "67092f74-6148-4757-8e20-87ff59a48cb3"
      },
      "source": [
        "# stop words\n",
        "import nltk\n",
        "nltk.download('stopwords')\n",
        "from nltk.corpus import stopwords\n",
        "stop = stopwords.words('english')"
      ],
      "execution_count": null,
      "outputs": [
        {
          "output_type": "stream",
          "text": [
            "[nltk_data] Downloading package stopwords to\n",
            "[nltk_data]     /Users/tantran/nltk_data...\n",
            "[nltk_data]   Package stopwords is already up-to-date!\n"
          ],
          "name": "stdout"
        }
      ]
    },
    {
      "cell_type": "code",
      "metadata": {
        "id": "fDZ86HTAHT_n",
        "outputId": "b79f451e-7ef5-415b-fc92-867e8dd4c9ee"
      },
      "source": [
        "# Removing special characters and \"trash\"\n",
        "import re\n",
        "def preprocessor(text):\n",
        "    # Remove HTML markup\n",
        "    text = re.sub('<[^>]*>', '', text)\n",
        "    \n",
        "    # Save emoticons for later appending\n",
        "    # If we do not use the non-capturing pattern '?:' for the groups, the returned result is a list of tuples, each tuple represents for each group. \n",
        "    # If we use non-capturing grouping '(?:)',that is, we group but not capture them, we can return a string\n",
        "    emoticons = re.findall('(?::|;|=)(?:-)?(?:\\)|\\(|D|P)', text)\n",
        "    \n",
        "    # Remove any non-word character(including white spaces) and append the emoticons,\n",
        "    # Removing the nose character for standarization. Convert to lower case\n",
        "    # If we don't use Quantifier '+', we only search for one character (non-alphanumeric character)\n",
        "    # What this Regex do is Selecting a sequence of non-alphanumeric characters\n",
        "    # We use join() because the 'emoticons' is actually a list\n",
        "    # We replace '-' with '' because ':-)' is the same as ':)'\n",
        "    text = re.sub('([\\W]+)(d|p)*', ' ', text.lower()) + ' '.join(emoticons).replace('-', '')\n",
        "    \n",
        "    return text\n",
        "\n",
        "preprocessor(':) Today is fine :-D :P')\n"
      ],
      "execution_count": null,
      "outputs": [
        {
          "output_type": "execute_result",
          "data": {
            "text/plain": [
              "' today is fine  :) :D :P'"
            ]
          },
          "metadata": {
            "tags": []
          },
          "execution_count": 59
        }
      ]
    },
    {
      "cell_type": "code",
      "metadata": {
        "id": "4exz5ZycHT_p"
      },
      "source": [
        "# tokenizer and stemming\n",
        "# tokenizer: to break down our twits in individual words\n",
        "# stemming: reducing a word to its root \n",
        "from nltk.stem import PorterStemmer\n",
        "porter = PorterStemmer()\n",
        "\n",
        "def tokenizer_porter(text):\n",
        "    stem_tokens=[]\n",
        "    tokens = text.split(' ')\n",
        "    for token in tokens:\n",
        "        stem_tokens.append(porter.stem(token))\n",
        "    return stem_tokens"
      ],
      "execution_count": null,
      "outputs": []
    },
    {
      "cell_type": "code",
      "metadata": {
        "id": "UxgH-I2UHT_r"
      },
      "source": [
        "# split the dataset in train and test\n",
        "from sklearn.model_selection import train_test_split\n",
        "X = dataset['review']\n",
        "y = dataset['sentiment']\n",
        "X_train, X_test, y_train, y_test = train_test_split(X, y, test_size=0.3, random_state=101)"
      ],
      "execution_count": null,
      "outputs": []
    },
    {
      "cell_type": "markdown",
      "metadata": {
        "id": "aJb3uKaeHT_t"
      },
      "source": [
        "## 3. Create Model and Train "
      ]
    },
    {
      "cell_type": "code",
      "metadata": {
        "id": "YZP6sMIAHT_u",
        "outputId": "8f2bccea-f286-4bad-a7c2-38d6363007c8"
      },
      "source": [
        "# Using Pipeline to concat tfidf step and LogisticRegression step\n",
        "from sklearn.pipeline import Pipeline\n",
        "from sklearn.linear_model import LogisticRegression\n",
        "from sklearn.feature_extraction.text import TfidfVectorizer\n",
        "\n",
        "# If we don't pass these params, defaultly they are None\n",
        "# If we don't pass stop_words, and preprocessor, our data is not good enough\n",
        "# If we don't pass tokenizer, TfidfVectorizer will use the default one, but here we have tokenizer combined with stemming, better than default\n",
        "tfidf = TfidfVectorizer(stop_words=stop,\n",
        "                        tokenizer=tokenizer_porter,\n",
        "                        preprocessor=preprocessor)\n",
        "\n",
        "clf = Pipeline([('vect', tfidf), ('clf', LogisticRegression(random_state=0))])\n",
        "clf.fit(X_train, y_train)"
      ],
      "execution_count": null,
      "outputs": [
        {
          "output_type": "execute_result",
          "data": {
            "text/plain": [
              "Pipeline(memory=None,\n",
              "     steps=[('vect', TfidfVectorizer(analyzer='word', binary=False, decode_error='strict',\n",
              "        dtype=<class 'numpy.int64'>, encoding='utf-8', input='content',\n",
              "        lowercase=True, max_df=1.0, max_features=None, min_df=1,\n",
              "        ngram_range=(1, 1), norm='l2',\n",
              "        preprocessor=<function preproc...nalty='l2', random_state=0, solver='liblinear', tol=0.0001,\n",
              "          verbose=0, warm_start=False))])"
            ]
          },
          "metadata": {
            "tags": []
          },
          "execution_count": 19
        }
      ]
    },
    {
      "cell_type": "markdown",
      "metadata": {
        "id": "S0Yn6YgHHT_w"
      },
      "source": [
        "## 4. Evaluate Model"
      ]
    },
    {
      "cell_type": "code",
      "metadata": {
        "id": "r8vJsqx4HT_w",
        "outputId": "03668d05-4500-412c-c8fa-8f9fd45592c0"
      },
      "source": [
        "# Using Test dataset to evaluate model\n",
        "# classification_report\n",
        "# confusion matrix\n",
        "from sklearn.metrics import classification_report, confusion_matrix\n",
        "\n",
        "prediction = clf.predict(X_test)\n",
        "matrix = confusion_matrix(y_test, prediction)\n",
        "report = classification_report(y_test, prediction)\n",
        "print(matrix)\n",
        "print(report)"
      ],
      "execution_count": null,
      "outputs": [
        {
          "output_type": "stream",
          "text": [
            "[[3294  502]\n",
            " [ 357 3347]]\n",
            "             precision    recall  f1-score   support\n",
            "\n",
            "          0       0.90      0.87      0.88      3796\n",
            "          1       0.87      0.90      0.89      3704\n",
            "\n",
            "avg / total       0.89      0.89      0.89      7500\n",
            "\n"
          ],
          "name": "stdout"
        }
      ]
    },
    {
      "cell_type": "markdown",
      "metadata": {
        "id": "eOMwQI_jHT_y"
      },
      "source": [
        "## 5. Export Model "
      ]
    },
    {
      "cell_type": "code",
      "metadata": {
        "id": "l5znZ0A1HT_z",
        "outputId": "ea4c9174-7161-4070-f731-d7a04504da72"
      },
      "source": [
        "# Using pickle to export our trained model\n",
        "import pickle\n",
        "import os\n",
        "\n",
        "pickle.dump(clf, open(os.path.join('data', '../movieReviewSentiments.pkl'), 'wb'), protocol=4)"
      ],
      "execution_count": null,
      "outputs": [
        {
          "output_type": "error",
          "ename": "FileNotFoundError",
          "evalue": "[Errno 2] No such file or directory: 'data/../movieReviewSentiments.pkl'",
          "traceback": [
            "\u001b[0;31m---------------------------------------------------------------------------\u001b[0m",
            "\u001b[0;31mFileNotFoundError\u001b[0m                         Traceback (most recent call last)",
            "\u001b[0;32m<ipython-input-21-54279049dc1d>\u001b[0m in \u001b[0;36m<module>\u001b[0;34m()\u001b[0m\n\u001b[1;32m      3\u001b[0m \u001b[0;32mimport\u001b[0m \u001b[0mos\u001b[0m\u001b[0;34m\u001b[0m\u001b[0;34m\u001b[0m\u001b[0m\n\u001b[1;32m      4\u001b[0m \u001b[0;34m\u001b[0m\u001b[0m\n\u001b[0;32m----> 5\u001b[0;31m \u001b[0mpickle\u001b[0m\u001b[0;34m.\u001b[0m\u001b[0mdump\u001b[0m\u001b[0;34m(\u001b[0m\u001b[0mclf\u001b[0m\u001b[0;34m,\u001b[0m \u001b[0mopen\u001b[0m\u001b[0;34m(\u001b[0m\u001b[0mos\u001b[0m\u001b[0;34m.\u001b[0m\u001b[0mpath\u001b[0m\u001b[0;34m.\u001b[0m\u001b[0mjoin\u001b[0m\u001b[0;34m(\u001b[0m\u001b[0;34m'data'\u001b[0m\u001b[0;34m,\u001b[0m \u001b[0;34m'../movieReviewSentiments.pkl'\u001b[0m\u001b[0;34m)\u001b[0m\u001b[0;34m,\u001b[0m \u001b[0;34m'wb'\u001b[0m\u001b[0;34m)\u001b[0m\u001b[0;34m,\u001b[0m \u001b[0mprotocol\u001b[0m\u001b[0;34m=\u001b[0m\u001b[0;36m4\u001b[0m\u001b[0;34m)\u001b[0m\u001b[0;34m\u001b[0m\u001b[0;34m\u001b[0m\u001b[0m\n\u001b[0m",
            "\u001b[0;31mFileNotFoundError\u001b[0m: [Errno 2] No such file or directory: 'data/../movieReviewSentiments.pkl'"
          ]
        }
      ]
    }
  ]
}