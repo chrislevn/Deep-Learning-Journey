{
  "nbformat": 4,
  "nbformat_minor": 0,
  "metadata": {
    "kernelspec": {
      "display_name": "Python 3",
      "language": "python",
      "name": "python3"
    },
    "language_info": {
      "codemirror_mode": {
        "name": "ipython",
        "version": 3
      },
      "file_extension": ".py",
      "mimetype": "text/x-python",
      "name": "python",
      "nbconvert_exporter": "python",
      "pygments_lexer": "ipython3",
      "version": "3.7.1"
    },
    "colab": {
      "name": "Unsupervised_Learning_Basics.ipynb",
      "provenance": []
    }
  },
  "cells": [
    {
      "cell_type": "markdown",
      "metadata": {
        "id": "4TkTKH68LzDd"
      },
      "source": [
        "Unsupervised Learning\n",
        "===="
      ]
    },
    {
      "cell_type": "markdown",
      "metadata": {
        "id": "Z4awelEgLzDe"
      },
      "source": [
        "The customer segments data is included as a selection of 440 data points collected on data found from clients of a wholesale distributor in Lisbon, Portugal. More information can be found on the UCI Machine Learning Repository.\n",
        "\n",
        "Note (m.u.) is shorthand for monetary units.\n",
        "\n",
        "Features:\n",
        "- 1) Fresh: annual spending (m.u.) on fresh products (Continuous)\n",
        "- 2) Milk: annual spending (m.u.) on milk products (Continuous)\n",
        "- 3) Grocery: annual spending (m.u.) on grocery products (Continuous)\n",
        "- 4) Frozen: annual spending (m.u.) on frozen products (Continuous)\n",
        "- 5) Detergents_Paper: annual spending (m.u.) on detergents and paper - products (Continuous)\n",
        "- 6) Delicatessen: annual spending (m.u.) on and delicatessen products (Continuous)\n",
        "- 7) Channel: {Hotel/Restaurant/Cafe - 1, Retail - 2} (Nominal)\n",
        "- 8) Region: {Lisbon - 1, Oporto - 2, or Other - 3} (Nominal)"
      ]
    },
    {
      "cell_type": "markdown",
      "metadata": {
        "id": "hcHwma4-LzDf"
      },
      "source": [
        "In this project, you will analyze a dataset containing data on various customers' annual spending amounts (reported in monetary units) of diverse product categories for internal structure. One goal of this project is to best describe the variation in the different types of customers that a wholesale distributor interacts with."
      ]
    },
    {
      "cell_type": "markdown",
      "metadata": {
        "id": "Y1vH-lrFLzDf"
      },
      "source": [
        "## Getting Started"
      ]
    },
    {
      "cell_type": "code",
      "metadata": {
        "id": "36SxLfv2LzDg"
      },
      "source": [
        "# Import necessary libraries: pandas, numpy, matplotlib, seaborn\n",
        "# Your code here\n",
        "import pandas as pd\n",
        "import numpy as np\n",
        "import matplotlib.pyplot as plt\n",
        "import seaborn as sns\n",
        "%matplotlib inline\n",
        "import warnings\n",
        "warnings.filterwarnings('ignore')\n",
        "sns.set_style(\"darkgrid\") # white, whitegrid, dark, darkgrid, ticks"
      ],
      "execution_count": null,
      "outputs": []
    },
    {
      "cell_type": "code",
      "metadata": {
        "id": "bgqBByVQLzDi"
      },
      "source": [
        "# Read dataset\n",
        "# For the purposes of this project, the features 'Channel' and 'Region' will be excluded in the analysis — \n",
        "# with focus instead on the six product categories recorded for customers.\n",
        "\n",
        "# import dataset\n",
        "data = pd.read_csv('./customers.csv')\n",
        "# drop columns Channel and Region\n",
        "data = data.drop(columns=['Channel', 'Region'])"
      ],
      "execution_count": null,
      "outputs": []
    },
    {
      "cell_type": "markdown",
      "metadata": {
        "id": "aZBrZcLnLzDl"
      },
      "source": [
        "## Data Exploration"
      ]
    },
    {
      "cell_type": "code",
      "metadata": {
        "id": "SCotPURtLzDl",
        "outputId": "66c6f541-0cb8-4883-ffec-9ea81f8ac4b1"
      },
      "source": [
        "# Let's take a look at dataset\n",
        "# Your code here\n",
        "data.head()"
      ],
      "execution_count": null,
      "outputs": [
        {
          "output_type": "execute_result",
          "data": {
            "text/html": [
              "<div>\n",
              "<style scoped>\n",
              "    .dataframe tbody tr th:only-of-type {\n",
              "        vertical-align: middle;\n",
              "    }\n",
              "\n",
              "    .dataframe tbody tr th {\n",
              "        vertical-align: top;\n",
              "    }\n",
              "\n",
              "    .dataframe thead th {\n",
              "        text-align: right;\n",
              "    }\n",
              "</style>\n",
              "<table border=\"1\" class=\"dataframe\">\n",
              "  <thead>\n",
              "    <tr style=\"text-align: right;\">\n",
              "      <th></th>\n",
              "      <th>Fresh</th>\n",
              "      <th>Milk</th>\n",
              "      <th>Grocery</th>\n",
              "      <th>Frozen</th>\n",
              "      <th>Detergents_Paper</th>\n",
              "      <th>Delicatessen</th>\n",
              "    </tr>\n",
              "  </thead>\n",
              "  <tbody>\n",
              "    <tr>\n",
              "      <th>0</th>\n",
              "      <td>12669</td>\n",
              "      <td>9656</td>\n",
              "      <td>7561</td>\n",
              "      <td>214</td>\n",
              "      <td>2674</td>\n",
              "      <td>1338</td>\n",
              "    </tr>\n",
              "    <tr>\n",
              "      <th>1</th>\n",
              "      <td>7057</td>\n",
              "      <td>9810</td>\n",
              "      <td>9568</td>\n",
              "      <td>1762</td>\n",
              "      <td>3293</td>\n",
              "      <td>1776</td>\n",
              "    </tr>\n",
              "    <tr>\n",
              "      <th>2</th>\n",
              "      <td>6353</td>\n",
              "      <td>8808</td>\n",
              "      <td>7684</td>\n",
              "      <td>2405</td>\n",
              "      <td>3516</td>\n",
              "      <td>7844</td>\n",
              "    </tr>\n",
              "    <tr>\n",
              "      <th>3</th>\n",
              "      <td>13265</td>\n",
              "      <td>1196</td>\n",
              "      <td>4221</td>\n",
              "      <td>6404</td>\n",
              "      <td>507</td>\n",
              "      <td>1788</td>\n",
              "    </tr>\n",
              "    <tr>\n",
              "      <th>4</th>\n",
              "      <td>22615</td>\n",
              "      <td>5410</td>\n",
              "      <td>7198</td>\n",
              "      <td>3915</td>\n",
              "      <td>1777</td>\n",
              "      <td>5185</td>\n",
              "    </tr>\n",
              "  </tbody>\n",
              "</table>\n",
              "</div>"
            ],
            "text/plain": [
              "   Fresh  Milk  Grocery  Frozen  Detergents_Paper  Delicatessen\n",
              "0  12669  9656     7561     214              2674          1338\n",
              "1   7057  9810     9568    1762              3293          1776\n",
              "2   6353  8808     7684    2405              3516          7844\n",
              "3  13265  1196     4221    6404               507          1788\n",
              "4  22615  5410     7198    3915              1777          5185"
            ]
          },
          "metadata": {
            "tags": []
          },
          "execution_count": 136
        }
      ]
    },
    {
      "cell_type": "code",
      "metadata": {
        "id": "yFF2VZILLzDo",
        "outputId": "25620a29-5215-4988-917a-5b692c9b3a10"
      },
      "source": [
        "# How many observations are in this data set?\n",
        "# Is there any missing value?\n",
        "# Your code here\n",
        "data.info()"
      ],
      "execution_count": null,
      "outputs": [
        {
          "output_type": "stream",
          "text": [
            "<class 'pandas.core.frame.DataFrame'>\n",
            "RangeIndex: 440 entries, 0 to 439\n",
            "Data columns (total 6 columns):\n",
            "Fresh               440 non-null int64\n",
            "Milk                440 non-null int64\n",
            "Grocery             440 non-null int64\n",
            "Frozen              440 non-null int64\n",
            "Detergents_Paper    440 non-null int64\n",
            "Delicatessen        440 non-null int64\n",
            "dtypes: int64(6)\n",
            "memory usage: 20.7 KB\n"
          ],
          "name": "stdout"
        }
      ]
    },
    {
      "cell_type": "code",
      "metadata": {
        "id": "bTa7GRXBLzDr",
        "outputId": "46a8892a-36e4-499e-852e-c5afe9570225"
      },
      "source": [
        "#descriptive statistics of the dataset\n",
        "# Your code here\n",
        "data.describe()"
      ],
      "execution_count": null,
      "outputs": [
        {
          "output_type": "execute_result",
          "data": {
            "text/html": [
              "<div>\n",
              "<style scoped>\n",
              "    .dataframe tbody tr th:only-of-type {\n",
              "        vertical-align: middle;\n",
              "    }\n",
              "\n",
              "    .dataframe tbody tr th {\n",
              "        vertical-align: top;\n",
              "    }\n",
              "\n",
              "    .dataframe thead th {\n",
              "        text-align: right;\n",
              "    }\n",
              "</style>\n",
              "<table border=\"1\" class=\"dataframe\">\n",
              "  <thead>\n",
              "    <tr style=\"text-align: right;\">\n",
              "      <th></th>\n",
              "      <th>Fresh</th>\n",
              "      <th>Milk</th>\n",
              "      <th>Grocery</th>\n",
              "      <th>Frozen</th>\n",
              "      <th>Detergents_Paper</th>\n",
              "      <th>Delicatessen</th>\n",
              "    </tr>\n",
              "  </thead>\n",
              "  <tbody>\n",
              "    <tr>\n",
              "      <th>count</th>\n",
              "      <td>440.000000</td>\n",
              "      <td>440.000000</td>\n",
              "      <td>440.000000</td>\n",
              "      <td>440.000000</td>\n",
              "      <td>440.000000</td>\n",
              "      <td>440.000000</td>\n",
              "    </tr>\n",
              "    <tr>\n",
              "      <th>mean</th>\n",
              "      <td>12000.297727</td>\n",
              "      <td>5796.265909</td>\n",
              "      <td>7951.277273</td>\n",
              "      <td>3071.931818</td>\n",
              "      <td>2881.493182</td>\n",
              "      <td>1524.870455</td>\n",
              "    </tr>\n",
              "    <tr>\n",
              "      <th>std</th>\n",
              "      <td>12647.328865</td>\n",
              "      <td>7380.377175</td>\n",
              "      <td>9503.162829</td>\n",
              "      <td>4854.673333</td>\n",
              "      <td>4767.854448</td>\n",
              "      <td>2820.105937</td>\n",
              "    </tr>\n",
              "    <tr>\n",
              "      <th>min</th>\n",
              "      <td>3.000000</td>\n",
              "      <td>55.000000</td>\n",
              "      <td>3.000000</td>\n",
              "      <td>25.000000</td>\n",
              "      <td>3.000000</td>\n",
              "      <td>3.000000</td>\n",
              "    </tr>\n",
              "    <tr>\n",
              "      <th>25%</th>\n",
              "      <td>3127.750000</td>\n",
              "      <td>1533.000000</td>\n",
              "      <td>2153.000000</td>\n",
              "      <td>742.250000</td>\n",
              "      <td>256.750000</td>\n",
              "      <td>408.250000</td>\n",
              "    </tr>\n",
              "    <tr>\n",
              "      <th>50%</th>\n",
              "      <td>8504.000000</td>\n",
              "      <td>3627.000000</td>\n",
              "      <td>4755.500000</td>\n",
              "      <td>1526.000000</td>\n",
              "      <td>816.500000</td>\n",
              "      <td>965.500000</td>\n",
              "    </tr>\n",
              "    <tr>\n",
              "      <th>75%</th>\n",
              "      <td>16933.750000</td>\n",
              "      <td>7190.250000</td>\n",
              "      <td>10655.750000</td>\n",
              "      <td>3554.250000</td>\n",
              "      <td>3922.000000</td>\n",
              "      <td>1820.250000</td>\n",
              "    </tr>\n",
              "    <tr>\n",
              "      <th>max</th>\n",
              "      <td>112151.000000</td>\n",
              "      <td>73498.000000</td>\n",
              "      <td>92780.000000</td>\n",
              "      <td>60869.000000</td>\n",
              "      <td>40827.000000</td>\n",
              "      <td>47943.000000</td>\n",
              "    </tr>\n",
              "  </tbody>\n",
              "</table>\n",
              "</div>"
            ],
            "text/plain": [
              "               Fresh          Milk       Grocery        Frozen  \\\n",
              "count     440.000000    440.000000    440.000000    440.000000   \n",
              "mean    12000.297727   5796.265909   7951.277273   3071.931818   \n",
              "std     12647.328865   7380.377175   9503.162829   4854.673333   \n",
              "min         3.000000     55.000000      3.000000     25.000000   \n",
              "25%      3127.750000   1533.000000   2153.000000    742.250000   \n",
              "50%      8504.000000   3627.000000   4755.500000   1526.000000   \n",
              "75%     16933.750000   7190.250000  10655.750000   3554.250000   \n",
              "max    112151.000000  73498.000000  92780.000000  60869.000000   \n",
              "\n",
              "       Detergents_Paper  Delicatessen  \n",
              "count        440.000000    440.000000  \n",
              "mean        2881.493182   1524.870455  \n",
              "std         4767.854448   2820.105937  \n",
              "min            3.000000      3.000000  \n",
              "25%          256.750000    408.250000  \n",
              "50%          816.500000    965.500000  \n",
              "75%         3922.000000   1820.250000  \n",
              "max        40827.000000  47943.000000  "
            ]
          },
          "metadata": {
            "tags": []
          },
          "execution_count": 138
        }
      ]
    },
    {
      "cell_type": "markdown",
      "metadata": {
        "id": "XXSya6YSLzDt"
      },
      "source": [
        "### Visualization: Purchase Behavior"
      ]
    },
    {
      "cell_type": "code",
      "metadata": {
        "id": "rhZXc_MFLzDt",
        "outputId": "e3f531e2-0621-4ac1-f2af-80acd05e8d42"
      },
      "source": [
        "# The dataset is composed of six important product categories: \n",
        "# 'Fresh', 'Milk', 'Grocery', 'Frozen', 'Detergents_Paper', and 'Delicatessen'. \n",
        "# Consider what each category represents in terms of products you could purchase.\n",
        "\n",
        "# Plot total purchases on each product categories\n",
        "# Your code here\n",
        "\n",
        "data.sum().plot(kind='barh')"
      ],
      "execution_count": null,
      "outputs": [
        {
          "output_type": "execute_result",
          "data": {
            "text/plain": [
              "<matplotlib.axes._subplots.AxesSubplot at 0x1a1cf207b8>"
            ]
          },
          "metadata": {
            "tags": []
          },
          "execution_count": 139
        },
        {
          "output_type": "display_data",
          "data": {
            "image/png": "[encoded data removed]",
            "text/plain": [
              "<Figure size 432x288 with 1 Axes>"
            ]
          },
          "metadata": {
            "tags": []
          }
        }
      ]
    },
    {
      "cell_type": "markdown",
      "metadata": {
        "id": "oHnmrJv7LzDw"
      },
      "source": [
        "#### What is distribution of Total Purchases of each person"
      ]
    },
    {
      "cell_type": "code",
      "metadata": {
        "id": "vlCIslhoLzDw",
        "outputId": "8aa29309-9117-4527-e42f-c9a3f0403461"
      },
      "source": [
        "# Calculate total purchases\n",
        "# Hint: sum by columns\n",
        "# Your code here\n",
        "sumCol = data.sum(axis=1)\n",
        "data.iloc[:,0:].div(sumCol / 100, axis=0).head(10)\n"
      ],
      "execution_count": null,
      "outputs": [
        {
          "output_type": "execute_result",
          "data": {
            "text/html": [
              "<div>\n",
              "<style scoped>\n",
              "    .dataframe tbody tr th:only-of-type {\n",
              "        vertical-align: middle;\n",
              "    }\n",
              "\n",
              "    .dataframe tbody tr th {\n",
              "        vertical-align: top;\n",
              "    }\n",
              "\n",
              "    .dataframe thead th {\n",
              "        text-align: right;\n",
              "    }\n",
              "</style>\n",
              "<table border=\"1\" class=\"dataframe\">\n",
              "  <thead>\n",
              "    <tr style=\"text-align: right;\">\n",
              "      <th></th>\n",
              "      <th>Fresh</th>\n",
              "      <th>Milk</th>\n",
              "      <th>Grocery</th>\n",
              "      <th>Frozen</th>\n",
              "      <th>Detergents_Paper</th>\n",
              "      <th>Delicatessen</th>\n",
              "    </tr>\n",
              "  </thead>\n",
              "  <tbody>\n",
              "    <tr>\n",
              "      <th>0</th>\n",
              "      <td>37.139423</td>\n",
              "      <td>28.306754</td>\n",
              "      <td>22.165220</td>\n",
              "      <td>0.627345</td>\n",
              "      <td>7.838884</td>\n",
              "      <td>3.922373</td>\n",
              "    </tr>\n",
              "    <tr>\n",
              "      <th>1</th>\n",
              "      <td>21.213852</td>\n",
              "      <td>29.489569</td>\n",
              "      <td>28.762099</td>\n",
              "      <td>5.296699</td>\n",
              "      <td>9.898996</td>\n",
              "      <td>5.338784</td>\n",
              "    </tr>\n",
              "    <tr>\n",
              "      <th>2</th>\n",
              "      <td>17.353182</td>\n",
              "      <td>24.059000</td>\n",
              "      <td>20.988801</td>\n",
              "      <td>6.569243</td>\n",
              "      <td>9.603933</td>\n",
              "      <td>21.425840</td>\n",
              "    </tr>\n",
              "    <tr>\n",
              "      <th>3</th>\n",
              "      <td>48.446003</td>\n",
              "      <td>4.367992</td>\n",
              "      <td>15.415799</td>\n",
              "      <td>23.388481</td>\n",
              "      <td>1.851649</td>\n",
              "      <td>6.530076</td>\n",
              "    </tr>\n",
              "    <tr>\n",
              "      <th>4</th>\n",
              "      <td>49.056399</td>\n",
              "      <td>11.735358</td>\n",
              "      <td>15.613883</td>\n",
              "      <td>8.492408</td>\n",
              "      <td>3.854664</td>\n",
              "      <td>11.247289</td>\n",
              "    </tr>\n",
              "    <tr>\n",
              "      <th>5</th>\n",
              "      <td>35.241483</td>\n",
              "      <td>30.921003</td>\n",
              "      <td>19.191314</td>\n",
              "      <td>2.493448</td>\n",
              "      <td>6.720329</td>\n",
              "      <td>5.432422</td>\n",
              "    </tr>\n",
              "    <tr>\n",
              "      <th>6</th>\n",
              "      <td>45.819006</td>\n",
              "      <td>12.087663</td>\n",
              "      <td>26.355564</td>\n",
              "      <td>1.813716</td>\n",
              "      <td>11.864727</td>\n",
              "      <td>2.059324</td>\n",
              "    </tr>\n",
              "    <tr>\n",
              "      <th>7</th>\n",
              "      <td>25.676729</td>\n",
              "      <td>16.790324</td>\n",
              "      <td>31.934140</td>\n",
              "      <td>5.654369</td>\n",
              "      <td>11.251143</td>\n",
              "      <td>8.693295</td>\n",
              "    </tr>\n",
              "    <tr>\n",
              "      <th>8</th>\n",
              "      <td>31.897935</td>\n",
              "      <td>19.514283</td>\n",
              "      <td>33.122927</td>\n",
              "      <td>2.273457</td>\n",
              "      <td>9.179416</td>\n",
              "      <td>4.011982</td>\n",
              "    </tr>\n",
              "    <tr>\n",
              "      <th>9</th>\n",
              "      <td>12.871287</td>\n",
              "      <td>23.773092</td>\n",
              "      <td>40.463332</td>\n",
              "      <td>2.483820</td>\n",
              "      <td>15.912306</td>\n",
              "      <td>4.496164</td>\n",
              "    </tr>\n",
              "  </tbody>\n",
              "</table>\n",
              "</div>"
            ],
            "text/plain": [
              "       Fresh       Milk    Grocery     Frozen  Detergents_Paper  Delicatessen\n",
              "0  37.139423  28.306754  22.165220   0.627345          7.838884      3.922373\n",
              "1  21.213852  29.489569  28.762099   5.296699          9.898996      5.338784\n",
              "2  17.353182  24.059000  20.988801   6.569243          9.603933     21.425840\n",
              "3  48.446003   4.367992  15.415799  23.388481          1.851649      6.530076\n",
              "4  49.056399  11.735358  15.613883   8.492408          3.854664     11.247289\n",
              "5  35.241483  30.921003  19.191314   2.493448          6.720329      5.432422\n",
              "6  45.819006  12.087663  26.355564   1.813716         11.864727      2.059324\n",
              "7  25.676729  16.790324  31.934140   5.654369         11.251143      8.693295\n",
              "8  31.897935  19.514283  33.122927   2.273457          9.179416      4.011982\n",
              "9  12.871287  23.773092  40.463332   2.483820         15.912306      4.496164"
            ]
          },
          "metadata": {
            "tags": []
          },
          "execution_count": 140
        }
      ]
    },
    {
      "cell_type": "code",
      "metadata": {
        "id": "FBG7q0D7LzDy",
        "outputId": "e20dacfd-7847-466d-9a71-2a00b527e683"
      },
      "source": [
        "# Number of row in dataset\n",
        "nrows = data.shape[0]\n",
        "nrows"
      ],
      "execution_count": null,
      "outputs": [
        {
          "output_type": "execute_result",
          "data": {
            "text/plain": [
              "440"
            ]
          },
          "metadata": {
            "tags": []
          },
          "execution_count": 141
        }
      ]
    },
    {
      "cell_type": "markdown",
      "metadata": {
        "id": "Zys6WmqWLzD1"
      },
      "source": [
        "#### create list index of 10% lowest spenders "
      ]
    },
    {
      "cell_type": "code",
      "metadata": {
        "id": "04WwwchMLzD2",
        "outputId": "03b346cf-4e94-4ae7-8e96-00ce291b074a"
      },
      "source": [
        "select_lowest = data.nsmallest(44, data).index\n",
        "select_lowest"
      ],
      "execution_count": null,
      "outputs": [
        {
          "output_type": "execute_result",
          "data": {
            "text/plain": [
              "Int64Index([ 66, 218,  96, 357,  65, 412, 353, 128, 304, 193, 355, 171,  81,\n",
              "            305, 342, 170, 174, 184, 159, 340,  97, 299,  53,  98, 392, 327,\n",
              "            266, 203, 352, 154,  43, 418, 275,  35, 182,  76, 358, 359, 189,\n",
              "            274, 338,  95, 173, 272],\n",
              "           dtype='int64')"
            ]
          },
          "metadata": {
            "tags": []
          },
          "execution_count": 142
        }
      ]
    },
    {
      "cell_type": "markdown",
      "metadata": {
        "id": "zB35aV-8LzD4"
      },
      "source": [
        "#### create list index of 10% highest spenders."
      ]
    },
    {
      "cell_type": "code",
      "metadata": {
        "id": "u6vjeAgsLzD4",
        "outputId": "ef03acbe-0c94-43b0-d336-7c841b191354"
      },
      "source": [
        "select_highest = data.nlargest(44, data).index\n",
        "select_highest"
      ],
      "execution_count": null,
      "outputs": [
        {
          "output_type": "execute_result",
          "data": {
            "text/plain": [
              "Int64Index([181, 125, 284,  39, 258, 103, 259, 282, 239, 176,  47,  87,  29,\n",
              "            289, 129,  52, 285, 370, 436, 377, 142, 183, 273, 124,  61, 382,\n",
              "            325, 149,  12, 255,  22, 427, 196, 141,  36,  33, 435, 311, 253,\n",
              "            380, 276, 347,  54, 401],\n",
              "           dtype='int64')"
            ]
          },
          "metadata": {
            "tags": []
          },
          "execution_count": 143
        }
      ]
    },
    {
      "cell_type": "markdown",
      "metadata": {
        "id": "RzhgSjmALzD6"
      },
      "source": [
        "#### how the 10% lowest spenders compare to the 10% highest spenders."
      ]
    },
    {
      "cell_type": "code",
      "metadata": {
        "id": "LBD_qu9hLzD6",
        "outputId": "7bde1e8b-eb1e-4f13-de8e-cac3dcd6d1e7"
      },
      "source": [
        "# Using select_lowest index to select 10% lowest spenders \n",
        "lowest = data.nsmallest(44, data).head(5)\n",
        "lowest['Spending'] = 'Low'\n",
        "lowest"
      ],
      "execution_count": null,
      "outputs": [
        {
          "output_type": "execute_result",
          "data": {
            "text/html": [
              "<div>\n",
              "<style scoped>\n",
              "    .dataframe tbody tr th:only-of-type {\n",
              "        vertical-align: middle;\n",
              "    }\n",
              "\n",
              "    .dataframe tbody tr th {\n",
              "        vertical-align: top;\n",
              "    }\n",
              "\n",
              "    .dataframe thead th {\n",
              "        text-align: right;\n",
              "    }\n",
              "</style>\n",
              "<table border=\"1\" class=\"dataframe\">\n",
              "  <thead>\n",
              "    <tr style=\"text-align: right;\">\n",
              "      <th></th>\n",
              "      <th>Fresh</th>\n",
              "      <th>Milk</th>\n",
              "      <th>Grocery</th>\n",
              "      <th>Frozen</th>\n",
              "      <th>Detergents_Paper</th>\n",
              "      <th>Delicatessen</th>\n",
              "      <th>Spending</th>\n",
              "    </tr>\n",
              "  </thead>\n",
              "  <tbody>\n",
              "    <tr>\n",
              "      <th>66</th>\n",
              "      <td>9</td>\n",
              "      <td>1534</td>\n",
              "      <td>7417</td>\n",
              "      <td>175</td>\n",
              "      <td>3468</td>\n",
              "      <td>27</td>\n",
              "      <td>Low</td>\n",
              "    </tr>\n",
              "    <tr>\n",
              "      <th>218</th>\n",
              "      <td>18</td>\n",
              "      <td>7504</td>\n",
              "      <td>15205</td>\n",
              "      <td>1285</td>\n",
              "      <td>4797</td>\n",
              "      <td>6372</td>\n",
              "      <td>Low</td>\n",
              "    </tr>\n",
              "    <tr>\n",
              "      <th>96</th>\n",
              "      <td>23</td>\n",
              "      <td>2616</td>\n",
              "      <td>8118</td>\n",
              "      <td>145</td>\n",
              "      <td>3874</td>\n",
              "      <td>217</td>\n",
              "      <td>Low</td>\n",
              "    </tr>\n",
              "    <tr>\n",
              "      <th>357</th>\n",
              "      <td>37</td>\n",
              "      <td>1275</td>\n",
              "      <td>22272</td>\n",
              "      <td>137</td>\n",
              "      <td>6747</td>\n",
              "      <td>110</td>\n",
              "      <td>Low</td>\n",
              "    </tr>\n",
              "    <tr>\n",
              "      <th>65</th>\n",
              "      <td>85</td>\n",
              "      <td>20959</td>\n",
              "      <td>45828</td>\n",
              "      <td>36</td>\n",
              "      <td>24231</td>\n",
              "      <td>1423</td>\n",
              "      <td>Low</td>\n",
              "    </tr>\n",
              "  </tbody>\n",
              "</table>\n",
              "</div>"
            ],
            "text/plain": [
              "     Fresh   Milk  Grocery  Frozen  Detergents_Paper  Delicatessen Spending\n",
              "66       9   1534     7417     175              3468            27      Low\n",
              "218     18   7504    15205    1285              4797          6372      Low\n",
              "96      23   2616     8118     145              3874           217      Low\n",
              "357     37   1275    22272     137              6747           110      Low\n",
              "65      85  20959    45828      36             24231          1423      Low"
            ]
          },
          "metadata": {
            "tags": []
          },
          "execution_count": 144
        }
      ]
    },
    {
      "cell_type": "code",
      "metadata": {
        "id": "tETFvAxqLzD8",
        "outputId": "a21ae713-6cb3-4789-b71c-d2b441fb33a7"
      },
      "source": [
        "# Using select_highest index to select 10% highest spenders \n",
        "highest = data.nlargest(44, data).head(5)\n",
        "highest['Spending'] = 'High'\n",
        "highest"
      ],
      "execution_count": null,
      "outputs": [
        {
          "output_type": "execute_result",
          "data": {
            "text/html": [
              "<div>\n",
              "<style scoped>\n",
              "    .dataframe tbody tr th:only-of-type {\n",
              "        vertical-align: middle;\n",
              "    }\n",
              "\n",
              "    .dataframe tbody tr th {\n",
              "        vertical-align: top;\n",
              "    }\n",
              "\n",
              "    .dataframe thead th {\n",
              "        text-align: right;\n",
              "    }\n",
              "</style>\n",
              "<table border=\"1\" class=\"dataframe\">\n",
              "  <thead>\n",
              "    <tr style=\"text-align: right;\">\n",
              "      <th></th>\n",
              "      <th>Fresh</th>\n",
              "      <th>Milk</th>\n",
              "      <th>Grocery</th>\n",
              "      <th>Frozen</th>\n",
              "      <th>Detergents_Paper</th>\n",
              "      <th>Delicatessen</th>\n",
              "      <th>Spending</th>\n",
              "    </tr>\n",
              "  </thead>\n",
              "  <tbody>\n",
              "    <tr>\n",
              "      <th>181</th>\n",
              "      <td>112151</td>\n",
              "      <td>29627</td>\n",
              "      <td>18148</td>\n",
              "      <td>16745</td>\n",
              "      <td>4948</td>\n",
              "      <td>8550</td>\n",
              "      <td>High</td>\n",
              "    </tr>\n",
              "    <tr>\n",
              "      <th>125</th>\n",
              "      <td>76237</td>\n",
              "      <td>3473</td>\n",
              "      <td>7102</td>\n",
              "      <td>16538</td>\n",
              "      <td>778</td>\n",
              "      <td>918</td>\n",
              "      <td>High</td>\n",
              "    </tr>\n",
              "    <tr>\n",
              "      <th>284</th>\n",
              "      <td>68951</td>\n",
              "      <td>4411</td>\n",
              "      <td>12609</td>\n",
              "      <td>8692</td>\n",
              "      <td>751</td>\n",
              "      <td>2406</td>\n",
              "      <td>High</td>\n",
              "    </tr>\n",
              "    <tr>\n",
              "      <th>39</th>\n",
              "      <td>56159</td>\n",
              "      <td>555</td>\n",
              "      <td>902</td>\n",
              "      <td>10002</td>\n",
              "      <td>212</td>\n",
              "      <td>2916</td>\n",
              "      <td>High</td>\n",
              "    </tr>\n",
              "    <tr>\n",
              "      <th>258</th>\n",
              "      <td>56083</td>\n",
              "      <td>4563</td>\n",
              "      <td>2124</td>\n",
              "      <td>6422</td>\n",
              "      <td>730</td>\n",
              "      <td>3321</td>\n",
              "      <td>High</td>\n",
              "    </tr>\n",
              "  </tbody>\n",
              "</table>\n",
              "</div>"
            ],
            "text/plain": [
              "      Fresh   Milk  Grocery  Frozen  Detergents_Paper  Delicatessen Spending\n",
              "181  112151  29627    18148   16745              4948          8550     High\n",
              "125   76237   3473     7102   16538               778           918     High\n",
              "284   68951   4411    12609    8692               751          2406     High\n",
              "39    56159    555      902   10002               212          2916     High\n",
              "258   56083   4563     2124    6422               730          3321     High"
            ]
          },
          "metadata": {
            "tags": []
          },
          "execution_count": 150
        }
      ]
    },
    {
      "cell_type": "code",
      "metadata": {
        "id": "EFb5jcbtLzD_",
        "outputId": "1f4d543c-2fc0-4e2b-9fa5-0c05aca31baa"
      },
      "source": [
        "# Merge 10 highest and 10 lowest to high_and_low dataset\n",
        "high_and_low =pd.concat ([highest, lowest],axis = 0)\n",
        "high_and_low\n"
      ],
      "execution_count": null,
      "outputs": [
        {
          "output_type": "execute_result",
          "data": {
            "text/html": [
              "<div>\n",
              "<style scoped>\n",
              "    .dataframe tbody tr th:only-of-type {\n",
              "        vertical-align: middle;\n",
              "    }\n",
              "\n",
              "    .dataframe tbody tr th {\n",
              "        vertical-align: top;\n",
              "    }\n",
              "\n",
              "    .dataframe thead th {\n",
              "        text-align: right;\n",
              "    }\n",
              "</style>\n",
              "<table border=\"1\" class=\"dataframe\">\n",
              "  <thead>\n",
              "    <tr style=\"text-align: right;\">\n",
              "      <th></th>\n",
              "      <th>Fresh</th>\n",
              "      <th>Milk</th>\n",
              "      <th>Grocery</th>\n",
              "      <th>Frozen</th>\n",
              "      <th>Detergents_Paper</th>\n",
              "      <th>Delicatessen</th>\n",
              "      <th>Spending</th>\n",
              "    </tr>\n",
              "  </thead>\n",
              "  <tbody>\n",
              "    <tr>\n",
              "      <th>181</th>\n",
              "      <td>112151</td>\n",
              "      <td>29627</td>\n",
              "      <td>18148</td>\n",
              "      <td>16745</td>\n",
              "      <td>4948</td>\n",
              "      <td>8550</td>\n",
              "      <td>High</td>\n",
              "    </tr>\n",
              "    <tr>\n",
              "      <th>125</th>\n",
              "      <td>76237</td>\n",
              "      <td>3473</td>\n",
              "      <td>7102</td>\n",
              "      <td>16538</td>\n",
              "      <td>778</td>\n",
              "      <td>918</td>\n",
              "      <td>High</td>\n",
              "    </tr>\n",
              "    <tr>\n",
              "      <th>284</th>\n",
              "      <td>68951</td>\n",
              "      <td>4411</td>\n",
              "      <td>12609</td>\n",
              "      <td>8692</td>\n",
              "      <td>751</td>\n",
              "      <td>2406</td>\n",
              "      <td>High</td>\n",
              "    </tr>\n",
              "    <tr>\n",
              "      <th>39</th>\n",
              "      <td>56159</td>\n",
              "      <td>555</td>\n",
              "      <td>902</td>\n",
              "      <td>10002</td>\n",
              "      <td>212</td>\n",
              "      <td>2916</td>\n",
              "      <td>High</td>\n",
              "    </tr>\n",
              "    <tr>\n",
              "      <th>258</th>\n",
              "      <td>56083</td>\n",
              "      <td>4563</td>\n",
              "      <td>2124</td>\n",
              "      <td>6422</td>\n",
              "      <td>730</td>\n",
              "      <td>3321</td>\n",
              "      <td>High</td>\n",
              "    </tr>\n",
              "    <tr>\n",
              "      <th>66</th>\n",
              "      <td>9</td>\n",
              "      <td>1534</td>\n",
              "      <td>7417</td>\n",
              "      <td>175</td>\n",
              "      <td>3468</td>\n",
              "      <td>27</td>\n",
              "      <td>Low</td>\n",
              "    </tr>\n",
              "    <tr>\n",
              "      <th>218</th>\n",
              "      <td>18</td>\n",
              "      <td>7504</td>\n",
              "      <td>15205</td>\n",
              "      <td>1285</td>\n",
              "      <td>4797</td>\n",
              "      <td>6372</td>\n",
              "      <td>Low</td>\n",
              "    </tr>\n",
              "    <tr>\n",
              "      <th>96</th>\n",
              "      <td>23</td>\n",
              "      <td>2616</td>\n",
              "      <td>8118</td>\n",
              "      <td>145</td>\n",
              "      <td>3874</td>\n",
              "      <td>217</td>\n",
              "      <td>Low</td>\n",
              "    </tr>\n",
              "    <tr>\n",
              "      <th>357</th>\n",
              "      <td>37</td>\n",
              "      <td>1275</td>\n",
              "      <td>22272</td>\n",
              "      <td>137</td>\n",
              "      <td>6747</td>\n",
              "      <td>110</td>\n",
              "      <td>Low</td>\n",
              "    </tr>\n",
              "    <tr>\n",
              "      <th>65</th>\n",
              "      <td>85</td>\n",
              "      <td>20959</td>\n",
              "      <td>45828</td>\n",
              "      <td>36</td>\n",
              "      <td>24231</td>\n",
              "      <td>1423</td>\n",
              "      <td>Low</td>\n",
              "    </tr>\n",
              "  </tbody>\n",
              "</table>\n",
              "</div>"
            ],
            "text/plain": [
              "      Fresh   Milk  Grocery  Frozen  Detergents_Paper  Delicatessen Spending\n",
              "181  112151  29627    18148   16745              4948          8550     High\n",
              "125   76237   3473     7102   16538               778           918     High\n",
              "284   68951   4411    12609    8692               751          2406     High\n",
              "39    56159    555      902   10002               212          2916     High\n",
              "258   56083   4563     2124    6422               730          3321     High\n",
              "66        9   1534     7417     175              3468            27      Low\n",
              "218      18   7504    15205    1285              4797          6372      Low\n",
              "96       23   2616     8118     145              3874           217      Low\n",
              "357      37   1275    22272     137              6747           110      Low\n",
              "65       85  20959    45828      36             24231          1423      Low"
            ]
          },
          "metadata": {
            "tags": []
          },
          "execution_count": 181
        }
      ]
    },
    {
      "cell_type": "code",
      "metadata": {
        "id": "GcjkLW2ALzEB",
        "outputId": "b650413f-6b51-49e3-8148-447eb08972eb"
      },
      "source": [
        "# Use boxplot with param: by='Spending', figsize=(12, 8), layout=(2, 3)\n",
        "# Your code here\n",
        "\n",
        "high_and_low.boxplot(column=['Milk', 'Fresh', 'Grocery', 'Frozen', 'Delicatessen', 'Detergents_Paper'], by='Spending', layout=(2, 3), figsize=(12, 8) )\n",
        "plt.show()"
      ],
      "execution_count": null,
      "outputs": [
        {
          "output_type": "display_data",
          "data": {
            "image/png": "[encoded data removed]",
            "text/plain": [
              "<Figure size 864x576 with 6 Axes>"
            ]
          },
          "metadata": {
            "tags": []
          }
        }
      ]
    },
    {
      "cell_type": "markdown",
      "metadata": {
        "id": "Q8W5hXChLzED"
      },
      "source": [
        "The main difference between purchasing habits in groups appears on variables **Frozen, Detergents_Paper and Delicatessen**. Clients that spend more tend to buy more (relatively speaking) on Detergents and Paper and less on Frozen Goods and Delicatessen than clients spending less."
      ]
    },
    {
      "cell_type": "markdown",
      "metadata": {
        "id": "ojW5JeXwLzED"
      },
      "source": [
        "## PCA"
      ]
    },
    {
      "cell_type": "markdown",
      "metadata": {
        "id": "Dao41D4yLzED"
      },
      "source": [
        "**Normalization** is important in **PCA** since it is a variance maximizing exercise. It projects your original data onto directions which maximize the variance. So we need to scale our data first."
      ]
    },
    {
      "cell_type": "code",
      "metadata": {
        "id": "20PgpWYgLzEE",
        "outputId": "6f6c4941-840e-43dc-d4c7-f9f81d3ff885"
      },
      "source": [
        "# Import scale from sklearn.preprocessing\n",
        "from sklearn.preprocessing import scale\n",
        "\n",
        "# Scale data and called it as X\n",
        "X = pd.DataFrame(scale(data), index=data.index, columns=data.columns)\n",
        "X.head()"
      ],
      "execution_count": null,
      "outputs": [
        {
          "output_type": "execute_result",
          "data": {
            "text/html": [
              "<div>\n",
              "<style scoped>\n",
              "    .dataframe tbody tr th:only-of-type {\n",
              "        vertical-align: middle;\n",
              "    }\n",
              "\n",
              "    .dataframe tbody tr th {\n",
              "        vertical-align: top;\n",
              "    }\n",
              "\n",
              "    .dataframe thead th {\n",
              "        text-align: right;\n",
              "    }\n",
              "</style>\n",
              "<table border=\"1\" class=\"dataframe\">\n",
              "  <thead>\n",
              "    <tr style=\"text-align: right;\">\n",
              "      <th></th>\n",
              "      <th>Fresh</th>\n",
              "      <th>Milk</th>\n",
              "      <th>Grocery</th>\n",
              "      <th>Frozen</th>\n",
              "      <th>Detergents_Paper</th>\n",
              "      <th>Delicatessen</th>\n",
              "    </tr>\n",
              "  </thead>\n",
              "  <tbody>\n",
              "    <tr>\n",
              "      <th>0</th>\n",
              "      <td>0.052933</td>\n",
              "      <td>0.523568</td>\n",
              "      <td>-0.041115</td>\n",
              "      <td>-0.589367</td>\n",
              "      <td>-0.043569</td>\n",
              "      <td>-0.066339</td>\n",
              "    </tr>\n",
              "    <tr>\n",
              "      <th>1</th>\n",
              "      <td>-0.391302</td>\n",
              "      <td>0.544458</td>\n",
              "      <td>0.170318</td>\n",
              "      <td>-0.270136</td>\n",
              "      <td>0.086407</td>\n",
              "      <td>0.089151</td>\n",
              "    </tr>\n",
              "    <tr>\n",
              "      <th>2</th>\n",
              "      <td>-0.447029</td>\n",
              "      <td>0.408538</td>\n",
              "      <td>-0.028157</td>\n",
              "      <td>-0.137536</td>\n",
              "      <td>0.133232</td>\n",
              "      <td>2.243293</td>\n",
              "    </tr>\n",
              "    <tr>\n",
              "      <th>3</th>\n",
              "      <td>0.100111</td>\n",
              "      <td>-0.624020</td>\n",
              "      <td>-0.392977</td>\n",
              "      <td>0.687144</td>\n",
              "      <td>-0.498588</td>\n",
              "      <td>0.093411</td>\n",
              "    </tr>\n",
              "    <tr>\n",
              "      <th>4</th>\n",
              "      <td>0.840239</td>\n",
              "      <td>-0.052396</td>\n",
              "      <td>-0.079356</td>\n",
              "      <td>0.173859</td>\n",
              "      <td>-0.231918</td>\n",
              "      <td>1.299347</td>\n",
              "    </tr>\n",
              "  </tbody>\n",
              "</table>\n",
              "</div>"
            ],
            "text/plain": [
              "      Fresh      Milk   Grocery    Frozen  Detergents_Paper  Delicatessen\n",
              "0  0.052933  0.523568 -0.041115 -0.589367         -0.043569     -0.066339\n",
              "1 -0.391302  0.544458  0.170318 -0.270136          0.086407      0.089151\n",
              "2 -0.447029  0.408538 -0.028157 -0.137536          0.133232      2.243293\n",
              "3  0.100111 -0.624020 -0.392977  0.687144         -0.498588      0.093411\n",
              "4  0.840239 -0.052396 -0.079356  0.173859         -0.231918      1.299347"
            ]
          },
          "metadata": {
            "tags": []
          },
          "execution_count": 204
        }
      ]
    },
    {
      "cell_type": "code",
      "metadata": {
        "id": "DSuiBWx6LzEG",
        "outputId": "fcf52900-c312-4dc2-f4f6-1a96478ecb35"
      },
      "source": [
        "# Import PCA\n",
        "# Your code here\n",
        "from sklearn.decomposition import PCA\n",
        "# Apply PCA by fitting the scaled data with the same number of dimensions as features\n",
        "\n",
        "pca.fit(X)"
      ],
      "execution_count": null,
      "outputs": [
        {
          "output_type": "execute_result",
          "data": {
            "text/plain": [
              "PCA(copy=True, iterated_power='auto', n_components=6, random_state=None,\n",
              "  svd_solver='auto', tol=0.0, whiten=False)"
            ]
          },
          "metadata": {
            "tags": []
          },
          "execution_count": 212
        }
      ]
    },
    {
      "cell_type": "code",
      "metadata": {
        "id": "hMKoUZr3LzEI"
      },
      "source": [
        "# pca_loadings\n",
        "pca_loadings = pd.DataFrame(pca.components_.T, index=X.columns,\n",
        "                            columns=['Fresh', 'Milk', 'Grocery',' Frozen' ,'Detergents_Paper','Delicatessen'])\n",
        "\n",
        "# Transform X using the PCA fit above\n",
        "pca_data = pd.DataFrame(pca.fit_transform(X),\n",
        "                        columns=['Fresh', 'Milk', 'Grocery',' Frozen' ,'Detergents_Paper','Delicatessen'],\n",
        "                        index=X.index)"
      ],
      "execution_count": null,
      "outputs": []
    },
    {
      "cell_type": "markdown",
      "metadata": {
        "id": "goSZcWCqLzEK"
      },
      "source": [
        "### Analyzing PCA Samples"
      ]
    },
    {
      "cell_type": "markdown",
      "metadata": {
        "id": "wrIn5NpiLzEK"
      },
      "source": [
        "### Visualizing a Biplot"
      ]
    },
    {
      "cell_type": "code",
      "metadata": {
        "id": "cR4-b9duLzEK"
      },
      "source": [
        "def biplot(origin_data, reduced_data, pca):\n",
        "    '''\n",
        "    Produce a biplot that shows a scatterplot of the reduced\n",
        "    data and the projections of the original features.\n",
        "    \n",
        "    origin_data: original data, before transformation.\n",
        "               Needs to be a pandas dataframe with valid column names\n",
        "    reduced_data: the reduced data (the first two dimensions are plotted)\n",
        "    pca: pca object that contains the components_ attribute\n",
        "\n",
        "    return: a matplotlib AxesSubplot object (for any additional customization)\n",
        "    \n",
        "    This procedure is inspired by the script:\n",
        "    https://github.com/teddyroland/python-biplot\n",
        "    '''\n",
        "\n",
        "    fig, ax = plt.subplots(figsize = (14,8))\n",
        "    # scatterplot of the reduced data    \n",
        "    ax.scatter(x=reduced_data.loc[:, 'Fresh'], y=reduced_data.loc[:, 'Milk'], \n",
        "        facecolors='b', edgecolors='b', s=70, alpha=0.5)\n",
        "    \n",
        "    feature_vectors = pca.components_.T\n",
        "\n",
        "    # we use scaling factors to make the arrows easier to see\n",
        "    arrow_size, text_pos = 7.0, 8.0,\n",
        "\n",
        "    # projections of the original features\n",
        "    for i, v in enumerate(feature_vectors):\n",
        "        ax.arrow(0, 0, arrow_size*v[0], arrow_size*v[1], \n",
        "                  head_width=0.2, head_length=0.2, linewidth=2, color='red')\n",
        "        ax.text(v[0]*text_pos, v[1]*text_pos, origin_data.columns[i], color='black', \n",
        "                 ha='center', va='center', fontsize=18)\n",
        "\n",
        "    ax.set_xlabel(\"Dimension 1\", fontsize=14)\n",
        "    ax.set_ylabel(\"Dimension 2\", fontsize=14)\n",
        "    ax.set_title(\"PC plane with original feature projections.\", fontsize=16);\n",
        "    return ax"
      ],
      "execution_count": null,
      "outputs": []
    },
    {
      "cell_type": "code",
      "metadata": {
        "id": "0Q43ZKM0LzEM",
        "outputId": "4cff9a19-8469-42be-98ae-952df3a141c9"
      },
      "source": [
        "# Using provided biplot function to make a biplot\n",
        "# Your code here\n",
        "biplot(pca_loadings, pca_data, pca)"
      ],
      "execution_count": null,
      "outputs": [
        {
          "output_type": "execute_result",
          "data": {
            "text/plain": [
              "<matplotlib.axes._subplots.AxesSubplot at 0x1a24043d30>"
            ]
          },
          "metadata": {
            "tags": []
          },
          "execution_count": 226
        },
        {
          "output_type": "display_data",
          "data": {
            "image/png": "[encoded data removed]",
            "text/plain": [
              "<Figure size 1008x576 with 1 Axes>"
            ]
          },
          "metadata": {
            "tags": []
          }
        }
      ]
    },
    {
      "cell_type": "markdown",
      "metadata": {
        "id": "3SOHk79hLzEO"
      },
      "source": [
        "### Choosing the number of components\n",
        "A vital part of using PCA in practice is the ability to estimate how many components are needed to describe the data. This can be determined by looking at the cumulative explained variance ratio as a function of the number of components:"
      ]
    },
    {
      "cell_type": "code",
      "metadata": {
        "id": "lVgxsfBwLzEO",
        "outputId": "5e78de63-08a4-4994-e4e8-cf3766de5c38"
      },
      "source": [
        "# Your code here\n",
        "sns.set_style('whitegrid')\n",
        "\n",
        "plt.figure(figsize=(16, 9))\n",
        "plt.plot(np.cumsum(pca.explained_variance_ratio_))\n",
        "plt.xlabel('number of components')\n",
        "plt.ylabel('cumulative explained variance');"
      ],
      "execution_count": null,
      "outputs": [
        {
          "output_type": "display_data",
          "data": {
            "image/png": "[encoded data removed]",
            "text/plain": [
              "<Figure size 1152x648 with 1 Axes>"
            ]
          },
          "metadata": {
            "tags": []
          }
        }
      ]
    },
    {
      "cell_type": "code",
      "metadata": {
        "id": "HrlOoQ35LzEQ"
      },
      "source": [
        ""
      ],
      "execution_count": null,
      "outputs": []
    },
    {
      "cell_type": "markdown",
      "metadata": {
        "id": "dZDjmWLcLzES"
      },
      "source": [
        "## Clustering"
      ]
    },
    {
      "cell_type": "markdown",
      "metadata": {
        "id": "zxB2kmZ_LzET"
      },
      "source": [
        "### K-Means"
      ]
    },
    {
      "cell_type": "markdown",
      "metadata": {
        "id": "IyeiAPfQLzET"
      },
      "source": [
        "To use K-Means algorithms we need to define K value first. One way to choose K value, we use elbow algorithms"
      ]
    },
    {
      "cell_type": "code",
      "metadata": {
        "id": "5nfPYX74LzET",
        "outputId": "0c1c493a-92d2-4b13-f9f4-26fd4b6ffea8"
      },
      "source": [
        "# Import KMeans from sklearn\n",
        "# Your code here\n",
        "from sklearn.cluster import KMeans\n",
        "\n",
        "# Choose the range of k value we want to test (1 - 20)\n",
        "k_values = range(1,20)\n",
        "\n",
        "\n",
        "# For each value of K, we create a KMeans model and save in k_mean_models\n",
        "k_mean_models = [KMeans(n_clusters=k) for k in k_values]\n",
        "\n",
        "# For each Models, we fit with scaled data and calculate score\n",
        "scores = [kmean.fit(X).score(X) for kmean in k_mean_models]\n",
        "\n",
        "norm_scores = [score/max(scores) for score in scores]\n",
        "\n",
        "plt.plot(k_values, norm_scores, '-o')\n",
        "plt.xlabel('k')\n",
        "plt.ylabel('score');"
      ],
      "execution_count": null,
      "outputs": [
        {
          "output_type": "display_data",
          "data": {
            "image/png": "[encoded data removed]",
            "text/plain": [
              "<Figure size 432x288 with 1 Axes>"
            ]
          },
          "metadata": {
            "tags": []
          }
        }
      ]
    },
    {
      "cell_type": "markdown",
      "metadata": {
        "id": "KV3sUcxtLzEW"
      },
      "source": [
        "### Hierarchical"
      ]
    },
    {
      "cell_type": "code",
      "metadata": {
        "id": "GtLw0fjeLzEW"
      },
      "source": [
        "# Import dendrogram, linkage from scipy.cluster.hierarchy\n",
        "# Your code here\n",
        "from scipy.cluster.hierarchy import dendrogram, linkage"
      ],
      "execution_count": null,
      "outputs": []
    },
    {
      "cell_type": "code",
      "metadata": {
        "id": "JkDG2PdWLzEY"
      },
      "source": [
        "# generate the linkage matrix\n",
        "# Your code here\n",
        "Z = linkage(X, 'ward')"
      ],
      "execution_count": null,
      "outputs": []
    },
    {
      "cell_type": "code",
      "metadata": {
        "id": "P29-0WLHLzEa",
        "outputId": "77788e24-87a1-4199-c913-bc61874e5e07"
      },
      "source": [
        "# calculate full dendrogram\n",
        "# Hint: refer to lecture notebook\n",
        "# Your code here\n",
        "fig = plt.figure(figsize=(25, 10))\n",
        "plt.title('Hierarchical Clustering Dendrogram', fontsize=60)\n",
        "plt.xlabel('Index', fontsize=50)\n",
        "plt.ylabel('Distance', fontsize=20)\n",
        "plt.xticks(fontsize=5)\n",
        "plt.yticks(fontsize=50)\n",
        "\n",
        "ax = dendrogram(\n",
        "    Z,\n",
        "    leaf_rotation=0.,  # rotates the x axis labels\n",
        "    leaf_font_size=5.,  # font size for the x axis labels\n",
        "    labels=range(len(X)),\n",
        ")\n",
        "\n",
        "plt.show()\n"
      ],
      "execution_count": null,
      "outputs": [
        {
          "output_type": "display_data",
          "data": {
            "image/png": "[encoded data removed]",
            "text/plain": [
              "<Figure size 1800x720 with 1 Axes>"
            ]
          },
          "metadata": {
            "tags": []
          }
        }
      ]
    },
    {
      "cell_type": "code",
      "metadata": {
        "id": "LdpA1rStLzEc"
      },
      "source": [
        "# To apply hierarchical in product, we use AgglomerativeClustering\n",
        "# in sklearn package instead of scipy\n",
        "# so import it first\n",
        "# Your code here\n",
        "from sklearn.cluster import AgglomerativeClustering\n",
        "\n",
        "# Create AgglomerativeClustering model with n_clusters equals to the number of cluster\n",
        "# you think it's the best one\n",
        "\n",
        "hc = AgglomerativeClustering(n_clusters = 5, affinity = 'euclidean', linkage = 'ward')\n",
        "\n",
        "# fit model with scaled data\n",
        "# Your code here\n",
        "y_hc = hc.fit_predict(X)\n"
      ],
      "execution_count": null,
      "outputs": []
    },
    {
      "cell_type": "code",
      "metadata": {
        "id": "yL3qhGlvLzEe",
        "outputId": "2fa28465-d7e4-4f5f-f6d5-0f7e926a7f61"
      },
      "source": [
        "# Plot out result using scatter using the first 2 components of PCA\n",
        "# Your code here\n",
        "fig = plt.figure(figsize=(25, 10))\n",
        "plt.scatter(X[:, 0], X[:, 1])"
      ],
      "execution_count": null,
      "outputs": [
        {
          "output_type": "error",
          "ename": "TypeError",
          "evalue": "unhashable type: 'slice'",
          "traceback": [
            "\u001b[0;31m---------------------------------------------------------------------------\u001b[0m",
            "\u001b[0;31mTypeError\u001b[0m                                 Traceback (most recent call last)",
            "\u001b[0;32m<ipython-input-269-298941036f19>\u001b[0m in \u001b[0;36m<module>\u001b[0;34m\u001b[0m\n\u001b[1;32m      2\u001b[0m \u001b[0;31m# Your code here\u001b[0m\u001b[0;34m\u001b[0m\u001b[0;34m\u001b[0m\u001b[0;34m\u001b[0m\u001b[0m\n\u001b[1;32m      3\u001b[0m \u001b[0mfig\u001b[0m \u001b[0;34m=\u001b[0m \u001b[0mplt\u001b[0m\u001b[0;34m.\u001b[0m\u001b[0mfigure\u001b[0m\u001b[0;34m(\u001b[0m\u001b[0mfigsize\u001b[0m\u001b[0;34m=\u001b[0m\u001b[0;34m(\u001b[0m\u001b[0;36m25\u001b[0m\u001b[0;34m,\u001b[0m \u001b[0;36m10\u001b[0m\u001b[0;34m)\u001b[0m\u001b[0;34m)\u001b[0m\u001b[0;34m\u001b[0m\u001b[0;34m\u001b[0m\u001b[0m\n\u001b[0;32m----> 4\u001b[0;31m \u001b[0mplt\u001b[0m\u001b[0;34m.\u001b[0m\u001b[0mscatter\u001b[0m\u001b[0;34m(\u001b[0m\u001b[0mX\u001b[0m\u001b[0;34m[\u001b[0m\u001b[0;34m:\u001b[0m\u001b[0;34m,\u001b[0m \u001b[0;36m0\u001b[0m\u001b[0;34m]\u001b[0m\u001b[0;34m,\u001b[0m \u001b[0mX\u001b[0m\u001b[0;34m[\u001b[0m\u001b[0;34m:\u001b[0m\u001b[0;34m,\u001b[0m \u001b[0;36m1\u001b[0m\u001b[0;34m]\u001b[0m\u001b[0;34m)\u001b[0m\u001b[0;34m\u001b[0m\u001b[0;34m\u001b[0m\u001b[0m\n\u001b[0m",
            "\u001b[0;32m/anaconda3/lib/python3.7/site-packages/pandas/core/frame.py\u001b[0m in \u001b[0;36m__getitem__\u001b[0;34m(self, key)\u001b[0m\n\u001b[1;32m   2686\u001b[0m             \u001b[0;32mreturn\u001b[0m \u001b[0mself\u001b[0m\u001b[0;34m.\u001b[0m\u001b[0m_getitem_multilevel\u001b[0m\u001b[0;34m(\u001b[0m\u001b[0mkey\u001b[0m\u001b[0;34m)\u001b[0m\u001b[0;34m\u001b[0m\u001b[0;34m\u001b[0m\u001b[0m\n\u001b[1;32m   2687\u001b[0m         \u001b[0;32melse\u001b[0m\u001b[0;34m:\u001b[0m\u001b[0;34m\u001b[0m\u001b[0;34m\u001b[0m\u001b[0m\n\u001b[0;32m-> 2688\u001b[0;31m             \u001b[0;32mreturn\u001b[0m \u001b[0mself\u001b[0m\u001b[0;34m.\u001b[0m\u001b[0m_getitem_column\u001b[0m\u001b[0;34m(\u001b[0m\u001b[0mkey\u001b[0m\u001b[0;34m)\u001b[0m\u001b[0;34m\u001b[0m\u001b[0;34m\u001b[0m\u001b[0m\n\u001b[0m\u001b[1;32m   2689\u001b[0m \u001b[0;34m\u001b[0m\u001b[0m\n\u001b[1;32m   2690\u001b[0m     \u001b[0;32mdef\u001b[0m \u001b[0m_getitem_column\u001b[0m\u001b[0;34m(\u001b[0m\u001b[0mself\u001b[0m\u001b[0;34m,\u001b[0m \u001b[0mkey\u001b[0m\u001b[0;34m)\u001b[0m\u001b[0;34m:\u001b[0m\u001b[0;34m\u001b[0m\u001b[0;34m\u001b[0m\u001b[0m\n",
            "\u001b[0;32m/anaconda3/lib/python3.7/site-packages/pandas/core/frame.py\u001b[0m in \u001b[0;36m_getitem_column\u001b[0;34m(self, key)\u001b[0m\n\u001b[1;32m   2693\u001b[0m         \u001b[0;31m# get column\u001b[0m\u001b[0;34m\u001b[0m\u001b[0;34m\u001b[0m\u001b[0;34m\u001b[0m\u001b[0m\n\u001b[1;32m   2694\u001b[0m         \u001b[0;32mif\u001b[0m \u001b[0mself\u001b[0m\u001b[0;34m.\u001b[0m\u001b[0mcolumns\u001b[0m\u001b[0;34m.\u001b[0m\u001b[0mis_unique\u001b[0m\u001b[0;34m:\u001b[0m\u001b[0;34m\u001b[0m\u001b[0;34m\u001b[0m\u001b[0m\n\u001b[0;32m-> 2695\u001b[0;31m             \u001b[0;32mreturn\u001b[0m \u001b[0mself\u001b[0m\u001b[0;34m.\u001b[0m\u001b[0m_get_item_cache\u001b[0m\u001b[0;34m(\u001b[0m\u001b[0mkey\u001b[0m\u001b[0;34m)\u001b[0m\u001b[0;34m\u001b[0m\u001b[0;34m\u001b[0m\u001b[0m\n\u001b[0m\u001b[1;32m   2696\u001b[0m \u001b[0;34m\u001b[0m\u001b[0m\n\u001b[1;32m   2697\u001b[0m         \u001b[0;31m# duplicate columns & possible reduce dimensionality\u001b[0m\u001b[0;34m\u001b[0m\u001b[0;34m\u001b[0m\u001b[0;34m\u001b[0m\u001b[0m\n",
            "\u001b[0;32m/anaconda3/lib/python3.7/site-packages/pandas/core/generic.py\u001b[0m in \u001b[0;36m_get_item_cache\u001b[0;34m(self, item)\u001b[0m\n\u001b[1;32m   2485\u001b[0m         \u001b[0;34m\"\"\"Return the cached item, item represents a label indexer.\"\"\"\u001b[0m\u001b[0;34m\u001b[0m\u001b[0;34m\u001b[0m\u001b[0m\n\u001b[1;32m   2486\u001b[0m         \u001b[0mcache\u001b[0m \u001b[0;34m=\u001b[0m \u001b[0mself\u001b[0m\u001b[0;34m.\u001b[0m\u001b[0m_item_cache\u001b[0m\u001b[0;34m\u001b[0m\u001b[0;34m\u001b[0m\u001b[0m\n\u001b[0;32m-> 2487\u001b[0;31m         \u001b[0mres\u001b[0m \u001b[0;34m=\u001b[0m \u001b[0mcache\u001b[0m\u001b[0;34m.\u001b[0m\u001b[0mget\u001b[0m\u001b[0;34m(\u001b[0m\u001b[0mitem\u001b[0m\u001b[0;34m)\u001b[0m\u001b[0;34m\u001b[0m\u001b[0;34m\u001b[0m\u001b[0m\n\u001b[0m\u001b[1;32m   2488\u001b[0m         \u001b[0;32mif\u001b[0m \u001b[0mres\u001b[0m \u001b[0;32mis\u001b[0m \u001b[0;32mNone\u001b[0m\u001b[0;34m:\u001b[0m\u001b[0;34m\u001b[0m\u001b[0;34m\u001b[0m\u001b[0m\n\u001b[1;32m   2489\u001b[0m             \u001b[0mvalues\u001b[0m \u001b[0;34m=\u001b[0m \u001b[0mself\u001b[0m\u001b[0;34m.\u001b[0m\u001b[0m_data\u001b[0m\u001b[0;34m.\u001b[0m\u001b[0mget\u001b[0m\u001b[0;34m(\u001b[0m\u001b[0mitem\u001b[0m\u001b[0;34m)\u001b[0m\u001b[0;34m\u001b[0m\u001b[0;34m\u001b[0m\u001b[0m\n",
            "\u001b[0;31mTypeError\u001b[0m: unhashable type: 'slice'"
          ]
        },
        {
          "output_type": "display_data",
          "data": {
            "text/plain": [
              "<Figure size 1800x720 with 0 Axes>"
            ]
          },
          "metadata": {
            "tags": []
          }
        }
      ]
    },
    {
      "cell_type": "markdown",
      "metadata": {
        "id": "r6CVCgVgLzEh"
      },
      "source": [
        "## Great job!!!"
      ]
    }
  ]
}