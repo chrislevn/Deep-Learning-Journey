{
  "nbformat": 4,
  "nbformat_minor": 0,
  "metadata": {
    "colab": {
      "name": "TimeSeries_TFDataset.ipynb",
      "provenance": [],
      "collapsed_sections": []
    },
    "kernelspec": {
      "name": "python3",
      "display_name": "Python 3"
    },
    "accelerator": "GPU"
  },
  "cells": [
    {
      "cell_type": "markdown",
      "metadata": {
        "id": "UnwoQHLyS_OB"
      },
      "source": [
        "# Time Series with Tensorflow Dataset"
      ]
    },
    {
      "cell_type": "markdown",
      "metadata": {
        "id": "yL6mRW8zTDK8"
      },
      "source": [
        "## 1. Import the data and libraries"
      ]
    },
    {
      "cell_type": "code",
      "metadata": {
        "id": "3Eu4nmX0FcHn"
      },
      "source": [
        "import tensorflow as tf\n",
        "\n",
        "from tensorflow.keras.models import Sequential\n",
        "from tensorflow.keras.layers import Embedding, RNN, Dense, LSTM, Bidirectional, SimpleRNN\n",
        "from tensorflow.keras.optimizers import SGD"
      ],
      "execution_count": 18,
      "outputs": []
    },
    {
      "cell_type": "markdown",
      "metadata": {
        "id": "B5hxF8iKTHob"
      },
      "source": [
        "### Prepare the data"
      ]
    },
    {
      "cell_type": "code",
      "metadata": {
        "id": "S0uJ3j1pFuVd"
      },
      "source": [
        "dataset = tf.data.Dataset.range(10)"
      ],
      "execution_count": 19,
      "outputs": []
    },
    {
      "cell_type": "code",
      "metadata": {
        "id": "LuOz9LnkFzIf",
        "outputId": "deaac870-30dd-4f70-ac2f-629e9e02803a",
        "colab": {
          "base_uri": "https://localhost:8080/"
        }
      },
      "source": [
        "for val in dataset: \n",
        "  print(val.numpy())"
      ],
      "execution_count": 20,
      "outputs": [
        {
          "output_type": "stream",
          "text": [
            "0\n",
            "1\n",
            "2\n",
            "3\n",
            "4\n",
            "5\n",
            "6\n",
            "7\n",
            "8\n",
            "9\n"
          ],
          "name": "stdout"
        }
      ]
    },
    {
      "cell_type": "markdown",
      "metadata": {
        "id": "kxLzs1JoTaMR"
      },
      "source": [
        "## 2. Preprocess the data"
      ]
    },
    {
      "cell_type": "markdown",
      "metadata": {
        "id": "_HfYvqgKTKoR"
      },
      "source": [
        "### Shift the data to the future timeline"
      ]
    },
    {
      "cell_type": "code",
      "metadata": {
        "id": "TvXbgoZ7F3rF"
      },
      "source": [
        "dataset = dataset.window(5, shift=1 , drop_remainder=True)"
      ],
      "execution_count": 21,
      "outputs": []
    },
    {
      "cell_type": "code",
      "metadata": {
        "id": "7E0QHy5oF9HV",
        "outputId": "29a6bf39-a108-458d-c4e5-2cd22136938c",
        "colab": {
          "base_uri": "https://localhost:8080/"
        }
      },
      "source": [
        "for window in dataset: \n",
        "  for val in window: \n",
        "    print(val.numpy(), end=\" \")\n",
        "  print()"
      ],
      "execution_count": 22,
      "outputs": [
        {
          "output_type": "stream",
          "text": [
            "0 1 2 3 4 \n",
            "1 2 3 4 5 \n",
            "2 3 4 5 6 \n",
            "3 4 5 6 7 \n",
            "4 5 6 7 8 \n",
            "5 6 7 8 9 \n"
          ],
          "name": "stdout"
        }
      ]
    },
    {
      "cell_type": "code",
      "metadata": {
        "id": "fjZq9ejCGPdd"
      },
      "source": [
        "dataset = dataset.flat_map(lambda window: window.batch(5))"
      ],
      "execution_count": 23,
      "outputs": []
    },
    {
      "cell_type": "code",
      "metadata": {
        "id": "2usiohHHGViV",
        "outputId": "ea975d25-e319-4d1f-e32c-3b2553256e6c",
        "colab": {
          "base_uri": "https://localhost:8080/"
        }
      },
      "source": [
        "for window in dataset: \n",
        "  print(window.numpy())"
      ],
      "execution_count": 24,
      "outputs": [
        {
          "output_type": "stream",
          "text": [
            "[0 1 2 3 4]\n",
            "[1 2 3 4 5]\n",
            "[2 3 4 5 6]\n",
            "[3 4 5 6 7]\n",
            "[4 5 6 7 8]\n",
            "[5 6 7 8 9]\n"
          ],
          "name": "stdout"
        }
      ]
    },
    {
      "cell_type": "code",
      "metadata": {
        "id": "DTBKa5dEGctF"
      },
      "source": [
        "dataset = dataset.map(lambda window: (window[:-1], window[-1]))"
      ],
      "execution_count": 25,
      "outputs": []
    },
    {
      "cell_type": "code",
      "metadata": {
        "id": "2VrqsZhhGo6Y",
        "outputId": "be5e4031-20b9-4bfc-963e-3cdae166f545",
        "colab": {
          "base_uri": "https://localhost:8080/"
        }
      },
      "source": [
        "for window in dataset: \n",
        "  print(window)"
      ],
      "execution_count": 26,
      "outputs": [
        {
          "output_type": "stream",
          "text": [
            "(<tf.Tensor: shape=(4,), dtype=int64, numpy=array([0, 1, 2, 3])>, <tf.Tensor: shape=(), dtype=int64, numpy=4>)\n",
            "(<tf.Tensor: shape=(4,), dtype=int64, numpy=array([1, 2, 3, 4])>, <tf.Tensor: shape=(), dtype=int64, numpy=5>)\n",
            "(<tf.Tensor: shape=(4,), dtype=int64, numpy=array([2, 3, 4, 5])>, <tf.Tensor: shape=(), dtype=int64, numpy=6>)\n",
            "(<tf.Tensor: shape=(4,), dtype=int64, numpy=array([3, 4, 5, 6])>, <tf.Tensor: shape=(), dtype=int64, numpy=7>)\n",
            "(<tf.Tensor: shape=(4,), dtype=int64, numpy=array([4, 5, 6, 7])>, <tf.Tensor: shape=(), dtype=int64, numpy=8>)\n",
            "(<tf.Tensor: shape=(4,), dtype=int64, numpy=array([5, 6, 7, 8])>, <tf.Tensor: shape=(), dtype=int64, numpy=9>)\n"
          ],
          "name": "stdout"
        }
      ]
    },
    {
      "cell_type": "code",
      "metadata": {
        "id": "kM828a6uGsgQ"
      },
      "source": [
        "dataset = dataset.shuffle(buffer_size=10)"
      ],
      "execution_count": 27,
      "outputs": []
    },
    {
      "cell_type": "code",
      "metadata": {
        "id": "-kOHzzKGGyY1",
        "outputId": "98680b57-c7e0-4691-f5fb-5cd5de18bdf7",
        "colab": {
          "base_uri": "https://localhost:8080/"
        }
      },
      "source": [
        "for window in dataset: \n",
        "  print(window)"
      ],
      "execution_count": 28,
      "outputs": [
        {
          "output_type": "stream",
          "text": [
            "(<tf.Tensor: shape=(4,), dtype=int64, numpy=array([5, 6, 7, 8])>, <tf.Tensor: shape=(), dtype=int64, numpy=9>)\n",
            "(<tf.Tensor: shape=(4,), dtype=int64, numpy=array([0, 1, 2, 3])>, <tf.Tensor: shape=(), dtype=int64, numpy=4>)\n",
            "(<tf.Tensor: shape=(4,), dtype=int64, numpy=array([4, 5, 6, 7])>, <tf.Tensor: shape=(), dtype=int64, numpy=8>)\n",
            "(<tf.Tensor: shape=(4,), dtype=int64, numpy=array([1, 2, 3, 4])>, <tf.Tensor: shape=(), dtype=int64, numpy=5>)\n",
            "(<tf.Tensor: shape=(4,), dtype=int64, numpy=array([3, 4, 5, 6])>, <tf.Tensor: shape=(), dtype=int64, numpy=7>)\n",
            "(<tf.Tensor: shape=(4,), dtype=int64, numpy=array([2, 3, 4, 5])>, <tf.Tensor: shape=(), dtype=int64, numpy=6>)\n"
          ],
          "name": "stdout"
        }
      ]
    },
    {
      "cell_type": "code",
      "metadata": {
        "id": "CotZDYp2G5VM"
      },
      "source": [
        "dataset = dataset.batch(2)"
      ],
      "execution_count": 29,
      "outputs": []
    },
    {
      "cell_type": "code",
      "metadata": {
        "id": "MNeU0952G8Fg",
        "outputId": "ccfd0fe4-fa4a-4847-9618-bc30644273a7",
        "colab": {
          "base_uri": "https://localhost:8080/"
        }
      },
      "source": [
        "for window in dataset:\n",
        "  print(window)"
      ],
      "execution_count": 30,
      "outputs": [
        {
          "output_type": "stream",
          "text": [
            "(<tf.Tensor: shape=(2, 4), dtype=int64, numpy=\n",
            "array([[3, 4, 5, 6],\n",
            "       [0, 1, 2, 3]])>, <tf.Tensor: shape=(2,), dtype=int64, numpy=array([7, 4])>)\n",
            "(<tf.Tensor: shape=(2, 4), dtype=int64, numpy=\n",
            "array([[2, 3, 4, 5],\n",
            "       [5, 6, 7, 8]])>, <tf.Tensor: shape=(2,), dtype=int64, numpy=array([6, 9])>)\n",
            "(<tf.Tensor: shape=(2, 4), dtype=int64, numpy=\n",
            "array([[4, 5, 6, 7],\n",
            "       [1, 2, 3, 4]])>, <tf.Tensor: shape=(2,), dtype=int64, numpy=array([8, 5])>)\n"
          ],
          "name": "stdout"
        }
      ]
    },
    {
      "cell_type": "markdown",
      "metadata": {
        "id": "PdVmzJTMTR0c"
      },
      "source": [
        "### Important function"
      ]
    },
    {
      "cell_type": "code",
      "metadata": {
        "id": "WbfRW1bqHA1S"
      },
      "source": [
        "import numpy as np\n",
        "import matplotlib.pyplot as plt\n",
        "\n",
        "def plot_series(time, series, format=\"-\", start=0, end=None): \n",
        "  plt.plot(time[start:end], series[start:end], format)\n",
        "  plt.xlabel('Time')\n",
        "  plt.ylabel('Value')\n",
        "  plt.grid(True)\n",
        "\n",
        "def trend(time, slope=0): \n",
        "  return slope*time\n",
        "\n",
        "def seasonal_pattern(season_time): \n",
        "  return np.where(season_time < 0.4, \n",
        "                  np.cos(season_time * 2 * np.pi), \n",
        "                  1 / np.exp(3 * season_time))\n",
        "\n",
        "def seasonality(time, period, amplitude=1, phase=0): \n",
        "  season_time = ((time+phase) % period) / period\n",
        "  return amplitude * seasonal_pattern(season_time)\n",
        "\n",
        "def noise(time, noise_level=1, seed=None): \n",
        "  rnd = np.random.RandomState(seed)\n",
        "  return rnd.randn(len(time)) * noise_level"
      ],
      "execution_count": 46,
      "outputs": []
    },
    {
      "cell_type": "code",
      "metadata": {
        "id": "FVFZUBJ2HNLb"
      },
      "source": [
        "time = np.arange(4 * 365 + 1, dtype=\"float32\")\n",
        "baseline = 10\n",
        "series = trend(time, 0.1)\n",
        "amplitude = 40\n",
        "slope = 0.05\n",
        "noise_level = 5"
      ],
      "execution_count": 32,
      "outputs": []
    },
    {
      "cell_type": "code",
      "metadata": {
        "id": "nXnJ_EFrHpz_"
      },
      "source": [
        "# Create the series \n",
        "series = baseline + trend(time, slope) + seasonality(time, period=365, amplitude=amplitude)\n",
        "\n",
        "#Update with noise\n",
        "series += noise(time, noise_level, seed=42)"
      ],
      "execution_count": 33,
      "outputs": []
    },
    {
      "cell_type": "code",
      "metadata": {
        "id": "KZ-I58jmIFjf",
        "outputId": "9a528812-c49d-4bd6-cc9b-ad0966d1cf83",
        "colab": {
          "base_uri": "https://localhost:8080/",
          "height": 279
        }
      },
      "source": [
        "plot_series(time, series)"
      ],
      "execution_count": 34,
      "outputs": [
        {
          "output_type": "display_data",
          "data": {
            "image/png": "[encoded data removed]",
            "text/plain": [
              "<Figure size 432x288 with 1 Axes>"
            ]
          },
          "metadata": {
            "tags": [],
            "needs_background": "light"
          }
        }
      ]
    },
    {
      "cell_type": "markdown",
      "metadata": {
        "id": "ifzQ8evGTVK6"
      },
      "source": [
        "## Define the constants"
      ]
    },
    {
      "cell_type": "code",
      "metadata": {
        "id": "YtZp7REdINY-"
      },
      "source": [
        "window_size = 20\n",
        "batch_size = 32\n",
        "shuffle_size = 1000\n",
        "\n",
        "split_time = 1000\n",
        "time_train = time[:split_time]\n",
        "x_train = series[:split_time]\n",
        "\n",
        "time_valid = time[split_time:]\n",
        "x_valid = series[split_time:]"
      ],
      "execution_count": 35,
      "outputs": []
    },
    {
      "cell_type": "code",
      "metadata": {
        "id": "FywDN__aIkRX"
      },
      "source": [
        "def windowed_ds(series, window_size, batch_size, shuffle_size): \n",
        "  dataset = tf.data.Dataset.from_tensor_slices(series)\n",
        "\n",
        "  # Shift the dataset\n",
        "  dataset = dataset.window(window_size + 1, shift=1, drop_remainder=True)\n",
        "\n",
        "  # Flat_map to ensure the order of the dataset is the same\n",
        "  dataset = dataset.flat_map(lambda window: window.batch(window_size + 1))\n",
        "\n",
        "  # Shuffle the dataset\n",
        "  dataset = dataset.shuffle(shuffle_size).map(lambda window: (window[:-1], window[-1]))\n",
        "\n",
        "  # Prefetch to reduce the step time toi the maxium and the time to extract the data\n",
        "  dataset = dataset.batch(batch_size).prefetch(1)\n",
        "\n",
        "  return dataset"
      ],
      "execution_count": 36,
      "outputs": []
    },
    {
      "cell_type": "code",
      "metadata": {
        "id": "mB-8mc-BJM-_"
      },
      "source": [
        "dataset = windowed_ds(series, window_size, batch_size, shuffle_size)"
      ],
      "execution_count": 37,
      "outputs": []
    },
    {
      "cell_type": "markdown",
      "metadata": {
        "id": "KteezustTXtg"
      },
      "source": [
        "## 3. Create the model"
      ]
    },
    {
      "cell_type": "code",
      "metadata": {
        "id": "jZGfZwjNJzH-",
        "outputId": "814ec59a-d0f5-47ac-f148-d2b98597fb0b",
        "colab": {
          "base_uri": "https://localhost:8080/"
        }
      },
      "source": [
        "model = Sequential([\n",
        "                    Dense(10, input_shape=[window_size], activation='relu'), \n",
        "                    Dense(10, activation='relu'), \n",
        "                    Dense(1)\n",
        "])\n",
        "\n",
        "model.compile(loss='mse', optimizer=SGD(lr=1e-6, momentum=0.9))\n",
        "model.summary()"
      ],
      "execution_count": 38,
      "outputs": [
        {
          "output_type": "stream",
          "text": [
            "Model: \"sequential\"\n",
            "_________________________________________________________________\n",
            "Layer (type)                 Output Shape              Param #   \n",
            "=================================================================\n",
            "dense (Dense)                (None, 10)                210       \n",
            "_________________________________________________________________\n",
            "dense_1 (Dense)              (None, 10)                110       \n",
            "_________________________________________________________________\n",
            "dense_2 (Dense)              (None, 1)                 11        \n",
            "=================================================================\n",
            "Total params: 331\n",
            "Trainable params: 331\n",
            "Non-trainable params: 0\n",
            "_________________________________________________________________\n"
          ],
          "name": "stdout"
        }
      ]
    },
    {
      "cell_type": "markdown",
      "metadata": {
        "id": "-Xo5rApZThbW"
      },
      "source": [
        "### Train the model"
      ]
    },
    {
      "cell_type": "code",
      "metadata": {
        "id": "jmmCAxNTLEfw",
        "outputId": "a37d220c-554e-4751-b334-32d0a679e9f6",
        "colab": {
          "base_uri": "https://localhost:8080/"
        }
      },
      "source": [
        "history = model.fit(dataset, epochs=100, verbose=1)"
      ],
      "execution_count": 39,
      "outputs": [
        {
          "output_type": "stream",
          "text": [
            "Epoch 1/100\n",
            "46/46 [==============================] - 0s 3ms/step - loss: 415.8874\n",
            "Epoch 2/100\n",
            "46/46 [==============================] - 0s 2ms/step - loss: 67.6833\n",
            "Epoch 3/100\n",
            "46/46 [==============================] - 0s 3ms/step - loss: 66.3140\n",
            "Epoch 4/100\n",
            "46/46 [==============================] - 0s 3ms/step - loss: 64.1212\n",
            "Epoch 5/100\n",
            "46/46 [==============================] - 0s 3ms/step - loss: 69.5340\n",
            "Epoch 6/100\n",
            "46/46 [==============================] - 0s 3ms/step - loss: 60.8950\n",
            "Epoch 7/100\n",
            "46/46 [==============================] - 0s 3ms/step - loss: 59.9745\n",
            "Epoch 8/100\n",
            "46/46 [==============================] - 0s 3ms/step - loss: 59.3421\n",
            "Epoch 9/100\n",
            "46/46 [==============================] - 0s 3ms/step - loss: 57.7647\n",
            "Epoch 10/100\n",
            "46/46 [==============================] - 0s 3ms/step - loss: 56.7173\n",
            "Epoch 11/100\n",
            "46/46 [==============================] - 0s 3ms/step - loss: 55.4798\n",
            "Epoch 12/100\n",
            "46/46 [==============================] - 0s 3ms/step - loss: 54.9671\n",
            "Epoch 13/100\n",
            "46/46 [==============================] - 0s 3ms/step - loss: 55.2174\n",
            "Epoch 14/100\n",
            "46/46 [==============================] - 0s 3ms/step - loss: 53.6349\n",
            "Epoch 15/100\n",
            "46/46 [==============================] - 0s 3ms/step - loss: 52.9030\n",
            "Epoch 16/100\n",
            "46/46 [==============================] - 0s 3ms/step - loss: 52.3244\n",
            "Epoch 17/100\n",
            "46/46 [==============================] - 0s 3ms/step - loss: 51.8512\n",
            "Epoch 18/100\n",
            "46/46 [==============================] - 0s 3ms/step - loss: 51.7956\n",
            "Epoch 19/100\n",
            "46/46 [==============================] - 0s 3ms/step - loss: 51.8909\n",
            "Epoch 20/100\n",
            "46/46 [==============================] - 0s 3ms/step - loss: 51.5410\n",
            "Epoch 21/100\n",
            "46/46 [==============================] - 0s 3ms/step - loss: 51.3597\n",
            "Epoch 22/100\n",
            "46/46 [==============================] - 0s 3ms/step - loss: 50.7777\n",
            "Epoch 23/100\n",
            "46/46 [==============================] - 0s 3ms/step - loss: 50.7209\n",
            "Epoch 24/100\n",
            "46/46 [==============================] - 0s 3ms/step - loss: 50.3399\n",
            "Epoch 25/100\n",
            "46/46 [==============================] - 0s 3ms/step - loss: 50.2795\n",
            "Epoch 26/100\n",
            "46/46 [==============================] - 0s 3ms/step - loss: 50.2484\n",
            "Epoch 27/100\n",
            "46/46 [==============================] - 0s 3ms/step - loss: 50.2667\n",
            "Epoch 28/100\n",
            "46/46 [==============================] - 0s 3ms/step - loss: 49.5480\n",
            "Epoch 29/100\n",
            "46/46 [==============================] - 0s 3ms/step - loss: 49.4595\n",
            "Epoch 30/100\n",
            "46/46 [==============================] - 0s 3ms/step - loss: 49.5433\n",
            "Epoch 31/100\n",
            "46/46 [==============================] - 0s 3ms/step - loss: 49.7587\n",
            "Epoch 32/100\n",
            "46/46 [==============================] - 0s 3ms/step - loss: 49.9968\n",
            "Epoch 33/100\n",
            "46/46 [==============================] - 0s 3ms/step - loss: 49.9732\n",
            "Epoch 34/100\n",
            "46/46 [==============================] - 0s 3ms/step - loss: 48.6992\n",
            "Epoch 35/100\n",
            "46/46 [==============================] - 0s 3ms/step - loss: 48.9810\n",
            "Epoch 36/100\n",
            "46/46 [==============================] - 0s 3ms/step - loss: 48.5685\n",
            "Epoch 37/100\n",
            "46/46 [==============================] - 0s 3ms/step - loss: 48.7031\n",
            "Epoch 38/100\n",
            "46/46 [==============================] - 0s 3ms/step - loss: 49.8298\n",
            "Epoch 39/100\n",
            "46/46 [==============================] - 0s 3ms/step - loss: 48.2390\n",
            "Epoch 40/100\n",
            "46/46 [==============================] - 0s 3ms/step - loss: 48.1608\n",
            "Epoch 41/100\n",
            "46/46 [==============================] - 0s 3ms/step - loss: 49.1572\n",
            "Epoch 42/100\n",
            "46/46 [==============================] - 0s 3ms/step - loss: 48.0245\n",
            "Epoch 43/100\n",
            "46/46 [==============================] - 0s 3ms/step - loss: 47.9991\n",
            "Epoch 44/100\n",
            "46/46 [==============================] - 0s 3ms/step - loss: 48.9980\n",
            "Epoch 45/100\n",
            "46/46 [==============================] - 0s 3ms/step - loss: 47.8647\n",
            "Epoch 46/100\n",
            "46/46 [==============================] - 0s 3ms/step - loss: 49.6071\n",
            "Epoch 47/100\n",
            "46/46 [==============================] - 0s 3ms/step - loss: 48.2402\n",
            "Epoch 48/100\n",
            "46/46 [==============================] - 0s 3ms/step - loss: 47.6968\n",
            "Epoch 49/100\n",
            "46/46 [==============================] - 0s 3ms/step - loss: 48.1537\n",
            "Epoch 50/100\n",
            "46/46 [==============================] - 0s 3ms/step - loss: 49.2525\n",
            "Epoch 51/100\n",
            "46/46 [==============================] - 0s 3ms/step - loss: 47.6846\n",
            "Epoch 52/100\n",
            "46/46 [==============================] - 0s 3ms/step - loss: 47.3825\n",
            "Epoch 53/100\n",
            "46/46 [==============================] - 0s 3ms/step - loss: 47.7693\n",
            "Epoch 54/100\n",
            "46/46 [==============================] - 0s 3ms/step - loss: 47.3508\n",
            "Epoch 55/100\n",
            "46/46 [==============================] - 0s 3ms/step - loss: 47.0529\n",
            "Epoch 56/100\n",
            "46/46 [==============================] - 0s 3ms/step - loss: 46.9032\n",
            "Epoch 57/100\n",
            "46/46 [==============================] - 0s 3ms/step - loss: 46.7904\n",
            "Epoch 58/100\n",
            "46/46 [==============================] - 0s 3ms/step - loss: 46.7176\n",
            "Epoch 59/100\n",
            "46/46 [==============================] - 0s 3ms/step - loss: 47.0074\n",
            "Epoch 60/100\n",
            "46/46 [==============================] - 0s 3ms/step - loss: 46.8037\n",
            "Epoch 61/100\n",
            "46/46 [==============================] - 0s 3ms/step - loss: 46.8946\n",
            "Epoch 62/100\n",
            "46/46 [==============================] - 0s 3ms/step - loss: 46.7580\n",
            "Epoch 63/100\n",
            "46/46 [==============================] - 0s 3ms/step - loss: 47.5358\n",
            "Epoch 64/100\n",
            "46/46 [==============================] - 0s 3ms/step - loss: 46.4901\n",
            "Epoch 65/100\n",
            "46/46 [==============================] - 0s 3ms/step - loss: 46.5475\n",
            "Epoch 66/100\n",
            "46/46 [==============================] - 0s 3ms/step - loss: 46.3565\n",
            "Epoch 67/100\n",
            "46/46 [==============================] - 0s 3ms/step - loss: 46.3872\n",
            "Epoch 68/100\n",
            "46/46 [==============================] - 0s 3ms/step - loss: 46.4478\n",
            "Epoch 69/100\n",
            "46/46 [==============================] - 0s 3ms/step - loss: 46.4681\n",
            "Epoch 70/100\n",
            "46/46 [==============================] - 0s 3ms/step - loss: 47.9924\n",
            "Epoch 71/100\n",
            "46/46 [==============================] - 0s 3ms/step - loss: 46.3137\n",
            "Epoch 72/100\n",
            "46/46 [==============================] - 0s 3ms/step - loss: 46.5664\n",
            "Epoch 73/100\n",
            "46/46 [==============================] - 0s 3ms/step - loss: 46.8001\n",
            "Epoch 74/100\n",
            "46/46 [==============================] - 0s 3ms/step - loss: 46.1007\n",
            "Epoch 75/100\n",
            "46/46 [==============================] - 0s 3ms/step - loss: 46.0646\n",
            "Epoch 76/100\n",
            "46/46 [==============================] - 0s 3ms/step - loss: 45.9261\n",
            "Epoch 77/100\n",
            "46/46 [==============================] - 0s 3ms/step - loss: 45.5978\n",
            "Epoch 78/100\n",
            "46/46 [==============================] - 0s 3ms/step - loss: 46.1000\n",
            "Epoch 79/100\n",
            "46/46 [==============================] - 0s 3ms/step - loss: 45.8553\n",
            "Epoch 80/100\n",
            "46/46 [==============================] - 0s 3ms/step - loss: 46.4509\n",
            "Epoch 81/100\n",
            "46/46 [==============================] - 0s 3ms/step - loss: 45.6090\n",
            "Epoch 82/100\n",
            "46/46 [==============================] - 0s 2ms/step - loss: 45.9095\n",
            "Epoch 83/100\n",
            "46/46 [==============================] - 0s 3ms/step - loss: 46.4231\n",
            "Epoch 84/100\n",
            "46/46 [==============================] - 0s 3ms/step - loss: 46.4757\n",
            "Epoch 85/100\n",
            "46/46 [==============================] - 0s 3ms/step - loss: 45.8522\n",
            "Epoch 86/100\n",
            "46/46 [==============================] - 0s 3ms/step - loss: 46.0071\n",
            "Epoch 87/100\n",
            "46/46 [==============================] - 0s 3ms/step - loss: 45.3530\n",
            "Epoch 88/100\n",
            "46/46 [==============================] - 0s 3ms/step - loss: 59.6125\n",
            "Epoch 89/100\n",
            "46/46 [==============================] - 0s 3ms/step - loss: 45.7709\n",
            "Epoch 90/100\n",
            "46/46 [==============================] - 0s 3ms/step - loss: 46.2002\n",
            "Epoch 91/100\n",
            "46/46 [==============================] - 0s 3ms/step - loss: 45.5419\n",
            "Epoch 92/100\n",
            "46/46 [==============================] - 0s 2ms/step - loss: 45.7676\n",
            "Epoch 93/100\n",
            "46/46 [==============================] - 0s 3ms/step - loss: 45.0712\n",
            "Epoch 94/100\n",
            "46/46 [==============================] - 0s 3ms/step - loss: 45.0460\n",
            "Epoch 95/100\n",
            "46/46 [==============================] - 0s 3ms/step - loss: 45.2925\n",
            "Epoch 96/100\n",
            "46/46 [==============================] - 0s 3ms/step - loss: 45.1909\n",
            "Epoch 97/100\n",
            "46/46 [==============================] - 0s 3ms/step - loss: 45.2058\n",
            "Epoch 98/100\n",
            "46/46 [==============================] - 0s 3ms/step - loss: 48.9005\n",
            "Epoch 99/100\n",
            "46/46 [==============================] - 0s 3ms/step - loss: 45.3694\n",
            "Epoch 100/100\n",
            "46/46 [==============================] - 0s 3ms/step - loss: 45.4027\n"
          ],
          "name": "stdout"
        }
      ]
    },
    {
      "cell_type": "markdown",
      "metadata": {
        "id": "1NY4EjiyTj0m"
      },
      "source": [
        "## 4. Do the prediction"
      ]
    },
    {
      "cell_type": "code",
      "metadata": {
        "id": "8ddufnXXLcPj"
      },
      "source": [
        "forecast = []\n",
        "\n",
        "for time in range(len(series) - window_size): \n",
        "  forecast.append(model.predict(series[time:time+window_size][np.newaxis]))\n",
        "\n",
        "forecast = forecast[split_time-window_size:]\n",
        "results = np.array(forecast)[:, 0, 0]"
      ],
      "execution_count": 42,
      "outputs": []
    },
    {
      "cell_type": "code",
      "metadata": {
        "id": "mkKzEy9OJc1o",
        "outputId": "5abc54d0-daf2-427f-d571-7dc3385aee68",
        "colab": {
          "base_uri": "https://localhost:8080/",
          "height": 388
        }
      },
      "source": [
        "plt.figure(figsize=(10, 6))\n",
        "\n",
        "plot_series(time_valid, x_valid)\n",
        "plot_series(time_valid, results)"
      ],
      "execution_count": 47,
      "outputs": [
        {
          "output_type": "display_data",
          "data": {
            "image/png": "[encoded data removed]",
            "text/plain": [
              "<Figure size 720x432 with 1 Axes>"
            ]
          },
          "metadata": {
            "tags": [],
            "needs_background": "light"
          }
        }
      ]
    }
  ]
}