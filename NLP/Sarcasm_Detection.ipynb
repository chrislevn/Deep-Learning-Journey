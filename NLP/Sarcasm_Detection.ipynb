{
  "nbformat": 4,
  "nbformat_minor": 0,
  "metadata": {
    "colab": {
      "name": "Sarcasm_Detection.ipynb",
      "provenance": [],
      "collapsed_sections": []
    },
    "kernelspec": {
      "name": "python3",
      "display_name": "Python 3"
    },
    "accelerator": "GPU"
  },
  "cells": [
    {
      "cell_type": "markdown",
      "metadata": {
        "id": "IyHX_AlnHBxu"
      },
      "source": [
        "# Dataset: Sarcasm"
      ]
    },
    {
      "cell_type": "markdown",
      "metadata": {
        "id": "7W9bDmHXHGQC"
      },
      "source": [
        "## 1. Import libraries and dataset"
      ]
    },
    {
      "cell_type": "code",
      "metadata": {
        "id": "14T-5vSyRVfd"
      },
      "source": [
        "import json \n",
        "import tensorflow as tf\n",
        "\n",
        "from tensorflow.keras.preprocessing.text import Tokenizer\n",
        "from tensorflow.keras.preprocessing.sequence import pad_sequences\n",
        "\n",
        "from tensorflow.keras.models import Sequential\n",
        "from tensorflow.keras.layers import Dense, Embedding, GlobalAveragePooling1D"
      ],
      "execution_count": null,
      "outputs": []
    },
    {
      "cell_type": "markdown",
      "metadata": {
        "id": "Nkwg6U1YHKY6"
      },
      "source": [
        "## Set the constants"
      ]
    },
    {
      "cell_type": "code",
      "metadata": {
        "id": "UPsRH_bPbCN6"
      },
      "source": [
        "vocab_size = 10000\n",
        "embedding_dimension = 16\n",
        "max_length = 100\n",
        "num_epochs = 30\n",
        "trunc_type = 'post'\n",
        "padding_type = 'post'\n",
        "oov_tok = '<OOV>'\n",
        "training_size = 20000"
      ],
      "execution_count": null,
      "outputs": []
    },
    {
      "cell_type": "code",
      "metadata": {
        "id": "j8KaDC4hbUtG",
        "outputId": "2cb4373d-25e1-4564-db08-09ceaf66a4a5",
        "colab": {
          "base_uri": "https://localhost:8080/",
          "height": 204
        }
      },
      "source": [
        "!wget --no-check-certificate \\\n",
        "  https://storage.googleapis.com/laurencemoroney-blog.appspot.com/sarcasm.json \\\n",
        "  -O tmp/sarcasm.json"
      ],
      "execution_count": null,
      "outputs": [
        {
          "output_type": "stream",
          "text": [
            "--2020-10-24 02:30:05--  https://storage.googleapis.com/laurencemoroney-blog.appspot.com/sarcasm.json\n",
            "Resolving storage.googleapis.com (storage.googleapis.com)... 74.125.195.128, 74.125.142.128, 173.194.202.128, ...\n",
            "Connecting to storage.googleapis.com (storage.googleapis.com)|74.125.195.128|:443... connected.\n",
            "HTTP request sent, awaiting response... 200 OK\n",
            "Length: 5643545 (5.4M) [application/json]\n",
            "Saving to: ‘tmp/sarcasm.json’\n",
            "\n",
            "\rtmp/sarcasm.json      0%[                    ]       0  --.-KB/s               \rtmp/sarcasm.json    100%[===================>]   5.38M  --.-KB/s    in 0.1s    \n",
            "\n",
            "2020-10-24 02:30:05 (55.3 MB/s) - ‘tmp/sarcasm.json’ saved [5643545/5643545]\n",
            "\n"
          ],
          "name": "stdout"
        }
      ]
    },
    {
      "cell_type": "markdown",
      "metadata": {
        "id": "43rUG2nnHNUf"
      },
      "source": [
        "## Read the dataset"
      ]
    },
    {
      "cell_type": "code",
      "metadata": {
        "id": "tSD6-TiWbpvE"
      },
      "source": [
        "with open('./tmp/sarcasm.json', 'r') as f: \n",
        "  datastore = json.load(f)\n",
        "\n",
        "sentences = []\n",
        "labels = []\n",
        "\n",
        "\n",
        "for item in datastore: \n",
        "  sentences.append(item['headline'])\n",
        "  labels.append(item['is_sarcastic'])\n",
        "\n",
        "import numpy as np\n",
        "labels = np.array(labels)"
      ],
      "execution_count": null,
      "outputs": []
    },
    {
      "cell_type": "markdown",
      "metadata": {
        "id": "OMa3cX5_HRmf"
      },
      "source": [
        "## 2. Preprocess the data"
      ]
    },
    {
      "cell_type": "code",
      "metadata": {
        "id": "O2UWMHVIcmyt"
      },
      "source": [
        "training_sentences = sentences[:training_size]\n",
        "testing_sentences = sentences[training_size:]\n",
        "\n",
        "training_labels = labels[:training_size]\n",
        "testing_labels = labels[training_size:]"
      ],
      "execution_count": null,
      "outputs": []
    },
    {
      "cell_type": "code",
      "metadata": {
        "id": "0RC2tJTTcmq3",
        "outputId": "16199310-d20b-44f9-bbf3-b112700f092e",
        "colab": {
          "base_uri": "https://localhost:8080/",
          "height": 34
        }
      },
      "source": [
        "len(training_labels)"
      ],
      "execution_count": null,
      "outputs": [
        {
          "output_type": "execute_result",
          "data": {
            "text/plain": [
              "20000"
            ]
          },
          "metadata": {
            "tags": []
          },
          "execution_count": 22
        }
      ]
    },
    {
      "cell_type": "markdown",
      "metadata": {
        "id": "LCJ36G3JHVA2"
      },
      "source": [
        "### Preprocess the data with tokenizer"
      ]
    },
    {
      "cell_type": "code",
      "metadata": {
        "id": "2lmQeOdNc4IQ"
      },
      "source": [
        "tokenizer = Tokenizer(num_words=vocab_size, oov_token=oov_tok)\n",
        "\n",
        "tokenizer.fit_on_texts(training_sentences)\n",
        "\n",
        "training_sequences = tokenizer.texts_to_sequences(training_sentences)\n",
        "\n",
        "training_padded = pad_sequences(training_sequences, \n",
        "                                maxlen=max_length, \n",
        "                                padding=padding_type, \n",
        "                                truncating=trunc_type)\n",
        "\n",
        "test_sequences = tokenizer.texts_to_sequences(testing_sentences)\n",
        "\n",
        "test_padded = pad_sequences(test_sequences)"
      ],
      "execution_count": null,
      "outputs": []
    },
    {
      "cell_type": "code",
      "metadata": {
        "id": "mpggXDqSdj9M",
        "outputId": "325fcab6-3b18-4a90-880d-8e846622e629",
        "colab": {
          "base_uri": "https://localhost:8080/",
          "height": 34
        }
      },
      "source": [
        "training_padded.shape"
      ],
      "execution_count": null,
      "outputs": [
        {
          "output_type": "execute_result",
          "data": {
            "text/plain": [
              "(20000, 100)"
            ]
          },
          "metadata": {
            "tags": []
          },
          "execution_count": 24
        }
      ]
    },
    {
      "cell_type": "code",
      "metadata": {
        "id": "qvQmtUoIdmFQ",
        "outputId": "d47faf11-f47c-4956-df8c-52070944483f",
        "colab": {
          "base_uri": "https://localhost:8080/",
          "height": 34
        }
      },
      "source": [
        "test_padded.shape"
      ],
      "execution_count": null,
      "outputs": [
        {
          "output_type": "execute_result",
          "data": {
            "text/plain": [
              "(6709, 38)"
            ]
          },
          "metadata": {
            "tags": []
          },
          "execution_count": 25
        }
      ]
    },
    {
      "cell_type": "markdown",
      "metadata": {
        "id": "61WYPJO3HakS"
      },
      "source": [
        "## 3. Create the model"
      ]
    },
    {
      "cell_type": "code",
      "metadata": {
        "id": "SmJLGbsfdn-s",
        "outputId": "5142d703-1976-4b0b-8df6-669d159e047a",
        "colab": {
          "base_uri": "https://localhost:8080/",
          "height": 289
        }
      },
      "source": [
        "model = Sequential([\n",
        "  Embedding(vocab_size, embedding_dimension, input_length=max_length),\n",
        "  GlobalAveragePooling1D(), \n",
        "  Dense(24, activation='relu'), \n",
        "  Dense(1, activation='sigmoid')                   \n",
        "])\n",
        "\n",
        "model.summary()"
      ],
      "execution_count": null,
      "outputs": [
        {
          "output_type": "stream",
          "text": [
            "Model: \"sequential_3\"\n",
            "_________________________________________________________________\n",
            "Layer (type)                 Output Shape              Param #   \n",
            "=================================================================\n",
            "embedding_3 (Embedding)      (None, 100, 16)           160000    \n",
            "_________________________________________________________________\n",
            "global_average_pooling1d_1 ( (None, 16)                0         \n",
            "_________________________________________________________________\n",
            "dense_6 (Dense)              (None, 24)                408       \n",
            "_________________________________________________________________\n",
            "dense_7 (Dense)              (None, 1)                 25        \n",
            "=================================================================\n",
            "Total params: 160,433\n",
            "Trainable params: 160,433\n",
            "Non-trainable params: 0\n",
            "_________________________________________________________________\n"
          ],
          "name": "stdout"
        }
      ]
    },
    {
      "cell_type": "code",
      "metadata": {
        "id": "OITeSBKQedLy"
      },
      "source": [
        "model.compile(loss='binary_crossentropy', optimizer='adam', metrics=['acc'])"
      ],
      "execution_count": null,
      "outputs": []
    },
    {
      "cell_type": "code",
      "metadata": {
        "id": "0CGcjo8Ue_DV"
      },
      "source": [
        "import tensorflow as tf\n",
        "import datetime"
      ],
      "execution_count": null,
      "outputs": []
    },
    {
      "cell_type": "code",
      "metadata": {
        "id": "APW6zVmPe_1Y"
      },
      "source": [
        "!rm -rf ./logs/ "
      ],
      "execution_count": null,
      "outputs": []
    },
    {
      "cell_type": "markdown",
      "metadata": {
        "id": "MPPmx-CmHdT-"
      },
      "source": [
        "## 4. Train the model"
      ]
    },
    {
      "cell_type": "code",
      "metadata": {
        "id": "93PcrZeUems2",
        "outputId": "084d3cf7-ba5d-489e-c398-42a18d820b2a",
        "colab": {
          "base_uri": "https://localhost:8080/",
          "height": 1000
        }
      },
      "source": [
        "history = model.fit(training_padded, \n",
        "          training_labels, \n",
        "          epochs = num_epochs, \n",
        "          validation_data=(test_padded, testing_labels) \n",
        "          )"
      ],
      "execution_count": null,
      "outputs": [
        {
          "output_type": "stream",
          "text": [
            "Epoch 1/30\n",
            "622/625 [============================>.] - ETA: 0s - loss: 0.6786 - acc: 0.5638WARNING:tensorflow:Model was constructed with shape (None, 100) for input Tensor(\"embedding_3_input:0\", shape=(None, 100), dtype=float32), but it was called on an input with incompatible shape (None, 38).\n",
            "625/625 [==============================] - 3s 4ms/step - loss: 0.6785 - acc: 0.5638 - val_loss: 0.5939 - val_acc: 0.7561\n",
            "Epoch 2/30\n",
            "625/625 [==============================] - 3s 4ms/step - loss: 0.4778 - acc: 0.8019 - val_loss: 0.4130 - val_acc: 0.8334\n",
            "Epoch 3/30\n",
            "625/625 [==============================] - 3s 4ms/step - loss: 0.3249 - acc: 0.8669 - val_loss: 0.4522 - val_acc: 0.8477\n",
            "Epoch 4/30\n",
            "625/625 [==============================] - 2s 4ms/step - loss: 0.2710 - acc: 0.8941 - val_loss: 0.4684 - val_acc: 0.8557\n",
            "Epoch 5/30\n",
            "625/625 [==============================] - 3s 4ms/step - loss: 0.2351 - acc: 0.9083 - val_loss: 0.4903 - val_acc: 0.8560\n",
            "Epoch 6/30\n",
            "625/625 [==============================] - 3s 4ms/step - loss: 0.2072 - acc: 0.9202 - val_loss: 0.5292 - val_acc: 0.8559\n",
            "Epoch 7/30\n",
            "625/625 [==============================] - 3s 4ms/step - loss: 0.1846 - acc: 0.9298 - val_loss: 0.5600 - val_acc: 0.8547\n",
            "Epoch 8/30\n",
            "625/625 [==============================] - 3s 4ms/step - loss: 0.1657 - acc: 0.9380 - val_loss: 0.5970 - val_acc: 0.8550\n",
            "Epoch 9/30\n",
            "625/625 [==============================] - 3s 4ms/step - loss: 0.1516 - acc: 0.9431 - val_loss: 0.6362 - val_acc: 0.8544\n",
            "Epoch 10/30\n",
            "625/625 [==============================] - 3s 4ms/step - loss: 0.1356 - acc: 0.9509 - val_loss: 0.6812 - val_acc: 0.8545\n",
            "Epoch 11/30\n",
            "625/625 [==============================] - 3s 4ms/step - loss: 0.1237 - acc: 0.9570 - val_loss: 0.7363 - val_acc: 0.8512\n",
            "Epoch 12/30\n",
            "625/625 [==============================] - 3s 4ms/step - loss: 0.1129 - acc: 0.9616 - val_loss: 0.7876 - val_acc: 0.8472\n",
            "Epoch 13/30\n",
            "625/625 [==============================] - 3s 4ms/step - loss: 0.1033 - acc: 0.9644 - val_loss: 0.8358 - val_acc: 0.8454\n",
            "Epoch 14/30\n",
            "625/625 [==============================] - 3s 4ms/step - loss: 0.0947 - acc: 0.9684 - val_loss: 0.8881 - val_acc: 0.8454\n",
            "Epoch 15/30\n",
            "625/625 [==============================] - 3s 4ms/step - loss: 0.0875 - acc: 0.9717 - val_loss: 0.9389 - val_acc: 0.8427\n",
            "Epoch 16/30\n",
            "625/625 [==============================] - 3s 4ms/step - loss: 0.0804 - acc: 0.9734 - val_loss: 0.9939 - val_acc: 0.8402\n",
            "Epoch 17/30\n",
            "625/625 [==============================] - 3s 4ms/step - loss: 0.0736 - acc: 0.9768 - val_loss: 1.0509 - val_acc: 0.8363\n",
            "Epoch 18/30\n",
            "625/625 [==============================] - 3s 4ms/step - loss: 0.0677 - acc: 0.9786 - val_loss: 1.1075 - val_acc: 0.8331\n",
            "Epoch 19/30\n",
            "625/625 [==============================] - 2s 4ms/step - loss: 0.0629 - acc: 0.9802 - val_loss: 1.1612 - val_acc: 0.8343\n",
            "Epoch 20/30\n",
            "625/625 [==============================] - 3s 4ms/step - loss: 0.0576 - acc: 0.9823 - val_loss: 1.2472 - val_acc: 0.8302\n",
            "Epoch 21/30\n",
            "625/625 [==============================] - 3s 4ms/step - loss: 0.0539 - acc: 0.9836 - val_loss: 1.2951 - val_acc: 0.8278\n",
            "Epoch 22/30\n",
            "625/625 [==============================] - 3s 4ms/step - loss: 0.0484 - acc: 0.9858 - val_loss: 1.3570 - val_acc: 0.8259\n",
            "Epoch 23/30\n",
            "625/625 [==============================] - 2s 4ms/step - loss: 0.0459 - acc: 0.9860 - val_loss: 1.4350 - val_acc: 0.8259\n",
            "Epoch 24/30\n",
            "625/625 [==============================] - 2s 4ms/step - loss: 0.0415 - acc: 0.9887 - val_loss: 1.5009 - val_acc: 0.8232\n",
            "Epoch 25/30\n",
            "625/625 [==============================] - 3s 4ms/step - loss: 0.0409 - acc: 0.9876 - val_loss: 1.5670 - val_acc: 0.8232\n",
            "Epoch 26/30\n",
            "625/625 [==============================] - 3s 4ms/step - loss: 0.0361 - acc: 0.9895 - val_loss: 1.6546 - val_acc: 0.8201\n",
            "Epoch 27/30\n",
            "625/625 [==============================] - 2s 4ms/step - loss: 0.0333 - acc: 0.9906 - val_loss: 1.7175 - val_acc: 0.8174\n",
            "Epoch 28/30\n",
            "625/625 [==============================] - 3s 4ms/step - loss: 0.0310 - acc: 0.9915 - val_loss: 1.8091 - val_acc: 0.8192\n",
            "Epoch 29/30\n",
            "625/625 [==============================] - 3s 4ms/step - loss: 0.0278 - acc: 0.9920 - val_loss: 1.8727 - val_acc: 0.8177\n",
            "Epoch 30/30\n",
            "625/625 [==============================] - 3s 4ms/step - loss: 0.0262 - acc: 0.9930 - val_loss: 1.9603 - val_acc: 0.8162\n"
          ],
          "name": "stdout"
        }
      ]
    },
    {
      "cell_type": "code",
      "metadata": {
        "id": "jYcHcAa8fxdb",
        "outputId": "bd92fa99-0ef5-4993-c165-6fe7c0216752",
        "colab": {
          "base_uri": "https://localhost:8080/",
          "height": 34
        }
      },
      "source": [
        "# Print the accuracy\n",
        "_, acc = model.evaluate(test_padded, testing_labels, verbose=0)\n",
        "print('Accuracry: {}'.format(acc * 100.0))"
      ],
      "execution_count": null,
      "outputs": [
        {
          "output_type": "stream",
          "text": [
            "Accuracry: 81.62170052528381\n"
          ],
          "name": "stdout"
        }
      ]
    },
    {
      "cell_type": "markdown",
      "metadata": {
        "id": "skxxEkW6HlIn"
      },
      "source": [
        "## 5. Plot the results"
      ]
    },
    {
      "cell_type": "code",
      "metadata": {
        "id": "6DVbZzTIfVPe",
        "outputId": "3bc3a0db-25b3-4ec0-98ca-116ea61566c3",
        "colab": {
          "base_uri": "https://localhost:8080/",
          "height": 295
        }
      },
      "source": [
        "import keras\n",
        "from matplotlib import pyplot as plt\n",
        "\n",
        "plt.plot(history.history['acc'])\n",
        "plt.plot(history.history['val_acc'])\n",
        "plt.title('model accuracy')\n",
        "plt.ylabel('accuracy')\n",
        "plt.xlabel('epoch')\n",
        "plt.legend(['train', 'val'], loc='upper left')\n",
        "plt.show()"
      ],
      "execution_count": null,
      "outputs": [
        {
          "output_type": "display_data",
          "data": {
            "image/png": "[encoded data removed]",
            "text/plain": [
              "<Figure size 432x288 with 1 Axes>"
            ]
          },
          "metadata": {
            "tags": [],
            "needs_background": "light"
          }
        }
      ]
    },
    {
      "cell_type": "code",
      "metadata": {
        "id": "gCwemkRUfZkE",
        "outputId": "f9d3c0c0-9680-4809-9cfa-46efc90955a8",
        "colab": {
          "base_uri": "https://localhost:8080/",
          "height": 295
        }
      },
      "source": [
        "plt.plot(history.history['loss'])\n",
        "plt.plot(history.history['val_loss'])\n",
        "plt.title('model loss')\n",
        "plt.ylabel('loss')\n",
        "plt.xlabel('epoch')\n",
        "plt.legend(['train', 'val'], loc='upper left')\n",
        "plt.show()"
      ],
      "execution_count": null,
      "outputs": [
        {
          "output_type": "display_data",
          "data": {
            "image/png": "[encoded data removed]",
            "text/plain": [
              "<Figure size 432x288 with 1 Axes>"
            ]
          },
          "metadata": {
            "tags": [],
            "needs_background": "light"
          }
        }
      ]
    },
    {
      "cell_type": "markdown",
      "metadata": {
        "id": "8JtCgancHoDw"
      },
      "source": [
        "## 6. Do the prediction"
      ]
    },
    {
      "cell_type": "code",
      "metadata": {
        "id": "PNF-ylFdgSF8",
        "outputId": "77715294-7507-4dbb-9e3d-09cd44349c9e",
        "colab": {
          "base_uri": "https://localhost:8080/",
          "height": 34
        }
      },
      "source": [
        "test_sen = ['Everyone seems normal until you get to know them.']\n",
        "\n",
        "test_sen_sequences = tokenizer.texts_to_sequences(test_sen)\n",
        "\n",
        "padded_test_sen_sequences = pad_sequences(test_sen_sequences, \n",
        "                                          maxlen=max_length, \n",
        "                                          padding=padding_type, \n",
        "                                          truncating=trunc_type)\n",
        "\n",
        "model.predict(padded_test_sen_sequences)"
      ],
      "execution_count": null,
      "outputs": [
        {
          "output_type": "execute_result",
          "data": {
            "text/plain": [
              "array([[0.99971515]], dtype=float32)"
            ]
          },
          "metadata": {
            "tags": []
          },
          "execution_count": 49
        }
      ]
    }
  ]
}